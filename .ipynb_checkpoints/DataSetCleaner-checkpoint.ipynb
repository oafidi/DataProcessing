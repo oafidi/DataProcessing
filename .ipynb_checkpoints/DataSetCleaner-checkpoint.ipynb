{
 "cells": [
  {
   "cell_type": "code",
   "execution_count": 195,
   "id": "0e391c2d-6449-43b1-9886-025c44952b89",
   "metadata": {},
   "outputs": [],
   "source": [
    "import pandas as pd\n",
    "import numpy as np\n",
    "from scipy.stats import f_oneway\n",
    "from datetime import datetime, time, timedelta\n",
    "import matplotlib.pyplot as plt\n",
    "import numpy as np\n",
    "from scipy.stats import gaussian_kde, skew\n",
    "from collections import Counter"
   ]
  },
  {
   "cell_type": "code",
   "execution_count": 196,
   "id": "db731f76-4bcd-46e7-8c5f-e984b1d35f06",
   "metadata": {},
   "outputs": [
    {
     "data": {
      "text/html": [
       "<div>\n",
       "<style scoped>\n",
       "    .dataframe tbody tr th:only-of-type {\n",
       "        vertical-align: middle;\n",
       "    }\n",
       "\n",
       "    .dataframe tbody tr th {\n",
       "        vertical-align: top;\n",
       "    }\n",
       "\n",
       "    .dataframe thead th {\n",
       "        text-align: right;\n",
       "    }\n",
       "</style>\n",
       "<table border=\"1\" class=\"dataframe\">\n",
       "  <thead>\n",
       "    <tr style=\"text-align: right;\">\n",
       "      <th></th>\n",
       "      <th>ID</th>\n",
       "      <th>Delivery_person_ID</th>\n",
       "      <th>Delivery_person_Age</th>\n",
       "      <th>Delivery_person_Ratings</th>\n",
       "      <th>Restaurant_latitude</th>\n",
       "      <th>Restaurant_longitude</th>\n",
       "      <th>Delivery_location_latitude</th>\n",
       "      <th>Delivery_location_longitude</th>\n",
       "      <th>Order_Date</th>\n",
       "      <th>Time_Orderd</th>\n",
       "      <th>Time_Order_picked</th>\n",
       "      <th>Weatherconditions</th>\n",
       "      <th>Road_traffic_density</th>\n",
       "      <th>Vehicle_condition</th>\n",
       "      <th>Type_of_order</th>\n",
       "      <th>Type_of_vehicle</th>\n",
       "      <th>multiple_deliveries</th>\n",
       "      <th>Festival</th>\n",
       "      <th>City</th>\n",
       "      <th>Time_taken(min)</th>\n",
       "    </tr>\n",
       "  </thead>\n",
       "  <tbody>\n",
       "    <tr>\n",
       "      <th>0</th>\n",
       "      <td>0x4607</td>\n",
       "      <td>INDORES13DEL02</td>\n",
       "      <td>37</td>\n",
       "      <td>4.9</td>\n",
       "      <td>22.745049</td>\n",
       "      <td>75.892471</td>\n",
       "      <td>22.765049</td>\n",
       "      <td>75.912471</td>\n",
       "      <td>19-03-2022</td>\n",
       "      <td>11:30:00</td>\n",
       "      <td>11:45:00</td>\n",
       "      <td>conditions Sunny</td>\n",
       "      <td>High</td>\n",
       "      <td>2</td>\n",
       "      <td>Snack</td>\n",
       "      <td>motorcycle</td>\n",
       "      <td>0</td>\n",
       "      <td>No</td>\n",
       "      <td>Urban</td>\n",
       "      <td>(min) 24</td>\n",
       "    </tr>\n",
       "    <tr>\n",
       "      <th>1</th>\n",
       "      <td>0xb379</td>\n",
       "      <td>BANGRES18DEL02</td>\n",
       "      <td>34</td>\n",
       "      <td>4.5</td>\n",
       "      <td>12.913041</td>\n",
       "      <td>77.683237</td>\n",
       "      <td>13.043041</td>\n",
       "      <td>77.813237</td>\n",
       "      <td>25-03-2022</td>\n",
       "      <td>19:45:00</td>\n",
       "      <td>19:50:00</td>\n",
       "      <td>conditions Stormy</td>\n",
       "      <td>Jam</td>\n",
       "      <td>2</td>\n",
       "      <td>Snack</td>\n",
       "      <td>scooter</td>\n",
       "      <td>1</td>\n",
       "      <td>No</td>\n",
       "      <td>Metropolitian</td>\n",
       "      <td>(min) 33</td>\n",
       "    </tr>\n",
       "    <tr>\n",
       "      <th>2</th>\n",
       "      <td>0x5d6d</td>\n",
       "      <td>BANGRES19DEL01</td>\n",
       "      <td>23</td>\n",
       "      <td>4.4</td>\n",
       "      <td>12.914264</td>\n",
       "      <td>77.678400</td>\n",
       "      <td>12.924264</td>\n",
       "      <td>77.688400</td>\n",
       "      <td>19-03-2022</td>\n",
       "      <td>08:30:00</td>\n",
       "      <td>08:45:00</td>\n",
       "      <td>conditions Sandstorms</td>\n",
       "      <td>Low</td>\n",
       "      <td>0</td>\n",
       "      <td>Drinks</td>\n",
       "      <td>motorcycle</td>\n",
       "      <td>1</td>\n",
       "      <td>No</td>\n",
       "      <td>Urban</td>\n",
       "      <td>(min) 26</td>\n",
       "    </tr>\n",
       "    <tr>\n",
       "      <th>3</th>\n",
       "      <td>0x7a6a</td>\n",
       "      <td>COIMBRES13DEL02</td>\n",
       "      <td>38</td>\n",
       "      <td>4.7</td>\n",
       "      <td>11.003669</td>\n",
       "      <td>76.976494</td>\n",
       "      <td>11.053669</td>\n",
       "      <td>77.026494</td>\n",
       "      <td>05-04-2022</td>\n",
       "      <td>18:00:00</td>\n",
       "      <td>18:10:00</td>\n",
       "      <td>conditions Sunny</td>\n",
       "      <td>Medium</td>\n",
       "      <td>0</td>\n",
       "      <td>Buffet</td>\n",
       "      <td>motorcycle</td>\n",
       "      <td>1</td>\n",
       "      <td>No</td>\n",
       "      <td>Metropolitian</td>\n",
       "      <td>(min) 21</td>\n",
       "    </tr>\n",
       "    <tr>\n",
       "      <th>4</th>\n",
       "      <td>0x70a2</td>\n",
       "      <td>CHENRES12DEL01</td>\n",
       "      <td>32</td>\n",
       "      <td>4.6</td>\n",
       "      <td>12.972793</td>\n",
       "      <td>80.249982</td>\n",
       "      <td>13.012793</td>\n",
       "      <td>80.289982</td>\n",
       "      <td>26-03-2022</td>\n",
       "      <td>13:30:00</td>\n",
       "      <td>13:45:00</td>\n",
       "      <td>conditions Cloudy</td>\n",
       "      <td>High</td>\n",
       "      <td>1</td>\n",
       "      <td>Snack</td>\n",
       "      <td>scooter</td>\n",
       "      <td>1</td>\n",
       "      <td>No</td>\n",
       "      <td>Metropolitian</td>\n",
       "      <td>(min) 30</td>\n",
       "    </tr>\n",
       "    <tr>\n",
       "      <th>5</th>\n",
       "      <td>0x9bb4</td>\n",
       "      <td>HYDRES09DEL03</td>\n",
       "      <td>22</td>\n",
       "      <td>4.8</td>\n",
       "      <td>17.431668</td>\n",
       "      <td>78.408321</td>\n",
       "      <td>17.461668</td>\n",
       "      <td>78.438321</td>\n",
       "      <td>11-03-2022</td>\n",
       "      <td>21:20:00</td>\n",
       "      <td>21:30:00</td>\n",
       "      <td>conditions Cloudy</td>\n",
       "      <td>Jam</td>\n",
       "      <td>0</td>\n",
       "      <td>Buffet</td>\n",
       "      <td>motorcycle</td>\n",
       "      <td>1</td>\n",
       "      <td>No</td>\n",
       "      <td>Urban</td>\n",
       "      <td>(min) 26</td>\n",
       "    </tr>\n",
       "    <tr>\n",
       "      <th>6</th>\n",
       "      <td>0x95b4</td>\n",
       "      <td>RANCHIRES15DEL01</td>\n",
       "      <td>33</td>\n",
       "      <td>4.7</td>\n",
       "      <td>23.369746</td>\n",
       "      <td>85.339820</td>\n",
       "      <td>23.479746</td>\n",
       "      <td>85.449820</td>\n",
       "      <td>04-03-2022</td>\n",
       "      <td>19:15:00</td>\n",
       "      <td>19:30:00</td>\n",
       "      <td>conditions Fog</td>\n",
       "      <td>Jam</td>\n",
       "      <td>1</td>\n",
       "      <td>Meal</td>\n",
       "      <td>scooter</td>\n",
       "      <td>1</td>\n",
       "      <td>No</td>\n",
       "      <td>Metropolitian</td>\n",
       "      <td>(min) 40</td>\n",
       "    </tr>\n",
       "    <tr>\n",
       "      <th>7</th>\n",
       "      <td>0x9eb2</td>\n",
       "      <td>MYSRES15DEL02</td>\n",
       "      <td>35</td>\n",
       "      <td>4.6</td>\n",
       "      <td>12.352058</td>\n",
       "      <td>76.606650</td>\n",
       "      <td>12.482058</td>\n",
       "      <td>76.736650</td>\n",
       "      <td>14-03-2022</td>\n",
       "      <td>17:25:00</td>\n",
       "      <td>17:30:00</td>\n",
       "      <td>conditions Cloudy</td>\n",
       "      <td>Medium</td>\n",
       "      <td>2</td>\n",
       "      <td>Meal</td>\n",
       "      <td>motorcycle</td>\n",
       "      <td>1</td>\n",
       "      <td>No</td>\n",
       "      <td>Metropolitian</td>\n",
       "      <td>(min) 32</td>\n",
       "    </tr>\n",
       "    <tr>\n",
       "      <th>8</th>\n",
       "      <td>0x1102</td>\n",
       "      <td>HYDRES05DEL02</td>\n",
       "      <td>22</td>\n",
       "      <td>4.8</td>\n",
       "      <td>17.433809</td>\n",
       "      <td>78.386744</td>\n",
       "      <td>17.563809</td>\n",
       "      <td>78.516744</td>\n",
       "      <td>20-03-2022</td>\n",
       "      <td>20:55:00</td>\n",
       "      <td>21:05:00</td>\n",
       "      <td>conditions Stormy</td>\n",
       "      <td>Jam</td>\n",
       "      <td>0</td>\n",
       "      <td>Buffet</td>\n",
       "      <td>motorcycle</td>\n",
       "      <td>1</td>\n",
       "      <td>No</td>\n",
       "      <td>Metropolitian</td>\n",
       "      <td>(min) 34</td>\n",
       "    </tr>\n",
       "    <tr>\n",
       "      <th>9</th>\n",
       "      <td>0xcdcd</td>\n",
       "      <td>DEHRES17DEL01</td>\n",
       "      <td>36</td>\n",
       "      <td>4.2</td>\n",
       "      <td>30.327968</td>\n",
       "      <td>78.046106</td>\n",
       "      <td>30.397968</td>\n",
       "      <td>78.116106</td>\n",
       "      <td>12-02-2022</td>\n",
       "      <td>21:55:00</td>\n",
       "      <td>22:10:00</td>\n",
       "      <td>conditions Fog</td>\n",
       "      <td>Jam</td>\n",
       "      <td>2</td>\n",
       "      <td>Snack</td>\n",
       "      <td>motorcycle</td>\n",
       "      <td>3</td>\n",
       "      <td>No</td>\n",
       "      <td>Metropolitian</td>\n",
       "      <td>(min) 46</td>\n",
       "    </tr>\n",
       "  </tbody>\n",
       "</table>\n",
       "</div>"
      ],
      "text/plain": [
       "        ID Delivery_person_ID Delivery_person_Age Delivery_person_Ratings  \\\n",
       "0  0x4607     INDORES13DEL02                   37                     4.9   \n",
       "1  0xb379     BANGRES18DEL02                   34                     4.5   \n",
       "2  0x5d6d     BANGRES19DEL01                   23                     4.4   \n",
       "3  0x7a6a    COIMBRES13DEL02                   38                     4.7   \n",
       "4  0x70a2     CHENRES12DEL01                   32                     4.6   \n",
       "5  0x9bb4      HYDRES09DEL03                   22                     4.8   \n",
       "6  0x95b4   RANCHIRES15DEL01                   33                     4.7   \n",
       "7  0x9eb2      MYSRES15DEL02                   35                     4.6   \n",
       "8  0x1102      HYDRES05DEL02                   22                     4.8   \n",
       "9  0xcdcd      DEHRES17DEL01                   36                     4.2   \n",
       "\n",
       "   Restaurant_latitude  Restaurant_longitude  Delivery_location_latitude  \\\n",
       "0            22.745049             75.892471                   22.765049   \n",
       "1            12.913041             77.683237                   13.043041   \n",
       "2            12.914264             77.678400                   12.924264   \n",
       "3            11.003669             76.976494                   11.053669   \n",
       "4            12.972793             80.249982                   13.012793   \n",
       "5            17.431668             78.408321                   17.461668   \n",
       "6            23.369746             85.339820                   23.479746   \n",
       "7            12.352058             76.606650                   12.482058   \n",
       "8            17.433809             78.386744                   17.563809   \n",
       "9            30.327968             78.046106                   30.397968   \n",
       "\n",
       "   Delivery_location_longitude  Order_Date Time_Orderd Time_Order_picked  \\\n",
       "0                    75.912471  19-03-2022    11:30:00          11:45:00   \n",
       "1                    77.813237  25-03-2022    19:45:00          19:50:00   \n",
       "2                    77.688400  19-03-2022    08:30:00          08:45:00   \n",
       "3                    77.026494  05-04-2022    18:00:00          18:10:00   \n",
       "4                    80.289982  26-03-2022    13:30:00          13:45:00   \n",
       "5                    78.438321  11-03-2022    21:20:00          21:30:00   \n",
       "6                    85.449820  04-03-2022    19:15:00          19:30:00   \n",
       "7                    76.736650  14-03-2022    17:25:00          17:30:00   \n",
       "8                    78.516744  20-03-2022    20:55:00          21:05:00   \n",
       "9                    78.116106  12-02-2022    21:55:00          22:10:00   \n",
       "\n",
       "       Weatherconditions Road_traffic_density  Vehicle_condition  \\\n",
       "0       conditions Sunny                High                   2   \n",
       "1      conditions Stormy                 Jam                   2   \n",
       "2  conditions Sandstorms                 Low                   0   \n",
       "3       conditions Sunny              Medium                   0   \n",
       "4      conditions Cloudy                High                   1   \n",
       "5      conditions Cloudy                 Jam                   0   \n",
       "6         conditions Fog                 Jam                   1   \n",
       "7      conditions Cloudy              Medium                   2   \n",
       "8      conditions Stormy                 Jam                   0   \n",
       "9         conditions Fog                 Jam                   2   \n",
       "\n",
       "  Type_of_order Type_of_vehicle multiple_deliveries Festival            City  \\\n",
       "0        Snack      motorcycle                    0      No           Urban    \n",
       "1        Snack         scooter                    1      No   Metropolitian    \n",
       "2       Drinks      motorcycle                    1      No           Urban    \n",
       "3       Buffet      motorcycle                    1      No   Metropolitian    \n",
       "4        Snack         scooter                    1      No   Metropolitian    \n",
       "5       Buffet      motorcycle                    1      No           Urban    \n",
       "6         Meal         scooter                    1      No   Metropolitian    \n",
       "7         Meal      motorcycle                    1      No   Metropolitian    \n",
       "8       Buffet      motorcycle                    1      No   Metropolitian    \n",
       "9        Snack      motorcycle                    3      No   Metropolitian    \n",
       "\n",
       "  Time_taken(min)  \n",
       "0        (min) 24  \n",
       "1        (min) 33  \n",
       "2        (min) 26  \n",
       "3        (min) 21  \n",
       "4        (min) 30  \n",
       "5        (min) 26  \n",
       "6        (min) 40  \n",
       "7        (min) 32  \n",
       "8        (min) 34  \n",
       "9        (min) 46  "
      ]
     },
     "execution_count": 196,
     "metadata": {},
     "output_type": "execute_result"
    }
   ],
   "source": [
    "df = pd.read_csv(\"Train.csv\")\n",
    "df.head(10)"
   ]
  },
  {
   "cell_type": "code",
   "execution_count": 197,
   "id": "3532fd77-ef64-4e35-9b56-f95922132424",
   "metadata": {},
   "outputs": [
    {
     "name": "stdout",
     "output_type": "stream",
     "text": [
      "Total Observations (rows): 45593\n",
      "Total Features (columns): 20\n"
     ]
    }
   ],
   "source": [
    "print(f\"Total Observations (rows): {df.shape[0]}\")\n",
    "print(f\"Total Features (columns): {df.shape[1]}\")\n"
   ]
  },
  {
   "cell_type": "markdown",
   "id": "0c36d234-08fb-4aa4-ad90-13723903b929",
   "metadata": {},
   "source": [
    "##  **Data Cleaning**"
   ]
  },
  {
   "cell_type": "code",
   "execution_count": 198,
   "id": "a54fc749-c31a-4e9e-876d-493b266621ef",
   "metadata": {},
   "outputs": [
    {
     "name": "stdout",
     "output_type": "stream",
     "text": [
      "ID                              object\n",
      "Delivery_person_ID              object\n",
      "Delivery_person_Age             object\n",
      "Delivery_person_Ratings         object\n",
      "Restaurant_latitude            float64\n",
      "Restaurant_longitude           float64\n",
      "Delivery_location_latitude     float64\n",
      "Delivery_location_longitude    float64\n",
      "Order_Date                      object\n",
      "Time_Orderd                     object\n",
      "Time_Order_picked               object\n",
      "Weatherconditions               object\n",
      "Road_traffic_density            object\n",
      "Vehicle_condition                int64\n",
      "Type_of_order                   object\n",
      "Type_of_vehicle                 object\n",
      "multiple_deliveries             object\n",
      "Festival                        object\n",
      "City                            object\n",
      "Time_taken(min)                 object\n",
      "dtype: object\n"
     ]
    }
   ],
   "source": [
    "print(df.dtypes)"
   ]
  },
  {
   "cell_type": "code",
   "execution_count": 199,
   "id": "5137f8a8-0b93-4f3d-aa44-2aceb9486895",
   "metadata": {},
   "outputs": [],
   "source": [
    "#Renaming Weatherconditions column\n",
    "df.rename(columns={'Weatherconditions':'Weather_conditions', 'Time_Orderd': 'Time_Ordered'},inplace=True)\n",
    "#Renaming City column\n",
    "df.rename(columns={'City': 'Area_Type'}, inplace=True)\n",
    "df['Area_Type'] = df['Area_Type'].replace({'Metropolitian': 'Metropolitan'})"
   ]
  },
  {
   "cell_type": "code",
   "execution_count": 200,
   "id": "4d8e94af-a0f2-4df3-9f43-905a2b669c1f",
   "metadata": {},
   "outputs": [
    {
     "name": "stdout",
     "output_type": "stream",
     "text": [
      "0    (min) 24\n",
      "1    (min) 33\n",
      "2    (min) 26\n",
      "3    (min) 21\n",
      "4    (min) 30\n",
      "Name: Time_taken(min), dtype: object\n"
     ]
    }
   ],
   "source": [
    "print(df['Time_taken(min)'].iloc[:5])"
   ]
  },
  {
   "cell_type": "code",
   "execution_count": 201,
   "id": "e92771f2-7cb8-41e7-a89a-6e8f23f80ff4",
   "metadata": {},
   "outputs": [],
   "source": [
    "#Extract time and convert it to int\n",
    "df['Time_taken(min)'] = df['Time_taken(min)'].astype(str).str.extract(r'(\\d+)').astype(int)"
   ]
  },
  {
   "cell_type": "code",
   "execution_count": 202,
   "id": "2779c1bd-0f32-439f-969b-7b8b35642f79",
   "metadata": {},
   "outputs": [
    {
     "name": "stdout",
     "output_type": "stream",
     "text": [
      "['conditions Sunny' 'conditions Stormy' 'conditions Sandstorms'\n",
      " 'conditions Cloudy' 'conditions Fog' 'conditions Windy' 'conditions NaN']\n"
     ]
    }
   ],
   "source": [
    "print(df[\"Weather_conditions\"].unique())"
   ]
  },
  {
   "cell_type": "code",
   "execution_count": 203,
   "id": "4717124f-9c96-470d-b447-82287dbf906b",
   "metadata": {},
   "outputs": [],
   "source": [
    "df[\"Weather_conditions\"] = df[\"Weather_conditions\"].apply(lambda x: x.split(' ')[1].strip())"
   ]
  },
  {
   "cell_type": "code",
   "execution_count": 204,
   "id": "45611d9e-8c40-4ee6-8d14-f92c031777d2",
   "metadata": {},
   "outputs": [],
   "source": [
    "def convert_time_whith_date(df):\n",
    "    df['Time_Order_picked'] = pd.to_datetime(df['Time_Order_picked'], format='%H:%M:%S', errors='coerce')\n",
    "    df['Time_Ordered'] = pd.to_datetime(df['Time_Ordered'], format='%H:%M:%S', errors='coerce')\n",
    "def convert_time_whithout_date(df):\n",
    "    df['Time_Order_picked'] = pd.to_datetime(df['Time_Order_picked'], format='%H:%M:%S', errors='coerce').dt.time\n",
    "    df['Time_Ordered'] = pd.to_datetime(df['Time_Ordered'], format='%H:%M:%S', errors='coerce').dt.time"
   ]
  },
  {
   "cell_type": "code",
   "execution_count": 205,
   "id": "e9a3c8c4-59e3-4889-aeb1-418a75594f21",
   "metadata": {},
   "outputs": [],
   "source": [
    "#Update DataType\n",
    "df['Delivery_person_Age'] = pd.to_numeric(df['Delivery_person_Age'], errors='coerce')\n",
    "df['Delivery_person_Ratings'] = pd.to_numeric(df['Delivery_person_Ratings'], errors='coerce')\n",
    "df['Road_traffic_density'] = df['Road_traffic_density'].str.strip()\n",
    "df['Festival'] = df['Festival'].str.strip()\n",
    "df['Type_of_vehicle'] = df['Type_of_vehicle'].str.strip()\n",
    "df['Area_Type'] = df['Area_Type'].str.strip()\n",
    "df['Type_of_order'] = df['Type_of_order'].str.strip()\n",
    "df['multiple_deliveries'] = pd.to_numeric(df['multiple_deliveries'], errors='coerce')\n",
    "df['Order_Date']=pd.to_datetime(df['Order_Date'], format=\"%d-%m-%Y\")\n",
    "convert_time_whithout_date(df)"
   ]
  },
  {
   "cell_type": "code",
   "execution_count": 206,
   "id": "e3e5176d-3982-4d1f-88fc-4e9735f4b029",
   "metadata": {},
   "outputs": [],
   "source": [
    "#Drop Unused Columns\n",
    "df.drop(['ID'], axis=1, inplace=True)"
   ]
  },
  {
   "cell_type": "code",
   "execution_count": 207,
   "id": "ebb2cb01-87c9-4af2-9974-500e367aa197",
   "metadata": {},
   "outputs": [
    {
     "name": "stdout",
     "output_type": "stream",
     "text": [
      "No duplicate values detected in the data.\n"
     ]
    }
   ],
   "source": [
    "#Check for Duplicate Values\n",
    "if (len(df[df.duplicated()])>0):\n",
    "    print(\"Duplicate values found in the data.\")\n",
    "    df.drop_duplicates(inplace=True)\n",
    "else:\n",
    "    print(\"No duplicate values detected in the data.\")"
   ]
  },
  {
   "cell_type": "code",
   "execution_count": 208,
   "id": "d6b0bd7c-136e-4594-a35e-cf71ff2a7ea7",
   "metadata": {},
   "outputs": [],
   "source": [
    "#Convert string 'NaN' to np.nan\n",
    "df.replace(\"NaN\", float(np.nan), regex=True, inplace=True)"
   ]
  },
  {
   "cell_type": "code",
   "execution_count": 209,
   "id": "602d7d4f-53d7-4644-8bba-446e5d3fa608",
   "metadata": {},
   "outputs": [
    {
     "data": {
      "text/html": [
       "<div>\n",
       "<style scoped>\n",
       "    .dataframe tbody tr th:only-of-type {\n",
       "        vertical-align: middle;\n",
       "    }\n",
       "\n",
       "    .dataframe tbody tr th {\n",
       "        vertical-align: top;\n",
       "    }\n",
       "\n",
       "    .dataframe thead th {\n",
       "        text-align: right;\n",
       "    }\n",
       "</style>\n",
       "<table border=\"1\" class=\"dataframe\">\n",
       "  <thead>\n",
       "    <tr style=\"text-align: right;\">\n",
       "      <th></th>\n",
       "      <th>Delivery_person_ID</th>\n",
       "      <th>Delivery_person_Age</th>\n",
       "      <th>Delivery_person_Ratings</th>\n",
       "      <th>Restaurant_latitude</th>\n",
       "      <th>Restaurant_longitude</th>\n",
       "      <th>...</th>\n",
       "      <th>Type_of_vehicle</th>\n",
       "      <th>multiple_deliveries</th>\n",
       "      <th>Festival</th>\n",
       "      <th>Area_Type</th>\n",
       "      <th>Time_taken(min)</th>\n",
       "    </tr>\n",
       "  </thead>\n",
       "  <tbody>\n",
       "    <tr>\n",
       "      <th>0</th>\n",
       "      <td>INDORES13DEL02</td>\n",
       "      <td>37.0</td>\n",
       "      <td>4.9</td>\n",
       "      <td>22.745049</td>\n",
       "      <td>75.892471</td>\n",
       "      <td>...</td>\n",
       "      <td>motorcycle</td>\n",
       "      <td>0.0</td>\n",
       "      <td>No</td>\n",
       "      <td>Urban</td>\n",
       "      <td>24</td>\n",
       "    </tr>\n",
       "    <tr>\n",
       "      <th>1</th>\n",
       "      <td>BANGRES18DEL02</td>\n",
       "      <td>34.0</td>\n",
       "      <td>4.5</td>\n",
       "      <td>12.913041</td>\n",
       "      <td>77.683237</td>\n",
       "      <td>...</td>\n",
       "      <td>scooter</td>\n",
       "      <td>1.0</td>\n",
       "      <td>No</td>\n",
       "      <td>Metropolitian</td>\n",
       "      <td>33</td>\n",
       "    </tr>\n",
       "    <tr>\n",
       "      <th>2</th>\n",
       "      <td>BANGRES19DEL01</td>\n",
       "      <td>23.0</td>\n",
       "      <td>4.4</td>\n",
       "      <td>12.914264</td>\n",
       "      <td>77.678400</td>\n",
       "      <td>...</td>\n",
       "      <td>motorcycle</td>\n",
       "      <td>1.0</td>\n",
       "      <td>No</td>\n",
       "      <td>Urban</td>\n",
       "      <td>26</td>\n",
       "    </tr>\n",
       "    <tr>\n",
       "      <th>3</th>\n",
       "      <td>COIMBRES13DEL02</td>\n",
       "      <td>38.0</td>\n",
       "      <td>4.7</td>\n",
       "      <td>11.003669</td>\n",
       "      <td>76.976494</td>\n",
       "      <td>...</td>\n",
       "      <td>motorcycle</td>\n",
       "      <td>1.0</td>\n",
       "      <td>No</td>\n",
       "      <td>Metropolitian</td>\n",
       "      <td>21</td>\n",
       "    </tr>\n",
       "    <tr>\n",
       "      <th>4</th>\n",
       "      <td>CHENRES12DEL01</td>\n",
       "      <td>32.0</td>\n",
       "      <td>4.6</td>\n",
       "      <td>12.972793</td>\n",
       "      <td>80.249982</td>\n",
       "      <td>...</td>\n",
       "      <td>scooter</td>\n",
       "      <td>1.0</td>\n",
       "      <td>No</td>\n",
       "      <td>Metropolitian</td>\n",
       "      <td>30</td>\n",
       "    </tr>\n",
       "  </tbody>\n",
       "</table>\n",
       "<p>5 rows × 19 columns</p>\n",
       "</div>"
      ],
      "text/plain": [
       "  Delivery_person_ID  Delivery_person_Age  Delivery_person_Ratings  \\\n",
       "0    INDORES13DEL02                  37.0                      4.9   \n",
       "1    BANGRES18DEL02                  34.0                      4.5   \n",
       "2    BANGRES19DEL01                  23.0                      4.4   \n",
       "3   COIMBRES13DEL02                  38.0                      4.7   \n",
       "4    CHENRES12DEL01                  32.0                      4.6   \n",
       "\n",
       "   Restaurant_latitude  Restaurant_longitude  ...  Type_of_vehicle  \\\n",
       "0            22.745049             75.892471  ...       motorcycle   \n",
       "1            12.913041             77.683237  ...          scooter   \n",
       "2            12.914264             77.678400  ...       motorcycle   \n",
       "3            11.003669             76.976494  ...       motorcycle   \n",
       "4            12.972793             80.249982  ...          scooter   \n",
       "\n",
       "   multiple_deliveries Festival      Area_Type Time_taken(min)  \n",
       "0                  0.0       No          Urban              24  \n",
       "1                  1.0       No  Metropolitian              33  \n",
       "2                  1.0       No          Urban              26  \n",
       "3                  1.0       No  Metropolitian              21  \n",
       "4                  1.0       No  Metropolitian              30  \n",
       "\n",
       "[5 rows x 19 columns]"
      ]
     },
     "execution_count": 209,
     "metadata": {},
     "output_type": "execute_result"
    }
   ],
   "source": [
    "df.head()"
   ]
  },
  {
   "cell_type": "code",
   "execution_count": 210,
   "id": "aa5b600a-8605-4eb5-81bf-257d5601e4b8",
   "metadata": {},
   "outputs": [
    {
     "data": {
      "text/html": [
       "<div>\n",
       "<style scoped>\n",
       "    .dataframe tbody tr th:only-of-type {\n",
       "        vertical-align: middle;\n",
       "    }\n",
       "\n",
       "    .dataframe tbody tr th {\n",
       "        vertical-align: top;\n",
       "    }\n",
       "\n",
       "    .dataframe thead th {\n",
       "        text-align: right;\n",
       "    }\n",
       "</style>\n",
       "<table border=\"1\" class=\"dataframe\">\n",
       "  <thead>\n",
       "    <tr style=\"text-align: right;\">\n",
       "      <th></th>\n",
       "      <th>count</th>\n",
       "      <th>mean</th>\n",
       "      <th>std</th>\n",
       "      <th>min</th>\n",
       "      <th>25%</th>\n",
       "      <th>50%</th>\n",
       "      <th>75%</th>\n",
       "      <th>max</th>\n",
       "    </tr>\n",
       "  </thead>\n",
       "  <tbody>\n",
       "    <tr>\n",
       "      <th>Time_taken(min)</th>\n",
       "      <td>45593.0</td>\n",
       "      <td>26.294607</td>\n",
       "      <td>9.383806</td>\n",
       "      <td>10.0</td>\n",
       "      <td>19.0</td>\n",
       "      <td>26.0</td>\n",
       "      <td>32.0</td>\n",
       "      <td>54.0</td>\n",
       "    </tr>\n",
       "    <tr>\n",
       "      <th>Delivery_person_Age</th>\n",
       "      <td>43739.0</td>\n",
       "      <td>29.567137</td>\n",
       "      <td>5.815155</td>\n",
       "      <td>15.0</td>\n",
       "      <td>25.0</td>\n",
       "      <td>30.0</td>\n",
       "      <td>35.0</td>\n",
       "      <td>50.0</td>\n",
       "    </tr>\n",
       "    <tr>\n",
       "      <th>Delivery_person_Ratings</th>\n",
       "      <td>43685.0</td>\n",
       "      <td>4.633780</td>\n",
       "      <td>0.334716</td>\n",
       "      <td>1.0</td>\n",
       "      <td>4.5</td>\n",
       "      <td>4.7</td>\n",
       "      <td>4.9</td>\n",
       "      <td>6.0</td>\n",
       "    </tr>\n",
       "  </tbody>\n",
       "</table>\n",
       "</div>"
      ],
      "text/plain": [
       "                           count       mean       std   min   25%   50%   75%  \\\n",
       "Time_taken(min)          45593.0  26.294607  9.383806  10.0  19.0  26.0  32.0   \n",
       "Delivery_person_Age      43739.0  29.567137  5.815155  15.0  25.0  30.0  35.0   \n",
       "Delivery_person_Ratings  43685.0   4.633780  0.334716   1.0   4.5   4.7   4.9   \n",
       "\n",
       "                          max  \n",
       "Time_taken(min)          54.0  \n",
       "Delivery_person_Age      50.0  \n",
       "Delivery_person_Ratings   6.0  "
      ]
     },
     "execution_count": 210,
     "metadata": {},
     "output_type": "execute_result"
    }
   ],
   "source": [
    "columns = ['Time_taken(min)', 'Delivery_person_Age', 'Delivery_person_Ratings']\n",
    "df[columns].describe().T"
   ]
  },
  {
   "cell_type": "code",
   "execution_count": 211,
   "id": "746627f3-3943-4467-8277-4b1f584a7cc7",
   "metadata": {},
   "outputs": [
    {
     "data": {
      "text/html": [
       "<div>\n",
       "<style scoped>\n",
       "    .dataframe tbody tr th:only-of-type {\n",
       "        vertical-align: middle;\n",
       "    }\n",
       "\n",
       "    .dataframe tbody tr th {\n",
       "        vertical-align: top;\n",
       "    }\n",
       "\n",
       "    .dataframe thead th {\n",
       "        text-align: right;\n",
       "    }\n",
       "</style>\n",
       "<table border=\"1\" class=\"dataframe\">\n",
       "  <thead>\n",
       "    <tr style=\"text-align: right;\">\n",
       "      <th></th>\n",
       "      <th>count</th>\n",
       "      <th>unique</th>\n",
       "      <th>top</th>\n",
       "      <th>freq</th>\n",
       "    </tr>\n",
       "  </thead>\n",
       "  <tbody>\n",
       "    <tr>\n",
       "      <th>Area_Type</th>\n",
       "      <td>44393</td>\n",
       "      <td>3</td>\n",
       "      <td>Metropolitian</td>\n",
       "      <td>34093</td>\n",
       "    </tr>\n",
       "    <tr>\n",
       "      <th>Festival</th>\n",
       "      <td>45365</td>\n",
       "      <td>2</td>\n",
       "      <td>No</td>\n",
       "      <td>44469</td>\n",
       "    </tr>\n",
       "    <tr>\n",
       "      <th>Type_of_order</th>\n",
       "      <td>45593</td>\n",
       "      <td>4</td>\n",
       "      <td>Snack</td>\n",
       "      <td>11533</td>\n",
       "    </tr>\n",
       "    <tr>\n",
       "      <th>Type_of_vehicle</th>\n",
       "      <td>45593</td>\n",
       "      <td>4</td>\n",
       "      <td>motorcycle</td>\n",
       "      <td>26435</td>\n",
       "    </tr>\n",
       "    <tr>\n",
       "      <th>Weather_conditions</th>\n",
       "      <td>44977</td>\n",
       "      <td>6</td>\n",
       "      <td>Fog</td>\n",
       "      <td>7654</td>\n",
       "    </tr>\n",
       "    <tr>\n",
       "      <th>Road_traffic_density</th>\n",
       "      <td>44992</td>\n",
       "      <td>4</td>\n",
       "      <td>Low</td>\n",
       "      <td>15477</td>\n",
       "    </tr>\n",
       "  </tbody>\n",
       "</table>\n",
       "</div>"
      ],
      "text/plain": [
       "                      count unique            top   freq\n",
       "Area_Type             44393      3  Metropolitian  34093\n",
       "Festival              45365      2             No  44469\n",
       "Type_of_order         45593      4          Snack  11533\n",
       "Type_of_vehicle       45593      4     motorcycle  26435\n",
       "Weather_conditions    44977      6            Fog   7654\n",
       "Road_traffic_density  44992      4            Low  15477"
      ]
     },
     "execution_count": 211,
     "metadata": {},
     "output_type": "execute_result"
    }
   ],
   "source": [
    "columns = ['Area_Type', 'Festival','Type_of_order', 'Type_of_vehicle','Weather_conditions', 'Road_traffic_density']\n",
    "df[columns].describe().T"
   ]
  },
  {
   "cell_type": "code",
   "execution_count": 212,
   "id": "7aa4ed09-d8c8-4bd2-846d-5b077ecfdfc4",
   "metadata": {},
   "outputs": [
    {
     "name": "stdout",
     "output_type": "stream",
     "text": [
      "Area_Type : ['Urban' 'Metropolitian' 'Semi-Urban' nan]\n",
      "Festival : ['No' 'Yes' nan]\n",
      "Type_of_order : ['Snack' 'Drinks' 'Buffet' 'Meal']\n",
      "Type_of_vehicle : ['motorcycle' 'scooter' 'electric_scooter' 'bicycle']\n",
      "Weather_conditions : ['Sunny' 'Stormy' 'Sandstorms' 'Cloudy' 'Fog' 'Windy' nan]\n",
      "Road_traffic_density : ['High' 'Jam' 'Low' 'Medium' nan]\n"
     ]
    }
   ],
   "source": [
    "for col in columns:\n",
    "    print(f\"{col} : {df[col].unique()}\")"
   ]
  },
  {
   "cell_type": "code",
   "execution_count": 213,
   "id": "c7dae12b-d031-4ad5-bd2e-c4f1c6e11990",
   "metadata": {},
   "outputs": [
    {
     "name": "stdout",
     "output_type": "stream",
     "text": [
      "Min Date: 2022-02-11 00:00:00\n",
      "Max Date: 2022-04-06 00:00:00\n"
     ]
    }
   ],
   "source": [
    "convert_time_whith_date(df)\n",
    "#df.insert(9, 'Pickup_delay', df['Time_Order_picked'] - df['Time_Ordered'])\n",
    "min_date = df['Order_Date'].min()\n",
    "max_date = df['Order_Date'].max()\n",
    "print(\"Min Date:\", min_date)\n",
    "print(\"Max Date:\", max_date)\n",
    "convert_time_whithout_date(df)"
   ]
  },
  {
   "cell_type": "code",
   "execution_count": 214,
   "id": "e2b2b0ba-57cb-47bb-994e-d8f127e9edc0",
   "metadata": {},
   "outputs": [
    {
     "data": {
      "text/html": [
       "<div>\n",
       "<style scoped>\n",
       "    .dataframe tbody tr th:only-of-type {\n",
       "        vertical-align: middle;\n",
       "    }\n",
       "\n",
       "    .dataframe tbody tr th {\n",
       "        vertical-align: top;\n",
       "    }\n",
       "\n",
       "    .dataframe thead th {\n",
       "        text-align: right;\n",
       "    }\n",
       "</style>\n",
       "<table border=\"1\" class=\"dataframe\">\n",
       "  <thead>\n",
       "    <tr style=\"text-align: right;\">\n",
       "      <th></th>\n",
       "      <th>Delivery_person_ID</th>\n",
       "      <th>Delivery_person_Age</th>\n",
       "      <th>Delivery_person_Ratings</th>\n",
       "      <th>Restaurant_latitude</th>\n",
       "      <th>Restaurant_longitude</th>\n",
       "      <th>...</th>\n",
       "      <th>Type_of_vehicle</th>\n",
       "      <th>multiple_deliveries</th>\n",
       "      <th>Festival</th>\n",
       "      <th>Area_Type</th>\n",
       "      <th>Time_taken(min)</th>\n",
       "    </tr>\n",
       "  </thead>\n",
       "  <tbody>\n",
       "    <tr>\n",
       "      <th>0</th>\n",
       "      <td>INDORES13DEL02</td>\n",
       "      <td>37.0</td>\n",
       "      <td>4.9</td>\n",
       "      <td>22.745049</td>\n",
       "      <td>75.892471</td>\n",
       "      <td>...</td>\n",
       "      <td>motorcycle</td>\n",
       "      <td>0.0</td>\n",
       "      <td>No</td>\n",
       "      <td>Urban</td>\n",
       "      <td>24</td>\n",
       "    </tr>\n",
       "    <tr>\n",
       "      <th>1</th>\n",
       "      <td>BANGRES18DEL02</td>\n",
       "      <td>34.0</td>\n",
       "      <td>4.5</td>\n",
       "      <td>12.913041</td>\n",
       "      <td>77.683237</td>\n",
       "      <td>...</td>\n",
       "      <td>scooter</td>\n",
       "      <td>1.0</td>\n",
       "      <td>No</td>\n",
       "      <td>Metropolitian</td>\n",
       "      <td>33</td>\n",
       "    </tr>\n",
       "    <tr>\n",
       "      <th>2</th>\n",
       "      <td>BANGRES19DEL01</td>\n",
       "      <td>23.0</td>\n",
       "      <td>4.4</td>\n",
       "      <td>12.914264</td>\n",
       "      <td>77.678400</td>\n",
       "      <td>...</td>\n",
       "      <td>motorcycle</td>\n",
       "      <td>1.0</td>\n",
       "      <td>No</td>\n",
       "      <td>Urban</td>\n",
       "      <td>26</td>\n",
       "    </tr>\n",
       "    <tr>\n",
       "      <th>3</th>\n",
       "      <td>COIMBRES13DEL02</td>\n",
       "      <td>38.0</td>\n",
       "      <td>4.7</td>\n",
       "      <td>11.003669</td>\n",
       "      <td>76.976494</td>\n",
       "      <td>...</td>\n",
       "      <td>motorcycle</td>\n",
       "      <td>1.0</td>\n",
       "      <td>No</td>\n",
       "      <td>Metropolitian</td>\n",
       "      <td>21</td>\n",
       "    </tr>\n",
       "    <tr>\n",
       "      <th>4</th>\n",
       "      <td>CHENRES12DEL01</td>\n",
       "      <td>32.0</td>\n",
       "      <td>4.6</td>\n",
       "      <td>12.972793</td>\n",
       "      <td>80.249982</td>\n",
       "      <td>...</td>\n",
       "      <td>scooter</td>\n",
       "      <td>1.0</td>\n",
       "      <td>No</td>\n",
       "      <td>Metropolitian</td>\n",
       "      <td>30</td>\n",
       "    </tr>\n",
       "  </tbody>\n",
       "</table>\n",
       "<p>5 rows × 19 columns</p>\n",
       "</div>"
      ],
      "text/plain": [
       "  Delivery_person_ID  Delivery_person_Age  Delivery_person_Ratings  \\\n",
       "0    INDORES13DEL02                  37.0                      4.9   \n",
       "1    BANGRES18DEL02                  34.0                      4.5   \n",
       "2    BANGRES19DEL01                  23.0                      4.4   \n",
       "3   COIMBRES13DEL02                  38.0                      4.7   \n",
       "4    CHENRES12DEL01                  32.0                      4.6   \n",
       "\n",
       "   Restaurant_latitude  Restaurant_longitude  ...  Type_of_vehicle  \\\n",
       "0            22.745049             75.892471  ...       motorcycle   \n",
       "1            12.913041             77.683237  ...          scooter   \n",
       "2            12.914264             77.678400  ...       motorcycle   \n",
       "3            11.003669             76.976494  ...       motorcycle   \n",
       "4            12.972793             80.249982  ...          scooter   \n",
       "\n",
       "   multiple_deliveries Festival      Area_Type Time_taken(min)  \n",
       "0                  0.0       No          Urban              24  \n",
       "1                  1.0       No  Metropolitian              33  \n",
       "2                  1.0       No          Urban              26  \n",
       "3                  1.0       No  Metropolitian              21  \n",
       "4                  1.0       No  Metropolitian              30  \n",
       "\n",
       "[5 rows x 19 columns]"
      ]
     },
     "execution_count": 214,
     "metadata": {},
     "output_type": "execute_result"
    }
   ],
   "source": [
    "df.head()"
   ]
  },
  {
   "cell_type": "code",
   "execution_count": 215,
   "id": "329ffa96-5457-486a-bfe0-34f2cc5a8027",
   "metadata": {},
   "outputs": [
    {
     "name": "stdout",
     "output_type": "stream",
     "text": [
      "Delivery_person_Ratings    1908\n",
      "Delivery_person_Age        1854\n",
      "Time_Ordered               1731\n",
      "Area_Type                  1200\n",
      "multiple_deliveries         993\n",
      "Weather_conditions          616\n",
      "Road_traffic_density        601\n",
      "Festival                    228\n",
      "dtype: int64\n"
     ]
    }
   ],
   "source": [
    "#Check null values\n",
    "def checkNull():\n",
    "    missing = df.isnull().sum()\n",
    "    missing = missing[missing > 0].sort_values(ascending=False)\n",
    "    print(missing)\n",
    "checkNull()"
   ]
  },
  {
   "cell_type": "code",
   "execution_count": 216,
   "id": "d2ea940b-ad7d-4e7b-b8ab-d5a9d4c222f5",
   "metadata": {},
   "outputs": [
    {
     "name": "stdout",
     "output_type": "stream",
     "text": [
      "Delivery_person_Age     1854\n",
      "Time_Ordered            1731\n",
      "Area_Type               1200\n",
      "multiple_deliveries      993\n",
      "Weather_conditions       616\n",
      "Road_traffic_density     601\n",
      "Festival                 228\n",
      "dtype: int64\n"
     ]
    }
   ],
   "source": [
    "def fill_ratings(ratings):\n",
    "    skewness = ratings.dropna().skew()\n",
    "    if -0.5 <= skewness <= 0.5:\n",
    "        return ratings.fillna(ratings.mean())\n",
    "    else:\n",
    "        return ratings.fillna(ratings.median())\n",
    "df['Delivery_person_Ratings'] = df.groupby('Delivery_person_ID')['Delivery_person_Ratings'].transform(fill_ratings)\n",
    "checkNull()"
   ]
  },
  {
   "cell_type": "code",
   "execution_count": 217,
   "id": "1ba06568-40b0-442f-b468-a4becb2cb3b2",
   "metadata": {},
   "outputs": [
    {
     "data": {
      "image/png": "[encoded data removed]",
      "text/plain": [
       "<Figure size 1000x600 with 1 Axes>"
      ]
     },
     "metadata": {},
     "output_type": "display_data"
    }
   ],
   "source": [
    "ratings = df['Delivery_person_Ratings']\n",
    "\n",
    "sk = skew(ratings)\n",
    "sk_rounded = round(sk, 3)\n",
    "\n",
    "if abs(sk) < 0.1:\n",
    "    interpretation = \"Approximately symmetric distribution\"\n",
    "elif sk > 0:\n",
    "    interpretation = \"Right-skewed distribution (positive skew)\"\n",
    "else:\n",
    "    interpretation = \"Left-skewed distribution (negative skew)\"\n",
    "\n",
    "plt.figure(figsize=(10,6))\n",
    "\n",
    "count, bins, ignored = plt.hist(ratings, bins=20, density=True, color='skyblue', edgecolor='black', alpha=0.7)\n",
    "\n",
    "kde = gaussian_kde(ratings)\n",
    "x_vals = np.linspace(min(ratings), max(ratings), 200)\n",
    "plt.plot(x_vals, kde(x_vals), color='red', linewidth=2)\n",
    "\n",
    "plt.title(f\"Distribution of Delivery Person Ratings\\nSkewness: {sk_rounded} ({interpretation})\", fontsize=14, weight='bold')\n",
    "\n",
    "plt.xlabel(\"Delivery Person Ratings\")\n",
    "plt.ylabel(\"Density\")\n",
    "plt.grid(axis='y', alpha=0.3)\n",
    "plt.show()\n",
    "\n"
   ]
  },
  {
   "cell_type": "code",
   "execution_count": 218,
   "id": "480386a1-dfa6-455a-a4de-ba9a875d6f60",
   "metadata": {},
   "outputs": [
    {
     "name": "stdout",
     "output_type": "stream",
     "text": [
      "Time_Ordered            1731\n",
      "Area_Type               1200\n",
      "multiple_deliveries      993\n",
      "Weather_conditions       616\n",
      "Road_traffic_density     601\n",
      "Festival                 228\n",
      "dtype: int64\n"
     ]
    }
   ],
   "source": [
    "df['Delivery_person_Age'] = df.groupby('Delivery_person_ID')['Delivery_person_Age'].transform(\n",
    "    lambda x: x.fillna(x.mode().iloc[0] if not x.mode().empty else x.mean())\n",
    ")\n",
    "checkNull()"
   ]
  },
  {
   "cell_type": "code",
   "execution_count": 219,
   "id": "f6cfa590-26fd-449d-9250-d38517e9c856",
   "metadata": {},
   "outputs": [
    {
     "data": {
      "image/png": "[encoded data removed]",
      "text/plain": [
       "<Figure size 1000x600 with 1 Axes>"
      ]
     },
     "metadata": {},
     "output_type": "display_data"
    },
    {
     "name": "stdout",
     "output_type": "stream",
     "text": [
      "\n",
      "\n",
      "Detected outliers for Delivery Person Age: no one\n"
     ]
    }
   ],
   "source": [
    "plt.figure(figsize=(10, 6))\n",
    "sns.set_style(\"whitegrid\")\n",
    "ax = sns.boxplot(\n",
    "    x=df['Delivery_person_Age'],\n",
    "    color=\"#FF6F61\",\n",
    "    fliersize=8,\n",
    "    linewidth=2\n",
    ")\n",
    "ax.set_title(\"Distribution of Delivery Person Age with Outliers\", fontsize=16, fontweight='bold')\n",
    "ax.set_xlabel(\"Delivery Person Age\", fontsize=14)\n",
    "\n",
    "outliers = df['Delivery_person_Age'][\n",
    "    (df['Delivery_person_Age'] < (df['Delivery_person_Age'].quantile(0.25) - 1.5 * (df['Delivery_person_Age'].quantile(0.75) - df['Delivery_person_Age'].quantile(0.25)))) |\n",
    "    (df['Delivery_person_Age'] > (df['Delivery_person_Age'].quantile(0.75) + 1.5 * (df['Delivery_person_Age'].quantile(0.75) - df['Delivery_person_Age'].quantile(0.25))))\n",
    "]\n",
    "\n",
    "plt.show()\n",
    "print(f\"\\n\\nDetected outliers for Delivery Person Age: {outliers.values if len(outliers) != 0 else \"no one\"}\")"
   ]
  },
  {
   "cell_type": "code",
   "execution_count": 220,
   "id": "d2a172f7-214e-4884-a87f-ea9963ee70fc",
   "metadata": {},
   "outputs": [
    {
     "data": {
      "application/vnd.plotly.v1+json": {
       "config": {
        "plotlyServerURL": "https://plot.ly"
       },
       "data": [
        {
         "customdata": [
          [
           "AGRRES010DEL01 "
          ],
          [
           "AGRRES010DEL02 "
          ],
          [
           "AGRRES010DEL03 "
          ],
          [
           "AGRRES01DEL01 "
          ],
          [
           "AGRRES01DEL02 "
          ],
          [
           "AGRRES01DEL03 "
          ],
          [
           "AGRRES02DEL01 "
          ],
          [
           "AGRRES02DEL02 "
          ],
          [
           "AGRRES02DEL03 "
          ],
          [
           "AGRRES03DEL01 "
          ],
          [
           "AGRRES03DEL02 "
          ],
          [
           "AGRRES03DEL03 "
          ],
          [
           "AGRRES04DEL01 "
          ],
          [
           "AGRRES04DEL02 "
          ],
          [
           "AGRRES04DEL03 "
          ],
          [
           "AGRRES05DEL01 "
          ],
          [
           "AGRRES05DEL02 "
          ],
          [
           "AGRRES05DEL03 "
          ],
          [
           "AGRRES06DEL01 "
          ],
          [
           "AGRRES06DEL02 "
          ],
          [
           "AGRRES06DEL03 "
          ],
          [
           "AGRRES07DEL01 "
          ],
          [
           "AGRRES07DEL02 "
          ],
          [
           "AGRRES07DEL03 "
          ],
          [
           "AGRRES08DEL01 "
          ],
          [
           "AGRRES08DEL02 "
          ],
          [
           "AGRRES08DEL03 "
          ],
          [
           "AGRRES09DEL01 "
          ],
          [
           "AGRRES09DEL02 "
          ],
          [
           "AGRRES09DEL03 "
          ],
          [
           "AGRRES11DEL01 "
          ],
          [
           "AGRRES11DEL02 "
          ],
          [
           "AGRRES11DEL03 "
          ],
          [
           "AGRRES12DEL01 "
          ],
          [
           "AGRRES12DEL02 "
          ],
          [
           "AGRRES12DEL03 "
          ],
          [
           "AGRRES13DEL01 "
          ],
          [
           "AGRRES13DEL02 "
          ],
          [
           "AGRRES13DEL03 "
          ],
          [
           "AGRRES14DEL01 "
          ],
          [
           "AGRRES14DEL02 "
          ],
          [
           "AGRRES14DEL03 "
          ],
          [
           "AGRRES15DEL01 "
          ],
          [
           "AGRRES15DEL02 "
          ],
          [
           "AGRRES15DEL03 "
          ],
          [
           "AGRRES16DEL01 "
          ],
          [
           "AGRRES16DEL02 "
          ],
          [
           "AGRRES16DEL03 "
          ],
          [
           "AGRRES17DEL01 "
          ],
          [
           "AGRRES17DEL02 "
          ],
          [
           "AGRRES17DEL03 "
          ],
          [
           "AGRRES18DEL01 "
          ],
          [
           "AGRRES18DEL02 "
          ],
          [
           "AGRRES18DEL03 "
          ],
          [
           "AGRRES19DEL01 "
          ],
          [
           "AGRRES19DEL02 "
          ],
          [
           "AGRRES19DEL03 "
          ],
          [
           "AGRRES20DEL01 "
          ],
          [
           "AGRRES20DEL02 "
          ],
          [
           "AGRRES20DEL03 "
          ],
          [
           "ALHRES010DEL01 "
          ],
          [
           "ALHRES010DEL02 "
          ],
          [
           "ALHRES010DEL03 "
          ],
          [
           "ALHRES01DEL01 "
          ],
          [
           "ALHRES01DEL02 "
          ],
          [
           "ALHRES01DEL03 "
          ],
          [
           "ALHRES02DEL01 "
          ],
          [
           "ALHRES02DEL02 "
          ],
          [
           "ALHRES02DEL03 "
          ],
          [
           "ALHRES03DEL01 "
          ],
          [
           "ALHRES03DEL02 "
          ],
          [
           "ALHRES03DEL03 "
          ],
          [
           "ALHRES04DEL01 "
          ],
          [
           "ALHRES04DEL02 "
          ],
          [
           "ALHRES04DEL03 "
          ],
          [
           "ALHRES05DEL01 "
          ],
          [
           "ALHRES05DEL02 "
          ],
          [
           "ALHRES05DEL03 "
          ],
          [
           "ALHRES06DEL01 "
          ],
          [
           "ALHRES06DEL02 "
          ],
          [
           "ALHRES06DEL03 "
          ],
          [
           "ALHRES07DEL01 "
          ],
          [
           "ALHRES07DEL02 "
          ],
          [
           "ALHRES07DEL03 "
          ],
          [
           "ALHRES08DEL01 "
          ],
          [
           "ALHRES08DEL02 "
          ],
          [
           "ALHRES08DEL03 "
          ],
          [
           "ALHRES09DEL01 "
          ],
          [
           "ALHRES09DEL02 "
          ],
          [
           "ALHRES09DEL03 "
          ],
          [
           "ALHRES11DEL01 "
          ],
          [
           "ALHRES11DEL02 "
          ],
          [
           "ALHRES11DEL03 "
          ],
          [
           "ALHRES12DEL01 "
          ],
          [
           "ALHRES12DEL02 "
          ],
          [
           "ALHRES12DEL03 "
          ],
          [
           "ALHRES13DEL01 "
          ],
          [
           "ALHRES13DEL02 "
          ],
          [
           "ALHRES13DEL03 "
          ],
          [
           "ALHRES14DEL01 "
          ],
          [
           "ALHRES14DEL02 "
          ],
          [
           "ALHRES14DEL03 "
          ],
          [
           "ALHRES15DEL01 "
          ],
          [
           "ALHRES15DEL02 "
          ],
          [
           "ALHRES15DEL03 "
          ],
          [
           "ALHRES16DEL01 "
          ],
          [
           "ALHRES16DEL02 "
          ],
          [
           "ALHRES16DEL03 "
          ],
          [
           "ALHRES17DEL01 "
          ],
          [
           "ALHRES17DEL02 "
          ],
          [
           "ALHRES17DEL03 "
          ],
          [
           "ALHRES18DEL01 "
          ],
          [
           "ALHRES18DEL02 "
          ],
          [
           "ALHRES18DEL03 "
          ],
          [
           "ALHRES19DEL01 "
          ],
          [
           "ALHRES19DEL02 "
          ],
          [
           "ALHRES19DEL03 "
          ],
          [
           "ALHRES20DEL01 "
          ],
          [
           "ALHRES20DEL02 "
          ],
          [
           "ALHRES20DEL03 "
          ],
          [
           "AURGRES010DEL01 "
          ],
          [
           "AURGRES010DEL02 "
          ],
          [
           "AURGRES010DEL03 "
          ],
          [
           "AURGRES01DEL01 "
          ],
          [
           "AURGRES01DEL02 "
          ],
          [
           "AURGRES01DEL03 "
          ],
          [
           "AURGRES02DEL01 "
          ],
          [
           "AURGRES02DEL02 "
          ],
          [
           "AURGRES02DEL03 "
          ],
          [
           "AURGRES03DEL01 "
          ],
          [
           "AURGRES03DEL02 "
          ],
          [
           "AURGRES03DEL03 "
          ],
          [
           "AURGRES04DEL01 "
          ],
          [
           "AURGRES04DEL02 "
          ],
          [
           "AURGRES04DEL03 "
          ],
          [
           "AURGRES05DEL01 "
          ],
          [
           "AURGRES05DEL02 "
          ],
          [
           "AURGRES05DEL03 "
          ],
          [
           "AURGRES06DEL01 "
          ],
          [
           "AURGRES06DEL02 "
          ],
          [
           "AURGRES06DEL03 "
          ],
          [
           "AURGRES07DEL01 "
          ],
          [
           "AURGRES07DEL02 "
          ],
          [
           "AURGRES07DEL03 "
          ],
          [
           "AURGRES08DEL01 "
          ],
          [
           "AURGRES08DEL02 "
          ],
          [
           "AURGRES08DEL03 "
          ],
          [
           "AURGRES09DEL01 "
          ],
          [
           "AURGRES09DEL02 "
          ],
          [
           "AURGRES09DEL03 "
          ],
          [
           "AURGRES11DEL01 "
          ],
          [
           "AURGRES11DEL02 "
          ],
          [
           "AURGRES11DEL03 "
          ],
          [
           "AURGRES12DEL01 "
          ],
          [
           "AURGRES12DEL02 "
          ],
          [
           "AURGRES12DEL03 "
          ],
          [
           "AURGRES13DEL01 "
          ],
          [
           "AURGRES13DEL02 "
          ],
          [
           "AURGRES13DEL03 "
          ],
          [
           "AURGRES14DEL01 "
          ],
          [
           "AURGRES14DEL02 "
          ],
          [
           "AURGRES14DEL03 "
          ],
          [
           "AURGRES15DEL01 "
          ],
          [
           "AURGRES15DEL02 "
          ],
          [
           "AURGRES15DEL03 "
          ],
          [
           "AURGRES16DEL01 "
          ],
          [
           "AURGRES16DEL02 "
          ],
          [
           "AURGRES16DEL03 "
          ],
          [
           "AURGRES17DEL01 "
          ],
          [
           "AURGRES17DEL02 "
          ],
          [
           "AURGRES17DEL03 "
          ],
          [
           "AURGRES18DEL01 "
          ],
          [
           "AURGRES18DEL02 "
          ],
          [
           "AURGRES18DEL03 "
          ],
          [
           "AURGRES19DEL01 "
          ],
          [
           "AURGRES19DEL02 "
          ],
          [
           "AURGRES19DEL03 "
          ],
          [
           "AURGRES20DEL01 "
          ],
          [
           "AURGRES20DEL02 "
          ],
          [
           "AURGRES20DEL03 "
          ],
          [
           "BANGRES010DEL01 "
          ],
          [
           "BANGRES010DEL02 "
          ],
          [
           "BANGRES010DEL03 "
          ],
          [
           "BANGRES01DEL01 "
          ],
          [
           "BANGRES01DEL02 "
          ],
          [
           "BANGRES01DEL03 "
          ],
          [
           "BANGRES02DEL01 "
          ],
          [
           "BANGRES02DEL02 "
          ],
          [
           "BANGRES02DEL03 "
          ],
          [
           "BANGRES03DEL01 "
          ],
          [
           "BANGRES03DEL02 "
          ],
          [
           "BANGRES03DEL03 "
          ],
          [
           "BANGRES04DEL01 "
          ],
          [
           "BANGRES04DEL02 "
          ],
          [
           "BANGRES04DEL03 "
          ],
          [
           "BANGRES05DEL01 "
          ],
          [
           "BANGRES05DEL02 "
          ],
          [
           "BANGRES05DEL03 "
          ],
          [
           "BANGRES06DEL01 "
          ],
          [
           "BANGRES06DEL02 "
          ],
          [
           "BANGRES06DEL03 "
          ],
          [
           "BANGRES07DEL01 "
          ],
          [
           "BANGRES07DEL02 "
          ],
          [
           "BANGRES07DEL03 "
          ],
          [
           "BANGRES08DEL01 "
          ],
          [
           "BANGRES08DEL02 "
          ],
          [
           "BANGRES08DEL03 "
          ],
          [
           "BANGRES09DEL01 "
          ],
          [
           "BANGRES09DEL02 "
          ],
          [
           "BANGRES09DEL03 "
          ],
          [
           "BANGRES11DEL01 "
          ],
          [
           "BANGRES11DEL02 "
          ],
          [
           "BANGRES11DEL03 "
          ],
          [
           "BANGRES12DEL01 "
          ],
          [
           "BANGRES12DEL02 "
          ],
          [
           "BANGRES12DEL03 "
          ],
          [
           "BANGRES13DEL01 "
          ],
          [
           "BANGRES13DEL02 "
          ],
          [
           "BANGRES13DEL03 "
          ],
          [
           "BANGRES14DEL01 "
          ],
          [
           "BANGRES14DEL02 "
          ],
          [
           "BANGRES14DEL03 "
          ],
          [
           "BANGRES15DEL01 "
          ],
          [
           "BANGRES15DEL02 "
          ],
          [
           "BANGRES15DEL03 "
          ],
          [
           "BANGRES16DEL01 "
          ],
          [
           "BANGRES16DEL02 "
          ],
          [
           "BANGRES16DEL03 "
          ],
          [
           "BANGRES17DEL01 "
          ],
          [
           "BANGRES17DEL02 "
          ],
          [
           "BANGRES17DEL03 "
          ],
          [
           "BANGRES18DEL01 "
          ],
          [
           "BANGRES18DEL02 "
          ],
          [
           "BANGRES18DEL03 "
          ],
          [
           "BANGRES19DEL01 "
          ],
          [
           "BANGRES19DEL02 "
          ],
          [
           "BANGRES19DEL03 "
          ],
          [
           "BANGRES20DEL01 "
          ],
          [
           "BANGRES20DEL02 "
          ],
          [
           "BANGRES20DEL03 "
          ],
          [
           "BHPRES010DEL01 "
          ],
          [
           "BHPRES010DEL02 "
          ],
          [
           "BHPRES010DEL03 "
          ],
          [
           "BHPRES01DEL01 "
          ],
          [
           "BHPRES01DEL02 "
          ],
          [
           "BHPRES01DEL03 "
          ],
          [
           "BHPRES02DEL01 "
          ],
          [
           "BHPRES02DEL02 "
          ],
          [
           "BHPRES02DEL03 "
          ],
          [
           "BHPRES03DEL01 "
          ],
          [
           "BHPRES03DEL02 "
          ],
          [
           "BHPRES03DEL03 "
          ],
          [
           "BHPRES04DEL01 "
          ],
          [
           "BHPRES04DEL02 "
          ],
          [
           "BHPRES04DEL03 "
          ],
          [
           "BHPRES05DEL01 "
          ],
          [
           "BHPRES05DEL02 "
          ],
          [
           "BHPRES05DEL03 "
          ],
          [
           "BHPRES06DEL01 "
          ],
          [
           "BHPRES06DEL02 "
          ],
          [
           "BHPRES06DEL03 "
          ],
          [
           "BHPRES07DEL01 "
          ],
          [
           "BHPRES07DEL02 "
          ],
          [
           "BHPRES07DEL03 "
          ],
          [
           "BHPRES08DEL01 "
          ],
          [
           "BHPRES08DEL02 "
          ],
          [
           "BHPRES08DEL03 "
          ],
          [
           "BHPRES09DEL01 "
          ],
          [
           "BHPRES09DEL02 "
          ],
          [
           "BHPRES09DEL03 "
          ],
          [
           "BHPRES11DEL01 "
          ],
          [
           "BHPRES11DEL02 "
          ],
          [
           "BHPRES11DEL03 "
          ],
          [
           "BHPRES12DEL01 "
          ],
          [
           "BHPRES12DEL02 "
          ],
          [
           "BHPRES12DEL03 "
          ],
          [
           "BHPRES13DEL01 "
          ],
          [
           "BHPRES13DEL02 "
          ],
          [
           "BHPRES13DEL03 "
          ],
          [
           "BHPRES14DEL01 "
          ],
          [
           "BHPRES14DEL02 "
          ],
          [
           "BHPRES14DEL03 "
          ],
          [
           "BHPRES15DEL01 "
          ],
          [
           "BHPRES15DEL02 "
          ],
          [
           "BHPRES15DEL03 "
          ],
          [
           "BHPRES16DEL01 "
          ],
          [
           "BHPRES16DEL02 "
          ],
          [
           "BHPRES16DEL03 "
          ],
          [
           "BHPRES17DEL01 "
          ],
          [
           "BHPRES17DEL02 "
          ],
          [
           "BHPRES17DEL03 "
          ],
          [
           "BHPRES18DEL01 "
          ],
          [
           "BHPRES18DEL02 "
          ],
          [
           "BHPRES18DEL03 "
          ],
          [
           "BHPRES19DEL01 "
          ],
          [
           "BHPRES19DEL02 "
          ],
          [
           "BHPRES19DEL03 "
          ],
          [
           "BHPRES20DEL01 "
          ],
          [
           "BHPRES20DEL02 "
          ],
          [
           "BHPRES20DEL03 "
          ],
          [
           "CHENRES010DEL01 "
          ],
          [
           "CHENRES010DEL02 "
          ],
          [
           "CHENRES010DEL03 "
          ],
          [
           "CHENRES01DEL01 "
          ],
          [
           "CHENRES01DEL02 "
          ],
          [
           "CHENRES01DEL03 "
          ],
          [
           "CHENRES02DEL01 "
          ],
          [
           "CHENRES02DEL02 "
          ],
          [
           "CHENRES02DEL03 "
          ],
          [
           "CHENRES03DEL01 "
          ],
          [
           "CHENRES03DEL02 "
          ],
          [
           "CHENRES03DEL03 "
          ],
          [
           "CHENRES04DEL01 "
          ],
          [
           "CHENRES04DEL02 "
          ],
          [
           "CHENRES04DEL03 "
          ],
          [
           "CHENRES05DEL01 "
          ],
          [
           "CHENRES05DEL02 "
          ],
          [
           "CHENRES05DEL03 "
          ],
          [
           "CHENRES06DEL01 "
          ],
          [
           "CHENRES06DEL02 "
          ],
          [
           "CHENRES06DEL03 "
          ],
          [
           "CHENRES07DEL01 "
          ],
          [
           "CHENRES07DEL02 "
          ],
          [
           "CHENRES07DEL03 "
          ],
          [
           "CHENRES08DEL01 "
          ],
          [
           "CHENRES08DEL02 "
          ],
          [
           "CHENRES08DEL03 "
          ],
          [
           "CHENRES09DEL01 "
          ],
          [
           "CHENRES09DEL02 "
          ],
          [
           "CHENRES09DEL03 "
          ],
          [
           "CHENRES11DEL01 "
          ],
          [
           "CHENRES11DEL02 "
          ],
          [
           "CHENRES11DEL03 "
          ],
          [
           "CHENRES12DEL01 "
          ],
          [
           "CHENRES12DEL02 "
          ],
          [
           "CHENRES12DEL03 "
          ],
          [
           "CHENRES13DEL01 "
          ],
          [
           "CHENRES13DEL02 "
          ],
          [
           "CHENRES13DEL03 "
          ],
          [
           "CHENRES14DEL01 "
          ],
          [
           "CHENRES14DEL02 "
          ],
          [
           "CHENRES14DEL03 "
          ],
          [
           "CHENRES15DEL01 "
          ],
          [
           "CHENRES15DEL02 "
          ],
          [
           "CHENRES15DEL03 "
          ],
          [
           "CHENRES16DEL01 "
          ],
          [
           "CHENRES16DEL02 "
          ],
          [
           "CHENRES16DEL03 "
          ],
          [
           "CHENRES17DEL01 "
          ],
          [
           "CHENRES17DEL02 "
          ],
          [
           "CHENRES17DEL03 "
          ],
          [
           "CHENRES18DEL01 "
          ],
          [
           "CHENRES18DEL02 "
          ],
          [
           "CHENRES18DEL03 "
          ],
          [
           "CHENRES19DEL01 "
          ],
          [
           "CHENRES19DEL02 "
          ],
          [
           "CHENRES19DEL03 "
          ],
          [
           "CHENRES20DEL01 "
          ],
          [
           "CHENRES20DEL02 "
          ],
          [
           "CHENRES20DEL03 "
          ],
          [
           "COIMBRES010DEL01 "
          ],
          [
           "COIMBRES010DEL02 "
          ],
          [
           "COIMBRES010DEL03 "
          ],
          [
           "COIMBRES01DEL01 "
          ],
          [
           "COIMBRES01DEL02 "
          ],
          [
           "COIMBRES01DEL03 "
          ],
          [
           "COIMBRES02DEL01 "
          ],
          [
           "COIMBRES02DEL02 "
          ],
          [
           "COIMBRES02DEL03 "
          ],
          [
           "COIMBRES03DEL01 "
          ],
          [
           "COIMBRES03DEL02 "
          ],
          [
           "COIMBRES03DEL03 "
          ],
          [
           "COIMBRES04DEL01 "
          ],
          [
           "COIMBRES04DEL02 "
          ],
          [
           "COIMBRES04DEL03 "
          ],
          [
           "COIMBRES05DEL01 "
          ],
          [
           "COIMBRES05DEL02 "
          ],
          [
           "COIMBRES05DEL03 "
          ],
          [
           "COIMBRES06DEL01 "
          ],
          [
           "COIMBRES06DEL02 "
          ],
          [
           "COIMBRES06DEL03 "
          ],
          [
           "COIMBRES07DEL01 "
          ],
          [
           "COIMBRES07DEL02 "
          ],
          [
           "COIMBRES07DEL03 "
          ],
          [
           "COIMBRES08DEL01 "
          ],
          [
           "COIMBRES08DEL02 "
          ],
          [
           "COIMBRES08DEL03 "
          ],
          [
           "COIMBRES09DEL01 "
          ],
          [
           "COIMBRES09DEL02 "
          ],
          [
           "COIMBRES09DEL03 "
          ],
          [
           "COIMBRES11DEL01 "
          ],
          [
           "COIMBRES11DEL02 "
          ],
          [
           "COIMBRES11DEL03 "
          ],
          [
           "COIMBRES12DEL01 "
          ],
          [
           "COIMBRES12DEL02 "
          ],
          [
           "COIMBRES12DEL03 "
          ],
          [
           "COIMBRES13DEL01 "
          ],
          [
           "COIMBRES13DEL02 "
          ],
          [
           "COIMBRES13DEL03 "
          ],
          [
           "COIMBRES14DEL01 "
          ],
          [
           "COIMBRES14DEL02 "
          ],
          [
           "COIMBRES14DEL03 "
          ],
          [
           "COIMBRES15DEL01 "
          ],
          [
           "COIMBRES15DEL02 "
          ],
          [
           "COIMBRES15DEL03 "
          ],
          [
           "COIMBRES16DEL01 "
          ],
          [
           "COIMBRES16DEL02 "
          ],
          [
           "COIMBRES16DEL03 "
          ],
          [
           "COIMBRES17DEL01 "
          ],
          [
           "COIMBRES17DEL02 "
          ],
          [
           "COIMBRES17DEL03 "
          ],
          [
           "COIMBRES18DEL01 "
          ],
          [
           "COIMBRES18DEL02 "
          ],
          [
           "COIMBRES18DEL03 "
          ],
          [
           "COIMBRES19DEL01 "
          ],
          [
           "COIMBRES19DEL02 "
          ],
          [
           "COIMBRES19DEL03 "
          ],
          [
           "COIMBRES20DEL01 "
          ],
          [
           "COIMBRES20DEL02 "
          ],
          [
           "COIMBRES20DEL03 "
          ],
          [
           "DEHRES010DEL01 "
          ],
          [
           "DEHRES010DEL02 "
          ],
          [
           "DEHRES010DEL03 "
          ],
          [
           "DEHRES01DEL01 "
          ],
          [
           "DEHRES01DEL02 "
          ],
          [
           "DEHRES01DEL03 "
          ],
          [
           "DEHRES02DEL01 "
          ],
          [
           "DEHRES02DEL02 "
          ],
          [
           "DEHRES02DEL03 "
          ],
          [
           "DEHRES03DEL01 "
          ],
          [
           "DEHRES03DEL02 "
          ],
          [
           "DEHRES03DEL03 "
          ],
          [
           "DEHRES04DEL01 "
          ],
          [
           "DEHRES04DEL02 "
          ],
          [
           "DEHRES04DEL03 "
          ],
          [
           "DEHRES05DEL01 "
          ],
          [
           "DEHRES05DEL02 "
          ],
          [
           "DEHRES05DEL03 "
          ],
          [
           "DEHRES06DEL01 "
          ],
          [
           "DEHRES06DEL02 "
          ],
          [
           "DEHRES06DEL03 "
          ],
          [
           "DEHRES07DEL01 "
          ],
          [
           "DEHRES07DEL02 "
          ],
          [
           "DEHRES07DEL03 "
          ],
          [
           "DEHRES08DEL01 "
          ],
          [
           "DEHRES08DEL02 "
          ],
          [
           "DEHRES08DEL03 "
          ],
          [
           "DEHRES09DEL01 "
          ],
          [
           "DEHRES09DEL02 "
          ],
          [
           "DEHRES09DEL03 "
          ],
          [
           "DEHRES11DEL01 "
          ],
          [
           "DEHRES11DEL02 "
          ],
          [
           "DEHRES11DEL03 "
          ],
          [
           "DEHRES12DEL01 "
          ],
          [
           "DEHRES12DEL02 "
          ],
          [
           "DEHRES12DEL03 "
          ],
          [
           "DEHRES13DEL01 "
          ],
          [
           "DEHRES13DEL02 "
          ],
          [
           "DEHRES13DEL03 "
          ],
          [
           "DEHRES14DEL01 "
          ],
          [
           "DEHRES14DEL02 "
          ],
          [
           "DEHRES14DEL03 "
          ],
          [
           "DEHRES15DEL01 "
          ],
          [
           "DEHRES15DEL02 "
          ],
          [
           "DEHRES15DEL03 "
          ],
          [
           "DEHRES16DEL01 "
          ],
          [
           "DEHRES16DEL02 "
          ],
          [
           "DEHRES16DEL03 "
          ],
          [
           "DEHRES17DEL01 "
          ],
          [
           "DEHRES17DEL02 "
          ],
          [
           "DEHRES17DEL03 "
          ],
          [
           "DEHRES18DEL01 "
          ],
          [
           "DEHRES18DEL02 "
          ],
          [
           "DEHRES18DEL03 "
          ],
          [
           "DEHRES19DEL01 "
          ],
          [
           "DEHRES19DEL02 "
          ],
          [
           "DEHRES19DEL03 "
          ],
          [
           "DEHRES20DEL01 "
          ],
          [
           "DEHRES20DEL02 "
          ],
          [
           "DEHRES20DEL03 "
          ],
          [
           "GOARES010DEL01 "
          ],
          [
           "GOARES010DEL02 "
          ],
          [
           "GOARES010DEL03 "
          ],
          [
           "GOARES01DEL01 "
          ],
          [
           "GOARES01DEL02 "
          ],
          [
           "GOARES01DEL03 "
          ],
          [
           "GOARES02DEL01 "
          ],
          [
           "GOARES02DEL02 "
          ],
          [
           "GOARES02DEL03 "
          ],
          [
           "GOARES03DEL01 "
          ],
          [
           "GOARES03DEL02 "
          ],
          [
           "GOARES03DEL03 "
          ],
          [
           "GOARES04DEL01 "
          ],
          [
           "GOARES04DEL02 "
          ],
          [
           "GOARES04DEL03 "
          ],
          [
           "GOARES05DEL01 "
          ],
          [
           "GOARES05DEL02 "
          ],
          [
           "GOARES05DEL03 "
          ],
          [
           "GOARES06DEL01 "
          ],
          [
           "GOARES06DEL02 "
          ],
          [
           "GOARES06DEL03 "
          ],
          [
           "GOARES07DEL01 "
          ],
          [
           "GOARES07DEL02 "
          ],
          [
           "GOARES07DEL03 "
          ],
          [
           "GOARES08DEL01 "
          ],
          [
           "GOARES08DEL02 "
          ],
          [
           "GOARES08DEL03 "
          ],
          [
           "GOARES09DEL01 "
          ],
          [
           "GOARES09DEL02 "
          ],
          [
           "GOARES09DEL03 "
          ],
          [
           "GOARES11DEL01 "
          ],
          [
           "GOARES11DEL02 "
          ],
          [
           "GOARES11DEL03 "
          ],
          [
           "GOARES12DEL01 "
          ],
          [
           "GOARES12DEL02 "
          ],
          [
           "GOARES12DEL03 "
          ],
          [
           "GOARES13DEL01 "
          ],
          [
           "GOARES13DEL02 "
          ],
          [
           "GOARES13DEL03 "
          ],
          [
           "GOARES14DEL01 "
          ],
          [
           "GOARES14DEL02 "
          ],
          [
           "GOARES14DEL03 "
          ],
          [
           "GOARES15DEL01 "
          ],
          [
           "GOARES15DEL02 "
          ],
          [
           "GOARES15DEL03 "
          ],
          [
           "GOARES16DEL01 "
          ],
          [
           "GOARES16DEL02 "
          ],
          [
           "GOARES16DEL03 "
          ],
          [
           "GOARES17DEL01 "
          ],
          [
           "GOARES17DEL02 "
          ],
          [
           "GOARES17DEL03 "
          ],
          [
           "GOARES18DEL01 "
          ],
          [
           "GOARES18DEL02 "
          ],
          [
           "GOARES18DEL03 "
          ],
          [
           "GOARES19DEL01 "
          ],
          [
           "GOARES19DEL02 "
          ],
          [
           "GOARES19DEL03 "
          ],
          [
           "GOARES20DEL01 "
          ],
          [
           "GOARES20DEL02 "
          ],
          [
           "GOARES20DEL03 "
          ],
          [
           "HYDRES010DEL01 "
          ],
          [
           "HYDRES010DEL02 "
          ],
          [
           "HYDRES010DEL03 "
          ],
          [
           "HYDRES01DEL01 "
          ],
          [
           "HYDRES01DEL02 "
          ],
          [
           "HYDRES01DEL03 "
          ],
          [
           "HYDRES02DEL01 "
          ],
          [
           "HYDRES02DEL02 "
          ],
          [
           "HYDRES02DEL03 "
          ],
          [
           "HYDRES03DEL01 "
          ],
          [
           "HYDRES03DEL02 "
          ],
          [
           "HYDRES03DEL03 "
          ],
          [
           "HYDRES04DEL01 "
          ],
          [
           "HYDRES04DEL02 "
          ],
          [
           "HYDRES04DEL03 "
          ],
          [
           "HYDRES05DEL01 "
          ],
          [
           "HYDRES05DEL02 "
          ],
          [
           "HYDRES05DEL03 "
          ],
          [
           "HYDRES06DEL01 "
          ],
          [
           "HYDRES06DEL02 "
          ],
          [
           "HYDRES06DEL03 "
          ],
          [
           "HYDRES07DEL01 "
          ],
          [
           "HYDRES07DEL02 "
          ],
          [
           "HYDRES07DEL03 "
          ],
          [
           "HYDRES08DEL01 "
          ],
          [
           "HYDRES08DEL02 "
          ],
          [
           "HYDRES08DEL03 "
          ],
          [
           "HYDRES09DEL01 "
          ],
          [
           "HYDRES09DEL02 "
          ],
          [
           "HYDRES09DEL03 "
          ],
          [
           "HYDRES11DEL01 "
          ],
          [
           "HYDRES11DEL02 "
          ],
          [
           "HYDRES11DEL03 "
          ],
          [
           "HYDRES12DEL01 "
          ],
          [
           "HYDRES12DEL02 "
          ],
          [
           "HYDRES12DEL03 "
          ],
          [
           "HYDRES13DEL01 "
          ],
          [
           "HYDRES13DEL02 "
          ],
          [
           "HYDRES13DEL03 "
          ],
          [
           "HYDRES14DEL01 "
          ],
          [
           "HYDRES14DEL02 "
          ],
          [
           "HYDRES14DEL03 "
          ],
          [
           "HYDRES15DEL01 "
          ],
          [
           "HYDRES15DEL02 "
          ],
          [
           "HYDRES15DEL03 "
          ],
          [
           "HYDRES16DEL01 "
          ],
          [
           "HYDRES16DEL02 "
          ],
          [
           "HYDRES16DEL03 "
          ],
          [
           "HYDRES17DEL01 "
          ],
          [
           "HYDRES17DEL02 "
          ],
          [
           "HYDRES17DEL03 "
          ],
          [
           "HYDRES18DEL01 "
          ],
          [
           "HYDRES18DEL02 "
          ],
          [
           "HYDRES18DEL03 "
          ],
          [
           "HYDRES19DEL01 "
          ],
          [
           "HYDRES19DEL02 "
          ],
          [
           "HYDRES19DEL03 "
          ],
          [
           "HYDRES20DEL01 "
          ],
          [
           "HYDRES20DEL02 "
          ],
          [
           "HYDRES20DEL03 "
          ],
          [
           "INDORES010DEL01 "
          ],
          [
           "INDORES010DEL02 "
          ],
          [
           "INDORES010DEL03 "
          ],
          [
           "INDORES01DEL01 "
          ],
          [
           "INDORES01DEL02 "
          ],
          [
           "INDORES01DEL03 "
          ],
          [
           "INDORES02DEL01 "
          ],
          [
           "INDORES02DEL02 "
          ],
          [
           "INDORES02DEL03 "
          ],
          [
           "INDORES03DEL01 "
          ],
          [
           "INDORES03DEL02 "
          ],
          [
           "INDORES03DEL03 "
          ],
          [
           "INDORES04DEL01 "
          ],
          [
           "INDORES04DEL02 "
          ],
          [
           "INDORES04DEL03 "
          ],
          [
           "INDORES05DEL01 "
          ],
          [
           "INDORES05DEL02 "
          ],
          [
           "INDORES05DEL03 "
          ],
          [
           "INDORES06DEL01 "
          ],
          [
           "INDORES06DEL02 "
          ],
          [
           "INDORES06DEL03 "
          ],
          [
           "INDORES07DEL01 "
          ],
          [
           "INDORES07DEL02 "
          ],
          [
           "INDORES07DEL03 "
          ],
          [
           "INDORES08DEL01 "
          ],
          [
           "INDORES08DEL02 "
          ],
          [
           "INDORES08DEL03 "
          ],
          [
           "INDORES09DEL01 "
          ],
          [
           "INDORES09DEL02 "
          ],
          [
           "INDORES09DEL03 "
          ],
          [
           "INDORES11DEL01 "
          ],
          [
           "INDORES11DEL02 "
          ],
          [
           "INDORES11DEL03 "
          ],
          [
           "INDORES12DEL01 "
          ],
          [
           "INDORES12DEL02 "
          ],
          [
           "INDORES12DEL03 "
          ],
          [
           "INDORES13DEL01 "
          ],
          [
           "INDORES13DEL02 "
          ],
          [
           "INDORES13DEL03 "
          ],
          [
           "INDORES14DEL01 "
          ],
          [
           "INDORES14DEL02 "
          ],
          [
           "INDORES14DEL03 "
          ],
          [
           "INDORES15DEL01 "
          ],
          [
           "INDORES15DEL02 "
          ],
          [
           "INDORES15DEL03 "
          ],
          [
           "INDORES16DEL01 "
          ],
          [
           "INDORES16DEL02 "
          ],
          [
           "INDORES16DEL03 "
          ],
          [
           "INDORES17DEL01 "
          ],
          [
           "INDORES17DEL02 "
          ],
          [
           "INDORES17DEL03 "
          ],
          [
           "INDORES18DEL01 "
          ],
          [
           "INDORES18DEL02 "
          ],
          [
           "INDORES18DEL03 "
          ],
          [
           "INDORES19DEL01 "
          ],
          [
           "INDORES19DEL02 "
          ],
          [
           "INDORES19DEL03 "
          ],
          [
           "INDORES20DEL01 "
          ],
          [
           "INDORES20DEL02 "
          ],
          [
           "INDORES20DEL03 "
          ],
          [
           "JAPRES010DEL01 "
          ],
          [
           "JAPRES010DEL02 "
          ],
          [
           "JAPRES010DEL03 "
          ],
          [
           "JAPRES01DEL01 "
          ],
          [
           "JAPRES01DEL02 "
          ],
          [
           "JAPRES01DEL03 "
          ],
          [
           "JAPRES02DEL01 "
          ],
          [
           "JAPRES02DEL02 "
          ],
          [
           "JAPRES02DEL03 "
          ],
          [
           "JAPRES03DEL01 "
          ],
          [
           "JAPRES03DEL02 "
          ],
          [
           "JAPRES03DEL03 "
          ],
          [
           "JAPRES04DEL01 "
          ],
          [
           "JAPRES04DEL02 "
          ],
          [
           "JAPRES04DEL03 "
          ],
          [
           "JAPRES05DEL01 "
          ],
          [
           "JAPRES05DEL02 "
          ],
          [
           "JAPRES05DEL03 "
          ],
          [
           "JAPRES06DEL01 "
          ],
          [
           "JAPRES06DEL02 "
          ],
          [
           "JAPRES06DEL03 "
          ],
          [
           "JAPRES07DEL01 "
          ],
          [
           "JAPRES07DEL02 "
          ],
          [
           "JAPRES07DEL03 "
          ],
          [
           "JAPRES08DEL01 "
          ],
          [
           "JAPRES08DEL02 "
          ],
          [
           "JAPRES08DEL03 "
          ],
          [
           "JAPRES09DEL01 "
          ],
          [
           "JAPRES09DEL02 "
          ],
          [
           "JAPRES09DEL03 "
          ],
          [
           "JAPRES11DEL01 "
          ],
          [
           "JAPRES11DEL02 "
          ],
          [
           "JAPRES11DEL03 "
          ],
          [
           "JAPRES12DEL01 "
          ],
          [
           "JAPRES12DEL02 "
          ],
          [
           "JAPRES12DEL03 "
          ],
          [
           "JAPRES13DEL01 "
          ],
          [
           "JAPRES13DEL02 "
          ],
          [
           "JAPRES13DEL03 "
          ],
          [
           "JAPRES14DEL01 "
          ],
          [
           "JAPRES14DEL02 "
          ],
          [
           "JAPRES14DEL03 "
          ],
          [
           "JAPRES15DEL01 "
          ],
          [
           "JAPRES15DEL02 "
          ],
          [
           "JAPRES15DEL03 "
          ],
          [
           "JAPRES16DEL01 "
          ],
          [
           "JAPRES16DEL02 "
          ],
          [
           "JAPRES16DEL03 "
          ],
          [
           "JAPRES17DEL01 "
          ],
          [
           "JAPRES17DEL02 "
          ],
          [
           "JAPRES17DEL03 "
          ],
          [
           "JAPRES18DEL01 "
          ],
          [
           "JAPRES18DEL02 "
          ],
          [
           "JAPRES18DEL03 "
          ],
          [
           "JAPRES19DEL01 "
          ],
          [
           "JAPRES19DEL02 "
          ],
          [
           "JAPRES19DEL03 "
          ],
          [
           "JAPRES20DEL01 "
          ],
          [
           "JAPRES20DEL02 "
          ],
          [
           "JAPRES20DEL03 "
          ],
          [
           "KNPRES010DEL01 "
          ],
          [
           "KNPRES010DEL02 "
          ],
          [
           "KNPRES010DEL03 "
          ],
          [
           "KNPRES01DEL01 "
          ],
          [
           "KNPRES01DEL02 "
          ],
          [
           "KNPRES01DEL03 "
          ],
          [
           "KNPRES02DEL01 "
          ],
          [
           "KNPRES02DEL02 "
          ],
          [
           "KNPRES02DEL03 "
          ],
          [
           "KNPRES03DEL01 "
          ],
          [
           "KNPRES03DEL02 "
          ],
          [
           "KNPRES03DEL03 "
          ],
          [
           "KNPRES04DEL01 "
          ],
          [
           "KNPRES04DEL02 "
          ],
          [
           "KNPRES04DEL03 "
          ],
          [
           "KNPRES05DEL01 "
          ],
          [
           "KNPRES05DEL02 "
          ],
          [
           "KNPRES05DEL03 "
          ],
          [
           "KNPRES06DEL01 "
          ],
          [
           "KNPRES06DEL02 "
          ],
          [
           "KNPRES06DEL03 "
          ],
          [
           "KNPRES07DEL01 "
          ],
          [
           "KNPRES07DEL02 "
          ],
          [
           "KNPRES07DEL03 "
          ],
          [
           "KNPRES08DEL01 "
          ],
          [
           "KNPRES08DEL02 "
          ],
          [
           "KNPRES08DEL03 "
          ],
          [
           "KNPRES09DEL01 "
          ],
          [
           "KNPRES09DEL02 "
          ],
          [
           "KNPRES09DEL03 "
          ],
          [
           "KNPRES11DEL01 "
          ],
          [
           "KNPRES11DEL02 "
          ],
          [
           "KNPRES11DEL03 "
          ],
          [
           "KNPRES12DEL01 "
          ],
          [
           "KNPRES12DEL02 "
          ],
          [
           "KNPRES12DEL03 "
          ],
          [
           "KNPRES13DEL01 "
          ],
          [
           "KNPRES13DEL02 "
          ],
          [
           "KNPRES13DEL03 "
          ],
          [
           "KNPRES14DEL01 "
          ],
          [
           "KNPRES14DEL02 "
          ],
          [
           "KNPRES14DEL03 "
          ],
          [
           "KNPRES15DEL01 "
          ],
          [
           "KNPRES15DEL02 "
          ],
          [
           "KNPRES15DEL03 "
          ],
          [
           "KNPRES16DEL01 "
          ],
          [
           "KNPRES16DEL02 "
          ],
          [
           "KNPRES16DEL03 "
          ],
          [
           "KNPRES17DEL01 "
          ],
          [
           "KNPRES17DEL02 "
          ],
          [
           "KNPRES17DEL03 "
          ],
          [
           "KNPRES18DEL01 "
          ],
          [
           "KNPRES18DEL02 "
          ],
          [
           "KNPRES18DEL03 "
          ],
          [
           "KNPRES19DEL01 "
          ],
          [
           "KNPRES19DEL02 "
          ],
          [
           "KNPRES19DEL03 "
          ],
          [
           "KNPRES20DEL01 "
          ],
          [
           "KNPRES20DEL02 "
          ],
          [
           "KNPRES20DEL03 "
          ],
          [
           "KOCRES010DEL01 "
          ],
          [
           "KOCRES010DEL02 "
          ],
          [
           "KOCRES010DEL03 "
          ],
          [
           "KOCRES01DEL01 "
          ],
          [
           "KOCRES01DEL02 "
          ],
          [
           "KOCRES01DEL03 "
          ],
          [
           "KOCRES02DEL01 "
          ],
          [
           "KOCRES02DEL02 "
          ],
          [
           "KOCRES02DEL03 "
          ],
          [
           "KOCRES03DEL01 "
          ],
          [
           "KOCRES03DEL02 "
          ],
          [
           "KOCRES03DEL03 "
          ],
          [
           "KOCRES04DEL01 "
          ],
          [
           "KOCRES04DEL02 "
          ],
          [
           "KOCRES04DEL03 "
          ],
          [
           "KOCRES05DEL01 "
          ],
          [
           "KOCRES05DEL02 "
          ],
          [
           "KOCRES05DEL03 "
          ],
          [
           "KOCRES06DEL01 "
          ],
          [
           "KOCRES06DEL02 "
          ],
          [
           "KOCRES06DEL03 "
          ],
          [
           "KOCRES07DEL01 "
          ],
          [
           "KOCRES07DEL02 "
          ],
          [
           "KOCRES07DEL03 "
          ],
          [
           "KOCRES08DEL01 "
          ],
          [
           "KOCRES08DEL02 "
          ],
          [
           "KOCRES08DEL03 "
          ],
          [
           "KOCRES09DEL01 "
          ],
          [
           "KOCRES09DEL02 "
          ],
          [
           "KOCRES09DEL03 "
          ],
          [
           "KOCRES11DEL01 "
          ],
          [
           "KOCRES11DEL02 "
          ],
          [
           "KOCRES11DEL03 "
          ],
          [
           "KOCRES12DEL01 "
          ],
          [
           "KOCRES12DEL02 "
          ],
          [
           "KOCRES12DEL03 "
          ],
          [
           "KOCRES13DEL01 "
          ],
          [
           "KOCRES13DEL02 "
          ],
          [
           "KOCRES13DEL03 "
          ],
          [
           "KOCRES14DEL01 "
          ],
          [
           "KOCRES14DEL02 "
          ],
          [
           "KOCRES14DEL03 "
          ],
          [
           "KOCRES15DEL01 "
          ],
          [
           "KOCRES15DEL02 "
          ],
          [
           "KOCRES15DEL03 "
          ],
          [
           "KOCRES16DEL01 "
          ],
          [
           "KOCRES16DEL02 "
          ],
          [
           "KOCRES16DEL03 "
          ],
          [
           "KOCRES17DEL01 "
          ],
          [
           "KOCRES17DEL02 "
          ],
          [
           "KOCRES17DEL03 "
          ],
          [
           "KOCRES18DEL01 "
          ],
          [
           "KOCRES18DEL02 "
          ],
          [
           "KOCRES18DEL03 "
          ],
          [
           "KOCRES19DEL01 "
          ],
          [
           "KOCRES19DEL02 "
          ],
          [
           "KOCRES19DEL03 "
          ],
          [
           "KOCRES20DEL01 "
          ],
          [
           "KOCRES20DEL02 "
          ],
          [
           "KOCRES20DEL03 "
          ],
          [
           "KOLRES010DEL01 "
          ],
          [
           "KOLRES010DEL02 "
          ],
          [
           "KOLRES010DEL03 "
          ],
          [
           "KOLRES01DEL01 "
          ],
          [
           "KOLRES01DEL02 "
          ],
          [
           "KOLRES01DEL03 "
          ],
          [
           "KOLRES02DEL01 "
          ],
          [
           "KOLRES02DEL02 "
          ],
          [
           "KOLRES02DEL03 "
          ],
          [
           "KOLRES03DEL01 "
          ],
          [
           "KOLRES03DEL02 "
          ],
          [
           "KOLRES03DEL03 "
          ],
          [
           "KOLRES04DEL01 "
          ],
          [
           "KOLRES04DEL02 "
          ],
          [
           "KOLRES04DEL03 "
          ],
          [
           "KOLRES05DEL01 "
          ],
          [
           "KOLRES05DEL02 "
          ],
          [
           "KOLRES05DEL03 "
          ],
          [
           "KOLRES06DEL01 "
          ],
          [
           "KOLRES06DEL02 "
          ],
          [
           "KOLRES06DEL03 "
          ],
          [
           "KOLRES07DEL01 "
          ],
          [
           "KOLRES07DEL02 "
          ],
          [
           "KOLRES07DEL03 "
          ],
          [
           "KOLRES08DEL01 "
          ],
          [
           "KOLRES08DEL02 "
          ],
          [
           "KOLRES08DEL03 "
          ],
          [
           "KOLRES09DEL01 "
          ],
          [
           "KOLRES09DEL02 "
          ],
          [
           "KOLRES09DEL03 "
          ],
          [
           "KOLRES11DEL01 "
          ],
          [
           "KOLRES11DEL02 "
          ],
          [
           "KOLRES11DEL03 "
          ],
          [
           "KOLRES12DEL01 "
          ],
          [
           "KOLRES12DEL02 "
          ],
          [
           "KOLRES12DEL03 "
          ],
          [
           "KOLRES13DEL01 "
          ],
          [
           "KOLRES13DEL02 "
          ],
          [
           "KOLRES13DEL03 "
          ],
          [
           "KOLRES14DEL01 "
          ],
          [
           "KOLRES14DEL02 "
          ],
          [
           "KOLRES14DEL03 "
          ],
          [
           "KOLRES15DEL01 "
          ],
          [
           "KOLRES15DEL02 "
          ],
          [
           "KOLRES15DEL03 "
          ],
          [
           "KOLRES16DEL01 "
          ],
          [
           "KOLRES16DEL02 "
          ],
          [
           "KOLRES16DEL03 "
          ],
          [
           "KOLRES17DEL01 "
          ],
          [
           "KOLRES17DEL02 "
          ],
          [
           "KOLRES17DEL03 "
          ],
          [
           "KOLRES18DEL01 "
          ],
          [
           "KOLRES18DEL02 "
          ],
          [
           "KOLRES18DEL03 "
          ],
          [
           "KOLRES19DEL01 "
          ],
          [
           "KOLRES19DEL02 "
          ],
          [
           "KOLRES19DEL03 "
          ],
          [
           "KOLRES20DEL01 "
          ],
          [
           "KOLRES20DEL02 "
          ],
          [
           "KOLRES20DEL03 "
          ],
          [
           "LUDHRES010DEL01 "
          ],
          [
           "LUDHRES010DEL02 "
          ],
          [
           "LUDHRES010DEL03 "
          ],
          [
           "LUDHRES01DEL01 "
          ],
          [
           "LUDHRES01DEL02 "
          ],
          [
           "LUDHRES01DEL03 "
          ],
          [
           "LUDHRES02DEL01 "
          ],
          [
           "LUDHRES02DEL02 "
          ],
          [
           "LUDHRES02DEL03 "
          ],
          [
           "LUDHRES03DEL01 "
          ],
          [
           "LUDHRES03DEL02 "
          ],
          [
           "LUDHRES03DEL03 "
          ],
          [
           "LUDHRES04DEL01 "
          ],
          [
           "LUDHRES04DEL02 "
          ],
          [
           "LUDHRES04DEL03 "
          ],
          [
           "LUDHRES05DEL01 "
          ],
          [
           "LUDHRES05DEL02 "
          ],
          [
           "LUDHRES05DEL03 "
          ],
          [
           "LUDHRES06DEL01 "
          ],
          [
           "LUDHRES06DEL02 "
          ],
          [
           "LUDHRES06DEL03 "
          ],
          [
           "LUDHRES07DEL01 "
          ],
          [
           "LUDHRES07DEL02 "
          ],
          [
           "LUDHRES07DEL03 "
          ],
          [
           "LUDHRES08DEL01 "
          ],
          [
           "LUDHRES08DEL02 "
          ],
          [
           "LUDHRES08DEL03 "
          ],
          [
           "LUDHRES09DEL01 "
          ],
          [
           "LUDHRES09DEL02 "
          ],
          [
           "LUDHRES09DEL03 "
          ],
          [
           "LUDHRES11DEL01 "
          ],
          [
           "LUDHRES11DEL02 "
          ],
          [
           "LUDHRES11DEL03 "
          ],
          [
           "LUDHRES12DEL01 "
          ],
          [
           "LUDHRES12DEL02 "
          ],
          [
           "LUDHRES12DEL03 "
          ],
          [
           "LUDHRES13DEL01 "
          ],
          [
           "LUDHRES13DEL02 "
          ],
          [
           "LUDHRES13DEL03 "
          ],
          [
           "LUDHRES14DEL01 "
          ],
          [
           "LUDHRES14DEL02 "
          ],
          [
           "LUDHRES14DEL03 "
          ],
          [
           "LUDHRES15DEL01 "
          ],
          [
           "LUDHRES15DEL02 "
          ],
          [
           "LUDHRES15DEL03 "
          ],
          [
           "LUDHRES16DEL01 "
          ],
          [
           "LUDHRES16DEL02 "
          ],
          [
           "LUDHRES16DEL03 "
          ],
          [
           "LUDHRES17DEL01 "
          ],
          [
           "LUDHRES17DEL02 "
          ],
          [
           "LUDHRES17DEL03 "
          ],
          [
           "LUDHRES18DEL01 "
          ],
          [
           "LUDHRES18DEL02 "
          ],
          [
           "LUDHRES18DEL03 "
          ],
          [
           "LUDHRES19DEL01 "
          ],
          [
           "LUDHRES19DEL02 "
          ],
          [
           "LUDHRES19DEL03 "
          ],
          [
           "LUDHRES20DEL01 "
          ],
          [
           "LUDHRES20DEL02 "
          ],
          [
           "LUDHRES20DEL03 "
          ],
          [
           "MUMRES010DEL01 "
          ],
          [
           "MUMRES010DEL02 "
          ],
          [
           "MUMRES010DEL03 "
          ],
          [
           "MUMRES01DEL01 "
          ],
          [
           "MUMRES01DEL02 "
          ],
          [
           "MUMRES01DEL03 "
          ],
          [
           "MUMRES02DEL01 "
          ],
          [
           "MUMRES02DEL02 "
          ],
          [
           "MUMRES02DEL03 "
          ],
          [
           "MUMRES03DEL01 "
          ],
          [
           "MUMRES03DEL02 "
          ],
          [
           "MUMRES03DEL03 "
          ],
          [
           "MUMRES04DEL01 "
          ],
          [
           "MUMRES04DEL02 "
          ],
          [
           "MUMRES04DEL03 "
          ],
          [
           "MUMRES05DEL01 "
          ],
          [
           "MUMRES05DEL02 "
          ],
          [
           "MUMRES05DEL03 "
          ],
          [
           "MUMRES06DEL01 "
          ],
          [
           "MUMRES06DEL02 "
          ],
          [
           "MUMRES06DEL03 "
          ],
          [
           "MUMRES07DEL01 "
          ],
          [
           "MUMRES07DEL02 "
          ],
          [
           "MUMRES07DEL03 "
          ],
          [
           "MUMRES08DEL01 "
          ],
          [
           "MUMRES08DEL02 "
          ],
          [
           "MUMRES08DEL03 "
          ],
          [
           "MUMRES09DEL01 "
          ],
          [
           "MUMRES09DEL02 "
          ],
          [
           "MUMRES09DEL03 "
          ],
          [
           "MUMRES11DEL01 "
          ],
          [
           "MUMRES11DEL02 "
          ],
          [
           "MUMRES11DEL03 "
          ],
          [
           "MUMRES12DEL01 "
          ],
          [
           "MUMRES12DEL02 "
          ],
          [
           "MUMRES12DEL03 "
          ],
          [
           "MUMRES13DEL01 "
          ],
          [
           "MUMRES13DEL02 "
          ],
          [
           "MUMRES13DEL03 "
          ],
          [
           "MUMRES14DEL01 "
          ],
          [
           "MUMRES14DEL02 "
          ],
          [
           "MUMRES14DEL03 "
          ],
          [
           "MUMRES15DEL01 "
          ],
          [
           "MUMRES15DEL02 "
          ],
          [
           "MUMRES15DEL03 "
          ],
          [
           "MUMRES16DEL01 "
          ],
          [
           "MUMRES16DEL02 "
          ],
          [
           "MUMRES16DEL03 "
          ],
          [
           "MUMRES17DEL01 "
          ],
          [
           "MUMRES17DEL02 "
          ],
          [
           "MUMRES17DEL03 "
          ],
          [
           "MUMRES18DEL01 "
          ],
          [
           "MUMRES18DEL02 "
          ],
          [
           "MUMRES18DEL03 "
          ],
          [
           "MUMRES19DEL01 "
          ],
          [
           "MUMRES19DEL02 "
          ],
          [
           "MUMRES19DEL03 "
          ],
          [
           "MUMRES20DEL01 "
          ],
          [
           "MUMRES20DEL02 "
          ],
          [
           "MUMRES20DEL03 "
          ],
          [
           "MYSRES010DEL01 "
          ],
          [
           "MYSRES010DEL02 "
          ],
          [
           "MYSRES010DEL03 "
          ],
          [
           "MYSRES01DEL01 "
          ],
          [
           "MYSRES01DEL02 "
          ],
          [
           "MYSRES01DEL03 "
          ],
          [
           "MYSRES02DEL01 "
          ],
          [
           "MYSRES02DEL02 "
          ],
          [
           "MYSRES02DEL03 "
          ],
          [
           "MYSRES03DEL01 "
          ],
          [
           "MYSRES03DEL02 "
          ],
          [
           "MYSRES03DEL03 "
          ],
          [
           "MYSRES04DEL01 "
          ],
          [
           "MYSRES04DEL02 "
          ],
          [
           "MYSRES04DEL03 "
          ],
          [
           "MYSRES05DEL01 "
          ],
          [
           "MYSRES05DEL02 "
          ],
          [
           "MYSRES05DEL03 "
          ],
          [
           "MYSRES06DEL01 "
          ],
          [
           "MYSRES06DEL02 "
          ],
          [
           "MYSRES06DEL03 "
          ],
          [
           "MYSRES07DEL01 "
          ],
          [
           "MYSRES07DEL02 "
          ],
          [
           "MYSRES07DEL03 "
          ],
          [
           "MYSRES08DEL01 "
          ],
          [
           "MYSRES08DEL02 "
          ],
          [
           "MYSRES08DEL03 "
          ],
          [
           "MYSRES09DEL01 "
          ],
          [
           "MYSRES09DEL02 "
          ],
          [
           "MYSRES09DEL03 "
          ],
          [
           "MYSRES11DEL01 "
          ],
          [
           "MYSRES11DEL02 "
          ],
          [
           "MYSRES11DEL03 "
          ],
          [
           "MYSRES12DEL01 "
          ],
          [
           "MYSRES12DEL02 "
          ],
          [
           "MYSRES12DEL03 "
          ],
          [
           "MYSRES13DEL01 "
          ],
          [
           "MYSRES13DEL02 "
          ],
          [
           "MYSRES13DEL03 "
          ],
          [
           "MYSRES14DEL01 "
          ],
          [
           "MYSRES14DEL02 "
          ],
          [
           "MYSRES14DEL03 "
          ],
          [
           "MYSRES15DEL01 "
          ],
          [
           "MYSRES15DEL02 "
          ],
          [
           "MYSRES15DEL03 "
          ],
          [
           "MYSRES16DEL01 "
          ],
          [
           "MYSRES16DEL02 "
          ],
          [
           "MYSRES16DEL03 "
          ],
          [
           "MYSRES17DEL01 "
          ],
          [
           "MYSRES17DEL02 "
          ],
          [
           "MYSRES17DEL03 "
          ],
          [
           "MYSRES18DEL01 "
          ],
          [
           "MYSRES18DEL02 "
          ],
          [
           "MYSRES18DEL03 "
          ],
          [
           "MYSRES19DEL01 "
          ],
          [
           "MYSRES19DEL02 "
          ],
          [
           "MYSRES19DEL03 "
          ],
          [
           "MYSRES20DEL01 "
          ],
          [
           "MYSRES20DEL02 "
          ],
          [
           "MYSRES20DEL03 "
          ],
          [
           "PUNERES010DEL01 "
          ],
          [
           "PUNERES010DEL02 "
          ],
          [
           "PUNERES010DEL03 "
          ],
          [
           "PUNERES01DEL01 "
          ],
          [
           "PUNERES01DEL02 "
          ],
          [
           "PUNERES01DEL03 "
          ],
          [
           "PUNERES02DEL01 "
          ],
          [
           "PUNERES02DEL02 "
          ],
          [
           "PUNERES02DEL03 "
          ],
          [
           "PUNERES03DEL01 "
          ],
          [
           "PUNERES03DEL02 "
          ],
          [
           "PUNERES03DEL03 "
          ],
          [
           "PUNERES04DEL01 "
          ],
          [
           "PUNERES04DEL02 "
          ],
          [
           "PUNERES04DEL03 "
          ],
          [
           "PUNERES05DEL01 "
          ],
          [
           "PUNERES05DEL02 "
          ],
          [
           "PUNERES05DEL03 "
          ],
          [
           "PUNERES06DEL01 "
          ],
          [
           "PUNERES06DEL02 "
          ],
          [
           "PUNERES06DEL03 "
          ],
          [
           "PUNERES07DEL01 "
          ],
          [
           "PUNERES07DEL02 "
          ],
          [
           "PUNERES07DEL03 "
          ],
          [
           "PUNERES08DEL01 "
          ],
          [
           "PUNERES08DEL02 "
          ],
          [
           "PUNERES08DEL03 "
          ],
          [
           "PUNERES09DEL01 "
          ],
          [
           "PUNERES09DEL02 "
          ],
          [
           "PUNERES09DEL03 "
          ],
          [
           "PUNERES11DEL01 "
          ],
          [
           "PUNERES11DEL02 "
          ],
          [
           "PUNERES11DEL03 "
          ],
          [
           "PUNERES12DEL01 "
          ],
          [
           "PUNERES12DEL02 "
          ],
          [
           "PUNERES12DEL03 "
          ],
          [
           "PUNERES13DEL01 "
          ],
          [
           "PUNERES13DEL02 "
          ],
          [
           "PUNERES13DEL03 "
          ],
          [
           "PUNERES14DEL01 "
          ],
          [
           "PUNERES14DEL02 "
          ],
          [
           "PUNERES14DEL03 "
          ],
          [
           "PUNERES15DEL01 "
          ],
          [
           "PUNERES15DEL02 "
          ],
          [
           "PUNERES15DEL03 "
          ],
          [
           "PUNERES16DEL01 "
          ],
          [
           "PUNERES16DEL02 "
          ],
          [
           "PUNERES16DEL03 "
          ],
          [
           "PUNERES17DEL01 "
          ],
          [
           "PUNERES17DEL02 "
          ],
          [
           "PUNERES17DEL03 "
          ],
          [
           "PUNERES18DEL01 "
          ],
          [
           "PUNERES18DEL02 "
          ],
          [
           "PUNERES18DEL03 "
          ],
          [
           "PUNERES19DEL01 "
          ],
          [
           "PUNERES19DEL02 "
          ],
          [
           "PUNERES19DEL03 "
          ],
          [
           "PUNERES20DEL01 "
          ],
          [
           "PUNERES20DEL02 "
          ],
          [
           "PUNERES20DEL03 "
          ],
          [
           "RANCHIRES010DEL01 "
          ],
          [
           "RANCHIRES010DEL02 "
          ],
          [
           "RANCHIRES010DEL03 "
          ],
          [
           "RANCHIRES01DEL01 "
          ],
          [
           "RANCHIRES01DEL02 "
          ],
          [
           "RANCHIRES01DEL03 "
          ],
          [
           "RANCHIRES02DEL01 "
          ],
          [
           "RANCHIRES02DEL02 "
          ],
          [
           "RANCHIRES02DEL03 "
          ],
          [
           "RANCHIRES03DEL01 "
          ],
          [
           "RANCHIRES03DEL02 "
          ],
          [
           "RANCHIRES03DEL03 "
          ],
          [
           "RANCHIRES04DEL01 "
          ],
          [
           "RANCHIRES04DEL02 "
          ],
          [
           "RANCHIRES04DEL03 "
          ],
          [
           "RANCHIRES05DEL01 "
          ],
          [
           "RANCHIRES05DEL02 "
          ],
          [
           "RANCHIRES05DEL03 "
          ],
          [
           "RANCHIRES06DEL01 "
          ],
          [
           "RANCHIRES06DEL02 "
          ],
          [
           "RANCHIRES06DEL03 "
          ],
          [
           "RANCHIRES07DEL01 "
          ],
          [
           "RANCHIRES07DEL02 "
          ],
          [
           "RANCHIRES07DEL03 "
          ],
          [
           "RANCHIRES08DEL01 "
          ],
          [
           "RANCHIRES08DEL02 "
          ],
          [
           "RANCHIRES08DEL03 "
          ],
          [
           "RANCHIRES09DEL01 "
          ],
          [
           "RANCHIRES09DEL02 "
          ],
          [
           "RANCHIRES09DEL03 "
          ],
          [
           "RANCHIRES11DEL01 "
          ],
          [
           "RANCHIRES11DEL02 "
          ],
          [
           "RANCHIRES11DEL03 "
          ],
          [
           "RANCHIRES12DEL01 "
          ],
          [
           "RANCHIRES12DEL02 "
          ],
          [
           "RANCHIRES12DEL03 "
          ],
          [
           "RANCHIRES13DEL01 "
          ],
          [
           "RANCHIRES13DEL02 "
          ],
          [
           "RANCHIRES13DEL03 "
          ],
          [
           "RANCHIRES14DEL01 "
          ],
          [
           "RANCHIRES14DEL02 "
          ],
          [
           "RANCHIRES14DEL03 "
          ],
          [
           "RANCHIRES15DEL01 "
          ],
          [
           "RANCHIRES15DEL02 "
          ],
          [
           "RANCHIRES15DEL03 "
          ],
          [
           "RANCHIRES16DEL01 "
          ],
          [
           "RANCHIRES16DEL02 "
          ],
          [
           "RANCHIRES16DEL03 "
          ],
          [
           "RANCHIRES17DEL01 "
          ],
          [
           "RANCHIRES17DEL02 "
          ],
          [
           "RANCHIRES17DEL03 "
          ],
          [
           "RANCHIRES18DEL01 "
          ],
          [
           "RANCHIRES18DEL02 "
          ],
          [
           "RANCHIRES18DEL03 "
          ],
          [
           "RANCHIRES19DEL01 "
          ],
          [
           "RANCHIRES19DEL02 "
          ],
          [
           "RANCHIRES19DEL03 "
          ],
          [
           "RANCHIRES20DEL01 "
          ],
          [
           "RANCHIRES20DEL02 "
          ],
          [
           "RANCHIRES20DEL03 "
          ],
          [
           "SURRES010DEL01 "
          ],
          [
           "SURRES010DEL02 "
          ],
          [
           "SURRES010DEL03 "
          ],
          [
           "SURRES01DEL01 "
          ],
          [
           "SURRES01DEL02 "
          ],
          [
           "SURRES01DEL03 "
          ],
          [
           "SURRES02DEL01 "
          ],
          [
           "SURRES02DEL02 "
          ],
          [
           "SURRES02DEL03 "
          ],
          [
           "SURRES03DEL01 "
          ],
          [
           "SURRES03DEL02 "
          ],
          [
           "SURRES03DEL03 "
          ],
          [
           "SURRES04DEL01 "
          ],
          [
           "SURRES04DEL02 "
          ],
          [
           "SURRES04DEL03 "
          ],
          [
           "SURRES05DEL01 "
          ],
          [
           "SURRES05DEL02 "
          ],
          [
           "SURRES05DEL03 "
          ],
          [
           "SURRES06DEL01 "
          ],
          [
           "SURRES06DEL02 "
          ],
          [
           "SURRES06DEL03 "
          ],
          [
           "SURRES07DEL01 "
          ],
          [
           "SURRES07DEL02 "
          ],
          [
           "SURRES07DEL03 "
          ],
          [
           "SURRES08DEL01 "
          ],
          [
           "SURRES08DEL02 "
          ],
          [
           "SURRES08DEL03 "
          ],
          [
           "SURRES09DEL01 "
          ],
          [
           "SURRES09DEL02 "
          ],
          [
           "SURRES09DEL03 "
          ],
          [
           "SURRES11DEL01 "
          ],
          [
           "SURRES11DEL02 "
          ],
          [
           "SURRES11DEL03 "
          ],
          [
           "SURRES12DEL01 "
          ],
          [
           "SURRES12DEL02 "
          ],
          [
           "SURRES12DEL03 "
          ],
          [
           "SURRES13DEL01 "
          ],
          [
           "SURRES13DEL02 "
          ],
          [
           "SURRES13DEL03 "
          ],
          [
           "SURRES14DEL01 "
          ],
          [
           "SURRES14DEL02 "
          ],
          [
           "SURRES14DEL03 "
          ],
          [
           "SURRES15DEL01 "
          ],
          [
           "SURRES15DEL02 "
          ],
          [
           "SURRES15DEL03 "
          ],
          [
           "SURRES16DEL01 "
          ],
          [
           "SURRES16DEL02 "
          ],
          [
           "SURRES16DEL03 "
          ],
          [
           "SURRES17DEL01 "
          ],
          [
           "SURRES17DEL02 "
          ],
          [
           "SURRES17DEL03 "
          ],
          [
           "SURRES18DEL01 "
          ],
          [
           "SURRES18DEL02 "
          ],
          [
           "SURRES18DEL03 "
          ],
          [
           "SURRES19DEL01 "
          ],
          [
           "SURRES19DEL02 "
          ],
          [
           "SURRES19DEL03 "
          ],
          [
           "SURRES20DEL01 "
          ],
          [
           "SURRES20DEL02 "
          ],
          [
           "SURRES20DEL03 "
          ],
          [
           "VADRES010DEL01 "
          ],
          [
           "VADRES010DEL02 "
          ],
          [
           "VADRES010DEL03 "
          ],
          [
           "VADRES01DEL01 "
          ],
          [
           "VADRES01DEL02 "
          ],
          [
           "VADRES01DEL03 "
          ],
          [
           "VADRES02DEL01 "
          ],
          [
           "VADRES02DEL02 "
          ],
          [
           "VADRES02DEL03 "
          ],
          [
           "VADRES03DEL01 "
          ],
          [
           "VADRES03DEL02 "
          ],
          [
           "VADRES03DEL03 "
          ],
          [
           "VADRES04DEL01 "
          ],
          [
           "VADRES04DEL02 "
          ],
          [
           "VADRES04DEL03 "
          ],
          [
           "VADRES05DEL01 "
          ],
          [
           "VADRES05DEL02 "
          ],
          [
           "VADRES05DEL03 "
          ],
          [
           "VADRES06DEL01 "
          ],
          [
           "VADRES06DEL02 "
          ],
          [
           "VADRES06DEL03 "
          ],
          [
           "VADRES07DEL01 "
          ],
          [
           "VADRES07DEL02 "
          ],
          [
           "VADRES07DEL03 "
          ],
          [
           "VADRES08DEL01 "
          ],
          [
           "VADRES08DEL02 "
          ],
          [
           "VADRES08DEL03 "
          ],
          [
           "VADRES09DEL01 "
          ],
          [
           "VADRES09DEL02 "
          ],
          [
           "VADRES09DEL03 "
          ],
          [
           "VADRES11DEL01 "
          ],
          [
           "VADRES11DEL02 "
          ],
          [
           "VADRES11DEL03 "
          ],
          [
           "VADRES12DEL01 "
          ],
          [
           "VADRES12DEL02 "
          ],
          [
           "VADRES12DEL03 "
          ],
          [
           "VADRES13DEL01 "
          ],
          [
           "VADRES13DEL02 "
          ],
          [
           "VADRES13DEL03 "
          ],
          [
           "VADRES14DEL01 "
          ],
          [
           "VADRES14DEL02 "
          ],
          [
           "VADRES14DEL03 "
          ],
          [
           "VADRES15DEL01 "
          ],
          [
           "VADRES15DEL02 "
          ],
          [
           "VADRES15DEL03 "
          ],
          [
           "VADRES16DEL01 "
          ],
          [
           "VADRES16DEL02 "
          ],
          [
           "VADRES16DEL03 "
          ],
          [
           "VADRES17DEL01 "
          ],
          [
           "VADRES17DEL02 "
          ],
          [
           "VADRES17DEL03 "
          ],
          [
           "VADRES18DEL01 "
          ],
          [
           "VADRES18DEL02 "
          ],
          [
           "VADRES18DEL03 "
          ],
          [
           "VADRES19DEL01 "
          ],
          [
           "VADRES19DEL02 "
          ],
          [
           "VADRES19DEL03 "
          ],
          [
           "VADRES20DEL01 "
          ],
          [
           "VADRES20DEL02 "
          ],
          [
           "VADRES20DEL03 "
          ]
         ],
         "hovertemplate": "Median Ratings=%{x}<br>Median Age=%{marker.color}<br>Delivery_person_ID=%{customdata[0]}<extra></extra>",
         "legendgroup": "",
         "marker": {
          "color": {
           "bdata": "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",
           "dtype": "f8"
          },
          "coloraxis": "coloraxis",
          "line": {
           "color": "DarkSlateGrey",
           "width": 1
          },
          "opacity": 0.8,
          "size": 12,
          "symbol": "circle"
         },
         "mode": "markers",
         "name": "",
         "showlegend": false,
         "type": "scattergl",
         "x": {
          "bdata": "MzMzMzMzE0BmZmZmZmYTQM3MzMzMzBJAzczMzMzMEkDNzMzMzMwSQJqZmZmZmRJAzczMzMzMEkBmZmZmZmYSQM3MzMzMzBJAZmZmZmZmE0DNzMzMzMwSQDMzMzMzMxNAAAAAAAAAE0BmZmZmZmYTQJqZmZmZmRNAzczMzMzMEkAAAAAAAAATQDMzMzMzMxNAZmZmZmZmEkAAAAAAAAATQM3MzMzMzBJAzczMzMzMEkBmZmZmZmYSQM3MzMzMzBJAMzMzMzMzE0DNzMzMzMwSQGZmZmZmZhJAZmZmZmZmEkDNzMzMzMwSQGZmZmZmZhJAzczMzMzMEkA0MzMzMzMTQGZmZmZmZhJAMzMzMzMzE0AzMzMzMzMTQGZmZmZmZhJAzczMzMzMEkDNzMzMzMwSQGZmZmZmZhJAzczMzMzMEkAzMzMzMzMTQM3MzMzMzBJAzczMzMzMEkAzMzMzMzMTQGZmZmZmZhNAZmZmZmZmEkCamZmZmZkSQGZmZmZmZhJAMzMzMzMzE0AzMzMzMzMTQDMzMzMzMxNAzczMzMzMEkCamZmZmZkSQM3MzMzMzBJAMzMzMzMzE0CamZmZmZkTQDMzMzMzMxNAzczMzMzMEkAzMzMzMzMTQGZmZmZmZhJAmpmZmZmZEkBnZmZmZmYSQDMzMzMzMxNAAAAAAAAAEkAzMzMzMzMTQGZmZmZmZhJAAAAAAAAAE0AzMzMzMzMTQDMzMzMzMxNAzczMzMzMEkAzMzMzMzMTQJqZmZmZmRJAMzMzMzMzE0BmZmZmZmYSQDMzMzMzMxNAzczMzMzMEkAAAAAAAAATQGZmZmZmZhJANDMzMzMzE0AzMzMzMzMTQDMzMzMzMxNAZmZmZmZmEkDNzMzMzMwSQJqZmZmZmRJAzczMzMzMEkBmZmZmZmYSQDMzMzMzMxNAZmZmZmZmEkDNzMzMzMwSQDMzMzMzMxNAMzMzMzMzE0AzMzMzMzMTQAAAAAAAABNAzczMzMzMEkDNzMzMzMwSQDMzMzMzMxNAMzMzMzMzE0CamZmZmZkTQDMzMzMzMxNAMzMzMzMzE0BRB3VQB3USQJqZmZmZmRJAzczMzMzMEkCZmZmZmRkSQGZmZmZmZhJAZmZmZmZmEkBmZmZmZmYSQDMzMzMzMxNAZmZmZmZmEkAzMzMzMzMTQDMzMzMzMxNAMzMzMzMzE0DNzMzMzMwSQGZmZmZmZhNAzczMzMzMEkDNzMzMzMwSQM3MzMzMzBJAzczMzMzMEkDNzMzMzMwSQJqZmZmZmRJAmpmZmZmZEkBxPQrXo3ASQM3MzMzMzBJAmpmZmZmZEkBmZmZmZmYSQM3MzMzMzBJAAAAAAAAAEkCamZmZmZkSQM3MzMzMzBJAzczMzMzMEkDNzMzMzMwSQDMzMzMzMxNAMzMzMzMzEkDNzMzMzMwSQM3MzMzMzBJAZmZmZmZmEkBmZmZmZmYSQEVERERERBJAmpmZmZmZEUDNzMzMzMwSQM3MzMzMzBJAAAAAAAAAE0DNzMzMzMwSQM3MzMzMzBJAZmZmZmZmEkAzMzMzMzMTQDMzMzMzMxNANDMzMzMzE0BmZmZmZmYSQJqZmZmZmRJAzczMzMzMEkAzMzMzMzMTQM3MzMzMzBJAzczMzMzMEkBmZmZmZmYSQGZmZmZmZhJAzczMzMzMEkDNzMzMzMwSQJqZmZmZmRNAzMzMzMzMEkDNzMzMzMwSQM3MzMzMzBJAZmZmZmZmEkBmZmZmZmYSQDMzMzMzMxNAMzMzMzMzE0DNzMzMzMwSQAAAAAAAABJAZmZmZmZmEkAAAAAAAAATQDMzMzMzMxNAZmZmZmZmEkBmZmZmZmYSQM3MzMzMzBJAzMzMzMzMEkCamZmZmZkSQDMzMzMzMxNAhl7ohV7oEkBmZmZmZmYSQJqZmZmZmRJAzczMzMzMEkDNzMzMzMwSQM3MzMzMzBJAzczMzMzMEkDNzMzMzMwSQDMzMzMzMxNAAAAAAAAAE0DNzMzMzMwSQM3MzMzMzBJAzczMzMzMEkDNzMzMzMwSQM3MzMzMzBJAzczMzMzMEkDNzMzMzMwSQM3MzMzMzBJAzczMzMzMEkDNzMzMzMwSQM3MzMzMzBJAZmZmZmZmEkAzMzMzMzMTQM3MzMzMzBJAmpmZmZmZEkDNzMzMzMwSQM3MzMzMzBJAZmZmZmZmEkDNzMzMzMwSQEU+6wZT5BJAzczMzMzMEkDNzMzMzMwSQDMzMzMzMxNAzczMzMzMEkDNzMzMzMwSQM3MzMzMzBJAzczMzMzMEkDNzMzMzMwSQM3MzMzMzBJAzczMzMzMEkDNzMzMzMwSQM3MzMzMzBJAzczMzMzMEkDNzMzMzMwSQM3MzMzMzBJAzczMzMzMEkBmZmZmZmYSQM3MzMzMzBJAAAAAAAAAE0DNzMzMzMwSQAAAAAAAABNAzczMzMzMEkDNzMzMzMwSQGZmZmZmZhJAzczMzMzMEkAzMzMzMzMTQM3MzMzMzBJAMzMzMzMzE0DNzMzMzMwSQGZmZmZmZhJAzczMzMzMEkDNzMzMzMwSQM3MzMzMzBJAzczMzMzMEkDNzMzMzMwSQJqZmZmZmRJAmpmZmZmZEkDNzMzMzMwSQM3MzMzMzBJAzczMzMzMEkDNzMzMzMwSQAAAAAAAABNAZmZmZmZmEkBmZmZmZmYSQKVP+qRP+hJAMzMzMzMzE0DNzMzMzMwSQDMzMzMzMxNAAAAAAAAAE0AAAAAAAAATQAAAAAAAABJAzczMzMzMEkAzMzMzMzMTQAAAAAAAABJAMzMzMzMzE0DNzMzMzMwSQM3MzMzMzBJAMzMzMzMzE0BmZmZmZmYSQJqZmZmZmRJAMzMzMzMzE0DNzMzMzMwSQJqZmZmZmRFAmpmZmZmZEkDNzMzMzMwSQDQzMzMzMxNA/cAP/MAPEkDNzMzMzMwSQMzMzMzMzBJAZmZmZmZmEkCamZmZmZkSQDMzMzMzMxNAMzMzMzMzE0BmZmZmZmYSQGZmZmZmZhJAMzMzMzMzE0AYXXTRRRcTQGZmZmZmZhNAzczMzMzMEkAoXI/C9SgSQGZmZmZmZhJAmpmZmZmZEkDNzMzMzMwSQM3MzMzMzBJAMzMzMzMzE0DNzMzMzMwSQM3MzMzMzBJAmpmZmZmZEkDNzMzMzMwSQM3MzMzMzBJAMzMzMzMzE0CamZmZmZkSQDMzMzMzMxNAzczMzMzMEkAzMzMzMzMTQM3MzMzMzBJAzczMzMzMEkAzMzMzMzMTQDMzMzMzMxNAzczMzMzMEkDNzMzMzMwSQJqZmZmZmRJAZmZmZmZmEkDNzMzMzMwSQM3MzMzMzBJAzczMzMzMEkCamZmZmZkSQDMzMzMzMxNAzczMzMzMEkAAAAAAAAATQDMzMzMzMxNAZmZmZmZmEkDNzMzMzMwSQM3MzMzMzBJAmpmZmZmZEkDNzMzMzMwSQGZmZmZmZhJAzczMzMzMEkDNzMzMzMwSQAAAAAAAABNAzczMzMzMEkDNzMzMzMwSQDMzMzMzMxNAzczMzMzMEkDNzMzMzMwSQM3MzMzMzBJAzczMzMzMEkDNzMzMzMwSQM3MzMzMzBJAzczMzMzMEkDNzMzMzMwSQM3MzMzMzBJAzczMzMzMEkA9IFnnygMTQDMzMzMzMxNAzczMzMzMEkDNzMzMzMwSQM3MzMzMzBJAzczMzMzMEkCamZmZmZkSQM3MzMzMzBJAZmZmZmZmEkDNzMzMzMwSQDMzMzMzMxNAzczMzMzMEkDNzMzMzMwSQM3MzMzMzBJAzczMzMzMEkDNzMzMzMwSQDMzMzMzMxNAzczMzMzMEkAzMzMzMzMTQAAAAAAAABNAzczMzMzMEkDNzMzMzMwSQM3MzMzMzBJAzczMzMzMEkAzMzMzMzMTQM3MzMzMzBJAzczMzMzMEkDNzMzMzMwSQM3MzMzMzBJAzczMzMzMEkDNzMzMzMwSQM3MzMzMzBJAZmZmZmZmEkDNzMzMzMwSQM3MzMzMzBJAZmZmZmZmEkDNzMzMzMwSQGZmZmZmZhJAzczMzMzMEkDNzMzMzMwSQM3MzMzMzBJAzczMzMzMEkDNzMzMzMwSQDMzMzMzMxNAzczMzMzMEkDNzMzMzMwSQAAAAAAAABNAzczMzMzMEkDNzMzMzMwSQM3MzMzMzBJAzczMzMzMEkDNzMzMzMwSQM3MzMzMzBJAzczMzMzMEkDNzMzMzMwSQM3MzMzMzBJAzczMzMzMEkDNzMzMzMwSQM3MzMzMzBJAzczMzMzMEkDNzMzMzMwSQM3MzMzMzBJAzczMzMzMEkCamZmZmZkSQM3MzMzMzBJAZmZmZmZmEkDNzMzMzMwSQAAAAAAAABNAzczMzMzMEkBmZmZmZmYSQM3MzMzMzBJAZmZmZmZmEkDNzMzMzMwSQDMzMzMzMxNAMzMzMzMzE0DNzMzMzMwSQM3MzMzMzBJAzczMzMzMEkDNzMzMzMwSQM3MzMzMzBJAMzMzMzMzE0BmZmZmZmYSQM3MzMzMzBJAzMzMzMzMEkDNzMzMzMwSQM3MzMzMzBJAMzMzMzMzE0DNzMzMzMwSQGdmZmZmZhJAAAAAAAAAE0BmZmZmZmYSQGZmZmZmZhJAzczMzMzMEkCamZmZmZkSQMzMzMzMzBJAMzMzMzMzE0BmZmZmZmYSQLgehetRuBJAzczMzMzMEkDNzMzMzMwSQM3MzMzMzBJAzczMzMzMEkDNzMzMzMwSQDMzMzMzMxNAMzMzMzMzE0DNzMzMzMwSQERERERERBJAZmZmZmZmEkCamZmZmZkSQHzFV3zFVxJAzczMzMzMEkDNzMzMzMwSQM3MzMzMzBJAMzMzMzMzE0BmZmZmZmYSQAAAAAAAABNAZmZmZmZmEkAAAAAAAAASQGZmZmZmZhJAGF100UUXE0DNzMzMzMwSQM3MzMzMzBJAzczMzMzMEkDNzMzMzMwSQJqZmZmZmRJAzczMzMzMEkDNzMzMzMwSQM3MzMzMzBJANDMzMzMzE0DNzMzMzMwSQDMzMzMzMxNAZmZmZmZmEkDNzMzMzMwSQM3MzMzMzBJAZmZmZmZmEkAzMzMzMzMTQDMzMzMzMxNAzczMzMzMEkBmZmZmZmYSQDMzMzMzMxNAmpmZmZmZEkAAAAAAAAATQM3MzMzMzBJAzczMzMzMEkAAAAAAAAATQAAAAAAAABNA393d3d3dEkAAAAAAAAATQDMzMzMzMxNAMzMzMzMzE0DNzMzMzMwSQAAAAAAAABNAAAAAAAAAE0BmZmZmZmYSQM3MzMzMzBJAmpmZmZmZEkDNzMzMzMwSQMZXfMVXfBNAAAAAAAAAE0BmZmZmZmYSQM3MzMzMzBJAMzMzMzMzE0DNzMzMzMwSQJqZmZmZmRNAzczMzMzMEkCamZmZmZkSQDMzMzMzMxJAzczMzMzMEkAzMzMzMzMTQGZmZmZmZhJA+Yqv+IqvEkAAAAAAAAATQDMzMzMzMxNAWfuGtW9YE0AzMzMzMzMTQEqf9Emf9BFAd3d3d3f3EkDNzMzMzMwSQDMzMzMzMxNAMzMzMzMzE0AzMzMzMzMTQJqZmZmZmRJAZmZmZmZmEkBmZmZmZmYSQDMzMzMzMxNAMzMzMzMzE0BmZmZmZmYSQAAAAAAAABNAzczMzMzMEkCamZmZmZkSQJqZmZmZmRJAZmZmZmZmEkDNzMzMzMwSQAAAAAAAABNAzczMzMzMEkDNzMzMzMwSQGZmZmZmZhJAZmZmZmZmEkAAAAAAAAATQGZmZmZmZhNAzczMzMzMEkDNzMzMzMwSQM3MzMzMzBJAzczMzMzMEkDNzMzMzMwSQM3MzMzMzBJAzczMzMzMEkDNzMzMzMwSQM3MzMzMzBJAzczMzMzMEkDNzMzMzMwSQGZmZmZmZhJAzczMzMzMEkDNzMzMzMwSQDMzMzMzMxNAzczMzMzMEkBmZmZmZmYSQDMzMzMzMxNAzczMzMzMEkDNzMzMzMwSQM3MzMzMzBJAzczMzMzMEkAzMzMzMzMTQGZmZmZmZhJAzczMzMzMEkDNzMzMzMwSQM3MzMzMzBJAmpmZmZmZEkDNzMzMzMwSQM3MzMzMzBJAZmZmZmZmEkDNzMzMzMwSQM3MzMzMzBJAzczMzMzMEkDNzMzMzMwSQM3MzMzMzBJAzczMzMzMEkDNzMzMzMwSQM3MzMzMzBJAzczMzMzMEkDNzMzMzMwSQGZmZmZmZhJAzczMzMzMEkDNzMzMzMwSQJqZmZmZmRJAzczMzMzMEkDNzMzMzMwSQM3MzMzMzBJAzczMzMzMEkBmZmZmZmYSQM3MzMzMzBJAzczMzMzMEkDNzMzMzMwSQGZmZmZmZhJAzczMzMzMEkBmZmZmZmYSQM3MzMzMzBJAzczMzMzMEkDNzMzMzMwSQM3MzMzMzBJAzczMzMzMEkDNzMzMzMwSQM3MzMzMzBJAzczMzMzMEkAzMzMzMzMTQM3MzMzMzBJAzczMzMzMEkDNzMzMzMwSQM3MzMzMzBJAzczMzMzMEkDNzMzMzMwSQM3MzMzMzBJAMzMzMzMzE0DNzMzMzMwSQAAAAAAAABNAzczMzMzMEkDNzMzMzMwSQM3MzMzMzBJAzczMzMzMEkDNzMzMzMwSQM3MzMzMzBJAzczMzMzMEkDNzMzMzMwSQM3MzMzMzBJAZmZmZmZmEkAzMzMzMzMTQGZmZmZmZhJAzczMzMzMEkDNzMzMzMwSQM3MzMzMzBJAzczMzMzMEkDNzMzMzMwSQM3MzMzMzBJAzczMzMzMEkDNzMzMzMwSQJqZmZmZmRJAzczMzMzMEkDNzMzMzMwSQJqZmZmZmRJAZmZmZmZmEkDNzMzMzMwSQM3MzMzMzBJAzczMzMzMEkDNzMzMzMwSQDMzMzMzMxNAzczMzMzMEkDNzMzMzMwSQDMzMzMzMxNAzczMzMzMEkDNzMzMzMwSQM3MzMzMzBJAzczMzMzMEkCamZmZmZkSQM3MzMzMzBJAZmZmZmZmEkDNzMzMzMwSQM3MzMzMzBJAzczMzMzMEkDNzMzMzMwSQM3MzMzMzBJAzczMzMzMEkDNzMzMzMwSQM3MzMzMzBJAAAAAAAAAE0DNzMzMzMwSQJqZmZmZmRJAzczMzMzMEkDNzMzMzMwSQM3MzMzMzBJAzczMzMzMEkCamZmZmZkSQM3MzMzMzBJAzczMzMzMEkDNzMzMzMwSQM3MzMzMzBJAzczMzMzMEkDNzMzMzMwSQM3MzMzMzBJAZmZmZmZmEkDNzMzMzMwSQGZmZmZmZhJAzczMzMzMEkDNzMzMzMwSQJqZmZmZmRJAzczMzMzMEkDNzMzMzMwSQDMzMzMzMxNAAAAAAAAAE0DNzMzMzMwSQM3MzMzMzBJAzczMzMzMEkDNzMzMzMwSQM3MzMzMzBJAzczMzMzMEkDNzMzMzMwSQM3MzMzMzBJAzczMzMzMEkDNzMzMzMwSQM3MzMzMzBJAMzMzMzMzE0DNzMzMzMwSQM3MzMzMzBJAzczMzMzMEkBmZmZmZmYSQM3MzMzMzBJAzczMzMzMEkDNzMzMzMwSQM3MzMzMzBJAZmZmZmZmEkDNzMzMzMwSQM3MzMzMzBJAzczMzMzMEkDNzMzMzMwSQDMzMzMzMxNAzczMzMzMEkBmZmZmZmYSQM3MzMzMzBJAZmZmZmZmEkDNzMzMzMwSQM3MzMzMzBJAAAAAAAAAE0DNzMzMzMwSQDMzMzMzMxNAzczMzMzMEkAzMzMzMzMSQDMzMzMzMxNAzczMzMzMEkDNzMzMzMwSQM3MzMzMzBJAzczMzMzMEkDNzMzMzMwSQGZmZmZmZhJAZmZmZmZmEkAzMzMzMzMTQM3MzMzMzBJAMzMzMzMzE0DNzMzMzMwSQM3MzMzMzBJAmpmZmZmZEkAzMzMzMzMTQAAAAAAAABNAzczMzMzMEkDNzMzMzMwSQM3MzMzMzBJAAAAAAAAAE0AzMzMzMzMTQAAAAAAAABNAMzMzMzMzE0DNzMzMzMwSQJqZmZmZmRJAzczMzMzMEkDNzMzMzMwSQM3MzMzMzBJAzczMzMzMEkDNzMzMzMwSQM3MzMzMzBJAAAAAAAAAE0DNzMzMzMwSQDMzMzMzMxNAzczMzMzMEkDNzMzMzMwSQJqZmZmZmRJAMzMzMzMzE0DNzMzMzMwSQM3MzMzMzBJAzczMzMzMEkAAAAAAAAATQMzMzMzMzBJAMzMzMzMzE0AzMzMzMzMSQJqZmZmZmRJAZmZmZmZmE0AAAAAAAAATQM3MzMzMzBJAmpmZmZmZEkDNzMzMzMwSQM3MzMzMzBJAZmZmZmZmEUAzMzMzMzMTQGZmZmZmZhJAMzMzMzMzE0CplVqplVoSQJqZmZmZmRJAZmZmZmZmEkDNzMzMzMwSQM3MzMzMzBJAMzMzMzMzE0AzMzMzMzMTQAAAAAAAABNAzczMzMzMEkAzMzMzMzMSQDMzMzMzMxNAMzMzMzMzE0BmZmZmZmYSQAAAAAAAABNAMzMzMzMzE0DNzMzMzMwSQERERERERBJAZmZmZmZmEkDNzMzMzMwSQGZmZmZmZhJAVmqlVmqlEkDNzMzMzMwSQDMzMzMzMxNAmpmZmZmZEkBmZmZmZmYSQJqZmZmZmRNAtlIrtVIrE0AAAAAAAAATQM3MzMzMzBJAzczMzMzMEkDNzMzMzMwSQJqZmZmZmRNAMzMzMzMzE0BmZmZmZmYSQGZmZmZmZhJAUAd1UAd1E0BmZmZmZmYSQDMzMzMzMxNAmpmZmZmZEUDNzMzMzMwSQGZmZmZmZhJAMzMzMzMzE0BmZmZmZmYSQA/qoA7qoBJAzczMzMzMEkAzMzMzMzMTQDMzMzMzMxNAzczMzMzMEkBmZmZmZmYSQDMzMzMzMxNAZmZmZmZmEkDNzMzMzMwSQM3MzMzMzBJAAAAAAABAEkCamZmZmZkSQM3MzMzMzBJAzczMzMzMEkBmZmZmZmYSQDMzMzMzMxNAMzMzMzMzE0AAAAAAAAATQJqZmZmZmRJAzczMzMzMEkAzMzMzMzMTQDMzMzMzMxNAmpmZmZmZE0BmZmZmZmYRQGZmZmZmZhJAzczMzMzMEkCjcD0K16MSQDMzMzMzMxNAzczMzMzMEkDNzMzMzMwSQGZmZmZmZhJAAAAAAAAAE0AzMzMzMzMTQAAAAAAAABJAmpmZmZmZEkAAAAAAAAATQDMzMzMzMxNAMzMzMzMzE0AAAAAAAAATQM3MzMzMzBJAzczMzMzMEkBEREREREQSQAAAAAAAABNAyFOCPCXIEkDNzMzMzMwSQJqZmZmZmRJAAAAAAAAAE0AAAAAAAAASQDMzMzMzMxNAzczMzMzMEkDNzMzMzMwSQM3MzMzMzBJAMzMzMzMzEkAzMzMzMzMTQM3MzMzMzBJAMzMzMzMzE0BmZmZmZmYSQMzMzMzMzBJAMzMzMzMzE0DNzMzMzMwSQM3MzMzMzBJAZmZmZmZmEkAzMzMzMzMTQMzMzMzMzBJAMzMzMzMzE0BmZmZmZmYSQM3MzMzMzBJAzczMzMzMEkDNzMzMzMwSQM3MzMzMzBJAAAAAAAAAEkAzMzMzMzMTQDMzMzMzMxNAzczMzMzMEkAAAAAAAAATQDMzMzMzMxNAmpmZmZmZEkBmZmZmZmYSQJqZmZmZmRJAzczMzMzMEkAAAAAAAAATQMzMzMzMzBJAMzMzMzMzE0DNzMzMzMwSQGZmZmZmZhJAAAAAAAAAE0AAAAAAAAATQDMzMzMzMxNAzczMzMzMEkCamZmZmZkSQDMzMzMzMxNAMzMzMzMzE0AzMzMzMzMTQDMzMzMzMxNAzczMzMzMEkDNzMzMzMwSQM3MzMzMzBJAMzMzMzMzE0DNzMzMzMwSQJqZmZmZmRJAZmZmZmZmEkDNzMzMzMwSQM3MzMzMzBJAzczMzMzMEkCamZmZmZkSQM3MzMzMzBJAzczMzMzMEkDNzMzMzMwSQGZmZmZmZhJAzczMzMzMEkAzMzMzMzMTQDMzMzMzMxNAmpmZmZmZEkBmZmZmZmYSQM3MzMzMzBJAAAAAAAAAE0CamZmZmZkTQM3MzMzMzBJAAAAAAAAAE0AzMzMzMzMTQGZmZmZmZhJAzczMzMzMEUAAAAAAAAATQDMzMzMzMxNAzczMzMzMEkDNzMzMzMwSQM3MzMzMzBJAMzMzMzMzE0DNzMzMzMwSQJqZmZmZmRJAzczMzMzMEkBmZmZmZmYSQDMzMzMzMxNAZmZmZmZmEkBmZmZmZmYSQDMzMzMzMxNAzczMzMzMEkDNzMzMzMwSQM3MzMzMzBJAzczMzMzMEkBmZmZmZmYSQM3MzMzMzBJAZmZmZmZmEkBmZmZmZmYSQM3MzMzMzBJAzczMzMzMEkDNzMzMzMwSQM3MzMzMzBJAzczMzMzMEkDNzMzMzMwSQPBrQlD2vhJAzczMzMzMEkDNzMzMzMwSQM3MzMzMzBJAzczMzMzMEkDNzMzMzMwSQM3MzMzMzBJAzczMzMzMEkBmZmZmZmYSQM3MzMzMzBJAzczMzMzMEkBmZmZmZmYSQM3MzMzMzBJAzczMzMzMEkBmZmZmZmYSQM3MzMzMzBJAzczMzMzMEkDNzMzMzMwSQM3MzMzMzBJAzczMzMzMEkAAAAAAAAATQM3MzMzMzBJAzczMzMzMEkDNzMzMzMwSQM3MzMzMzBJAMzMzMzMzE0DNzMzMzMwSQGZmZmZmZhJAZmZmZmZmEkDNzMzMzMwSQM3MzMzMzBJAzczMzMzMEkAzMzMzMzMTQDMzMzMzMxNAzczMzMzMEkDNzMzMzMwSQM3MzMzMzBJAZmZmZmZmEkDNzMzMzMwSQM3MzMzMzBJAzczMzMzMEkAzMzMzMzMTQM3MzMzMzBJAzczMzMzMEkDNzMzMzMwSQM3MzMzMzBJAzczMzMzMEkDNzMzMzMwSQDMzMzMzMxNAzczMzMzMEkDNzMzMzMwSQM3MzMzMzBJAAAAAAAAAE0DNzMzMzMwSQM3MzMzMzBJAzczMzMzMEkBmZmZmZmYSQGZmZmZmZhJAzczMzMzMEkAzMzMzMzMTQJaoXYnalRJAzczMzMzMEkDNzMzMzMwSQM3MzMzMzBJAzczMzMzMEkDNzMzMzMwSQM3MzMzMzBJAZmZmZmZmEkAzMzMzMzMTQM3MzMzMzBJAzczMzMzMEkDNzMzMzMwSQM3MzMzMzBJAzczMzMzMEkDNzMzMzMwSQDMzMzMzMxNAzczMzMzMEkDNzMzMzMwSQM3MzMzMzBJAZmZmZmZmEkAAAAAAAAATQM3MzMzMzBJAzczMzMzMEkDNzMzMzMwSQM3MzMzMzBJAzczMzMzMEkDNzMzMzMwSQGZmZmZmZhJAZmZmZmZmEkDNzMzMzMwSQDMzMzMzMxNAzczMzMzMEkDNzMzMzMwSQGZmZmZmZhJAzczMzMzMEkDNzMzMzMwSQDMzMzMzMxNAzczMzMzMEkDNzMzMzMwSQM3MzMzMzBJAzczMzMzMEkBmZmZmZmYSQM3MzMzMzBJAZmZmZmZmEkAzMzMzMzMTQGZmZmZmZhJAZmZmZmZmEkBmZmZmZmYSQM3MzMzMzBJAzczMzMzMEkDNzMzMzMwSQM3MzMzMzBJAzczMzMzMEkAzMzMzMzMTQM3MzMzMzBJAzczMzMzMEkBmZmZmZmYSQM3MzMzMzBJAzczMzMzMEkDNzMzMzMwSQDMzMzMzMxNAMzMzMzMzE0DNzMzMzMwSQGZmZmZmZhJAMzMzMzMzE0DNzMzMzMwSQM3MzMzMzBJAzczMzMzMEkDNzMzMzMwSQM3MzMzMzBJAzczMzMzMEkDNzMzMzMwSQM3MzMzMzBJAMzMzMzMzE0BmZmZmZmYSQM3MzMzMzBJAzczMzMzMEkAzMzMzMzMTQM3MzMzMzBJAZmZmZmZmEkBmZmZmZmYSQGZmZmZmZhJAMzMzMzMzE0BmZmZmZmYSQM3MzMzMzBJAzczMzMzMEkDNzMzMzMwSQM3MzMzMzBJAmpmZmZmZEkDNzMzMzMwSQM3MzMzMzBJAzczMzMzMEkDNzMzMzMwSQM3MzMzMzBJAzczMzMzMEkDNzMzMzMwSQGZmZmZmZhJAzczMzMzMEkDNzMzMzMwSQM3MzMzMzBJAzczMzMzMEkDNzMzMzMwSQGZmZmZmZhJAzczMzMzMEkDNzMzMzMwSQM3MzMzMzBJAzczMzMzMEkDNzMzMzMwSQDMzMzMzMxNAzczMzMzMEkDNzMzMzMwSQM3MzMzMzBJAzczMzMzMEkDNzMzMzMwSQM3MzMzMzBJAzczMzMzMEkDNzMzMzMwSQM3MzMzMzBJAzczMzMzMEkDNzMzMzMwSQM3MzMzMzBJAzczMzMzMEkDNzMzMzMwSQDMzMzMzMxNAzczMzMzMEkBmZmZmZmYSQM3MzMzMzBJAZmZmZmZmEkDNzMzMzMwSQDMzMzMzMxNAMzMzMzMzE0DNzMzMzMwSQM3MzMzMzBJAzczMzMzMEkDNzMzMzMwSQM3MzMzMzBJAzczMzMzMEkDNzMzMzMwSQM3MzMzMzBJAzczMzMzMEkDNzMzMzMwSQAAAAAAAABNAzczMzMzMEkDNzMzMzMwSQAAAAAAAABNAMzMzMzMzE0BmZmZmZmYSQM3MzMzMzBJAzczMzMzMEkBmZmZmZmYSQDMzMzMzMxNAzczMzMzMEkDNzMzMzMwSQM3MzMzMzBJAmpmZmZmZEkDNzMzMzMwSQDMzMzMzMxNAzczMzMzMEkDNzMzMzMwSQM3MzMzMzBJAzczMzMzMEkBmZmZmZmYSQM3MzMzMzBJAzczMzMzMEkAzMzMzMzMTQGZmZmZmZhJAzczMzMzMEkDNzMzMzMwSQDMzMzMzMxNAzczMzMzMEkDNzMzMzMwSQDMzMzMzMxNAzczMzMzMEkDNzMzMzMwSQDMzMzMzMxNAzczMzMzMEkDNzMzMzMwSQM3MzMzMzBJAzczMzMzMEkDNzMzMzMwSQM3MzMzMzBJAmpmZmZmZEkDNzMzMzMwSQDMzMzMzMxNAzczMzMzMEkDNzMzMzMwSQGZmZmZmZhJAzczMzMzMEkAAAAAAAAATQGZmZmZmZhJAzczMzMzMEkDNzMzMzMwSQM3MzMzMzBJAzczMzMzMEkBmZmZmZmYSQM3MzMzMzBJAzczMzMzMEkDNzMzMzMwSQAAAAAAAABNAmpmZmZmZEkDNzMzMzMwSQDMzMzMzMxNAzczMzMzMEkDNzMzMzMwSQJqZmZmZmRJAzczMzMzMEkDNzMzMzMwSQDMzMzMzMxNAzczMzMzMEkDNzMzMzMwSQGZmZmZmZhJAMzMzMzMzE0DNzMzMzMwSQM3MzMzMzBJAzczMzMzMEkDNzMzMzMwSQM3MzMzMzBJAZmZmZmZmEkBmZmZmZmYSQM3MzMzMzBJAzczMzMzMEkDNzMzMzMwSQM3MzMzMzBJAMzMzMzMzE0DNzMzMzMwSQM3MzMzMzBJAzczMzMzMEkDNzMzMzMwSQM3MzMzMzBJAzczMzMzMEkDNzMzMzMwSQDMzMzMzMxNAMzMzMzMzE0DNzMzMzMwSQM3MzMzMzBJAzczMzMzMEkBmZmZmZmYSQM3MzMzMzBJAzczMzMzMEkAzMzMzMzMTQM3MzMzMzBJAmpmZmZmZEkDNzMzMzMwSQM3MzMzMzBJAzczMzMzMEkDNzMzMzMwSQM3MzMzMzBJAzczMzMzMEkCamZmZmZkSQM3MzMzMzBJAMzMzMzMzE0DNzMzMzMwSQDMzMzMzMxNAzczMzMzMEkB1rjwgWecSQM3MzMzMzBJAzczMzMzMEkDNzMzMzMwSQGZmZmZmZhJAzczMzMzMEkDNzMzMzMwSQM3MzMzMzBJAzczMzMzMEkDNzMzMzMwSQM3MzMzMzBJAZmZmZmZmEkDNzMzMzMwSQM3MzMzMzBJAzczMzMzMEkDNzMzMzMwSQDMzMzMzMxNAzczMzMzMEkDNzMzMzMwSQM3MzMzMzBJAMzMzMzMzE0DNzMzMzMwSQM3MzMzMzBJAzczMzMzMEkDNzMzMzMwSQDMzMzMzMxNAzczMzMzMEkDNzMzMzMwSQM3MzMzMzBJAzczMzMzMEkDNzMzMzMwSQDMzMzMzMxNA",
          "dtype": "f8"
         },
         "xaxis": "x",
         "y": {
          "bdata": "AAAAAAAAQUAAAAAAAAA5QAAAAAAAAD9AAAAAAAAAQUAAAAAAAAA7QAAAAAAAADxAAAAAAAAANUAAAAAAAAA5QAAAAAAAAENAAAAAAACAQkAAAAAAAAA4QAAAAAAAAD5AAAAAAAAANkAAAAAAAIBAQAAAAAAAADZAAAAAAAAAO0AAAAAAAAA4QAAAAAAAADRAAAAAAAAAQ0AAAAAAAABCQAAAAAAAADlAAAAAAAAANkAAAAAAAAA4QAAAAAAAAEFAAAAAAAAANEAAAAAAAABDQAAAAAAAADhAAAAAAAAANEAAAAAAAAA6QAAAAAAAADpAAAAAAAAAPUAAAAAAAABBQAAAAAAAADRAAAAAAAAAOkAAAAAAAAA6QAAAAAAAAENAAAAAAAAANUAAAAAAAAA9QAAAAAAAgEBAAAAAAAAAOUAAAAAAAAA3QAAAAAAAAENAAAAAAACAQUAAAAAAAABDQAAAAAAAADRAAAAAAAAAPUAAAAAAAAA/QAAAAAAAgEBAAAAAAAAANEAAAAAAAIBBQAAAAAAAAENAAAAAAACAQUAAAAAAAAA3QAAAAAAAADhAAAAAAACAQ0AAAAAAAIBBQAAAAAAAADZAAAAAAAAAP0AAAAAAAAA0QAAAAAAAADZAAAAAAAAAQUAAAAAAAAA0QAAAAAAAADRAAAAAAAAAOUAAAAAAAAA+QAAAAAAAgENAAAAAAACAQEAAAAAAAIBBQAAAAAAAgEFAAAAAAAAANkAAAAAAAAA4QAAAAAAAADhAAAAAAAAAOkAAAAAAAAA7QAAAAAAAADZAAAAAAACAQUAAAAAAAABBQAAAAAAAgENAAAAAAAAANEAAAAAAAAA+QAAAAAAAADZAAAAAAAAANEAAAAAAAAA0QAAAAAAAAEBAAAAAAAAANkAAAAAAAAA4QAAAAAAAADdAAAAAAAAAQkAAAAAAAAA1QAAAAAAAADdAAAAAAAAAP0AAAAAAAAA+QAAAAAAAADZAAAAAAACAQEAAAAAAAAA9QAAAAAAAADZAAAAAAAAANEAAAAAAAAA6QAAAAAAAgEJAAAAAAAAAPkAAAAAAAAA0QAAAAAAAADdAAAAAAAAAPEAAAAAAAAA4QAAAAAAAADlAAAAAAAAANUAAAAAAAAA3QAAAAAAAADxAAAAAAAAAQ0AAAAAAAAA0QAAAAAAAADVAAAAAAAAAO0AAAAAAAAA/QAAAAAAAgEFAAAAAAAAANUAAAAAAAAA5QAAAAAAAADZAAAAAAAAAQ0AAAAAAAAA7QAAAAAAAAEFAAAAAAACAQEAAAAAAAAA9QAAAAAAAADdAAAAAAACAQ0AAAAAAAIBBQAAAAAAAADpAAAAAAAAAPEAAAAAAAAA1QAAAAAAAADRAAAAAAAAANUAAAAAAAIBAQAAAAAAAgEJAAAAAAAAANUAAAAAAAAA9QAAAAAAAAEJAAAAAAACAQEAAAAAAAAA0QAAAAAAAADxAAAAAAAAANEAAAAAAAAA2QAAAAAAAAD5AAAAAAAAAOkAAAAAAAAA4QAAAAAAAADZAAAAAAAAAOkAAAAAAAAA2QAAAAAAAADtAAAAAAAAAPEAAAAAAAAA1QAAAAAAAAEBAAAAAAAAAPEAAAAAAAAA3QAAAAAAAgENAAAAAAAAANEAAAAAAAIBDQAAAAAAAgEBAAAAAAAAANUAAAAAAAAA5QAAAAAAAAENAAAAAAAAANkAAAAAAAIBAQAAAAAAAADhAAAAAAAAAOkAAAAAAAAA5QAAAAAAAADxAAAAAAAAANkAAAAAAAAA0QAAAAAAAAENAAAAAAACAQUAAAAAAAAA6QAAAAAAAAD5AAAAAAAAAPkAAAAAAAAA3QAAAAAAAADxAAAAAAAAANUAAAAAAAAA8QAAAAAAAADxAAAAAAAAANUAAAAAAAAA2QAAAAAAAgEBAAAAAAACAQ0AAAAAAAAA4QAAAAAAAADlAAAAAAACAQkAAAAAAAAA4QAAAAAAAADRAAAAAAACAQkAAAAAAAAA1QAAAAAAAADZAAAAAAAAANkAAAAAAAAA5QAAAAAAAADxAAAAAAAAAOEAAAAAAAAA1QAAAAAAAADpAAAAAAAAAQkAAAAAAAABBQAAAAAAAAD9AAAAAAAAANUAAAAAAAAA4QAAAAAAAADxAAAAAAACAQUAAAAAAAAA6QAAAAAAAADxAAAAAAAAANkAAAAAAAAA1QAAAAAAAADRAAAAAAAAAP0AAAAAAAAA1QAAAAAAAAD5AAAAAAAAAO0AAAAAAAAA3QAAAAAAAADlAAAAAAAAAOkAAAAAAAAA8QAAAAAAAAENAAAAAAAAAOkAAAAAAAAA5QAAAAAAAAEFAAAAAAAAAPkAAAAAAAABDQAAAAAAAAD9AAAAAAACAQEAAAAAAAABDQAAAAAAAADdAAAAAAAAAQEAAAAAAAIBDQAAAAAAAAD1AAAAAAAAANkAAAAAAAIBAQAAAAAAAADZAAAAAAAAANkAAAAAAAAA1QAAAAAAAADlAAAAAAAAAN0AAAAAAAAA1QAAAAAAAAEBAAAAAAAAANEAAAAAAAAA5QAAAAAAAADhAAAAAAAAAN0AAAAAAAAA7QAAAAAAAADxAAAAAAAAAQUAAAAAAAAA9QAAAAAAAADtAAAAAAAAANEAAAAAAAABCQAAAAAAAADxAAAAAAAAANEAAAAAAAIBBQAAAAAAAADRAAAAAAAAANUAAAAAAAAA3QAAAAAAAAD5AAAAAAAAAOUAAAAAAAABCQAAAAAAAAD9AAAAAAAAAQEAAAAAAAAA1QAAAAAAAAD5AAAAAAAAAOEAAAAAAAAA9QAAAAAAAADVAAAAAAAAAPkAAAAAAAAA7QAAAAAAAADdAAAAAAAAAN0AAAAAAAAA9QAAAAAAAAD1AAAAAAAAAQkAAAAAAAAA5QAAAAAAAgEBAAAAAAAAANUAAAAAAAAA8QAAAAAAAAD9AAAAAAAAANEAAAAAAAABBQAAAAAAAAENAAAAAAAAAPUAAAAAAAAA6QAAAAAAAAD1AAAAAAAAANUAAAAAAAAA4QAAAAAAAADtAAAAAAAAANUAAAAAAAAA2QAAAAAAAAD9AAAAAAAAANkAAAAAAAAA3QAAAAAAAAEFAAAAAAAAAOUAAAAAAAABCQAAAAAAAADpAAAAAAAAANUAAAAAAAAA5QAAAAAAAADlAAAAAAAAAN0AAAAAAAIBDQAAAAAAAADRAAAAAAAAAO0AAAAAAAAA3QAAAAAAAgENAAAAAAAAAO0AAAAAAAAA5QAAAAAAAADZAAAAAAACAQEAAAAAAAAA+QAAAAAAAADZAAAAAAAAANEAAAAAAAAA5QAAAAAAAADhAAAAAAAAAPUAAAAAAAAA8QAAAAAAAgEBAAAAAAAAANUAAAAAAAAA1QAAAAAAAAD9AAAAAAACAQUAAAAAAAAA9QAAAAAAAADVAAAAAAACAQEAAAAAAAAA5QAAAAAAAgEJAAAAAAAAAOUAAAAAAAAA+QAAAAAAAADVAAAAAAAAANUAAAAAAAAA6QAAAAAAAADpAAAAAAAAAPUAAAAAAAABCQAAAAAAAADhAAAAAAAAANEAAAAAAAAA9QAAAAAAAgENAAAAAAAAAOUAAAAAAAABBQAAAAAAAAD5AAAAAAAAAQUAAAAAAAIBCQAAAAAAAADlAAAAAAAAAOkAAAAAAAAA4QAAAAAAAAEBAAAAAAAAANUAAAAAAAIBCQAAAAAAAAEBAAAAAAAAAPEAAAAAAAIBAQAAAAAAAAEBAAAAAAAAAQUAAAAAAAIBBQAAAAAAAADZAAAAAAAAAP0AAAAAAAIBBQAAAAAAAgEBAAAAAAAAAOEAAAAAAAAA7QAAAAAAAADpAAAAAAACAQEAAAAAAAAA+QAAAAAAAADZAAAAAAACAQ0AAAAAAAAA+QAAAAAAAADZAAAAAAAAANkAAAAAAAIBAQAAAAAAAADZAAAAAAAAAQ0AAAAAAAAA+QAAAAAAAADtAAAAAAAAAOkAAAAAAAAA/QAAAAAAAADZAAAAAAACAQUAAAAAAAABAQAAAAAAAADlAAAAAAAAAOUAAAAAAAAA7QAAAAAAAAD5AAAAAAAAAPkAAAAAAAAA2QAAAAAAAADhAAAAAAAAANkAAAAAAAABAQAAAAAAAgEJAAAAAAAAAPkAAAAAAAABBQAAAAAAAADZAAAAAAAAANUAAAAAAAAA+QAAAAAAAgENAAAAAAAAAN0AAAAAAAAA0QAAAAAAAADhAAAAAAAAAOEAAAAAAAAA4QAAAAAAAADxAAAAAAAAAOUAAAAAAAAA+QAAAAAAAADhAAAAAAAAAPEAAAAAAAIBCQAAAAAAAAD5AAAAAAAAAN0AAAAAAAABAQAAAAAAAAENAAAAAAAAAPkAAAAAAAAA4QAAAAAAAADVAAAAAAAAAPEAAAAAAAAA3QAAAAAAAADpAAAAAAAAAQkAAAAAAAAA9QAAAAAAAAD5AAAAAAAAAPkAAAAAAAAA9QAAAAAAAAEJAAAAAAAAANEAAAAAAAABCQAAAAAAAADpAAAAAAACAQkAAAAAAAAA0QAAAAAAAgEBAAAAAAAAAPEAAAAAAAAA4QAAAAAAAADVAAAAAAAAAOUAAAAAAAAA5QAAAAAAAAEJAAAAAAAAAN0AAAAAAAAA5QAAAAAAAAD1AAAAAAAAAPUAAAAAAAAA+QAAAAAAAgEBAAAAAAAAAPkAAAAAAAAA7QAAAAAAAAENAAAAAAACAQEAAAAAAAABBQAAAAAAAAD1AAAAAAAAANkAAAAAAAAA6QAAAAAAAgEFAAAAAAAAAQEAAAAAAAAA8QAAAAAAAgEJAAAAAAAAAPkAAAAAAAAA+QAAAAAAAADZAAAAAAAAANUAAAAAAAAA3QAAAAAAAADdAAAAAAAAAN0AAAAAAAABCQAAAAAAAAD9AAAAAAAAANUAAAAAAAAA0QAAAAAAAADpAAAAAAAAAN0AAAAAAAAA7QAAAAAAAgEFAAAAAAAAAQEAAAAAAAAA0QAAAAAAAADRAAAAAAAAANkAAAAAAAAA/QAAAAAAAADpAAAAAAACAQ0AAAAAAAAA3QAAAAAAAADVAAAAAAAAAPUAAAAAAAIBDQAAAAAAAADxAAAAAAAAAQ0AAAAAAAAA2QAAAAAAAADlAAAAAAAAANkAAAAAAAAA8QAAAAAAAAD5AAAAAAAAANkAAAAAAAAA0QAAAAAAAADRAAAAAAACAQUAAAAAAAIBAQAAAAAAAAD5AAAAAAAAAQUAAAAAAAAA3QAAAAAAAADpAAAAAAAAAQ0AAAAAAAAA5QAAAAAAAAD1AAAAAAAAAP0AAAAAAAAA4QAAAAAAAADtAAAAAAAAAN0AAAAAAAAA1QAAAAAAAADhAAAAAAAAAOkAAAAAAAAA4QAAAAAAAgEFAAAAAAAAANEAAAAAAAABBQAAAAAAAgEJAAAAAAAAAOEAAAAAAAAA2QAAAAAAAgEJAAAAAAAAANUAAAAAAAAA5QAAAAAAAADlAAAAAAAAAN0AAAAAAAAA9QAAAAAAAADhAAAAAAAAAQEAAAAAAAABDQAAAAAAAAD9AAAAAAAAAN0AAAAAAAIBAQAAAAAAAADRAAAAAAAAAOkAAAAAAAAA5QAAAAAAAgEFAAAAAAAAAPEAAAAAAAAA7QAAAAAAAADVAAAAAAAAAQUAAAAAAAAA4QAAAAAAAAD5AAAAAAAAAN0AAAAAAAAA7QAAAAAAAAEFAAAAAAAAAO0AAAAAAAIBBQAAAAAAAAD5AAAAAAAAAOEAAAAAAAABAQAAAAAAAAD9AAAAAAAAAPUAAAAAAAAA8QAAAAAAAgEJAAAAAAAAANEAAAAAAAAA/QAAAAAAAAD9AAAAAAAAAQEAAAAAAAAA4QAAAAAAAADxAAAAAAACAQEAAAAAAAAA8QAAAAAAAADRAAAAAAAAANkAAAAAAAAA6QAAAAAAAgEBAAAAAAACAQ0AAAAAAAAA2QAAAAAAAADtAAAAAAAAAOUAAAAAAAAA6QAAAAAAAADxAAAAAAAAAQkAAAAAAAAA2QAAAAAAAADZAAAAAAAAAOUAAAAAAAIBCQAAAAAAAADRAAAAAAACAQkAAAAAAAIBBQAAAAAAAADVAAAAAAAAAPUAAAAAAAAA4QAAAAAAAADxAAAAAAAAAO0AAAAAAAIBBQAAAAAAAAD5AAAAAAACAQUAAAAAAAAA8QAAAAAAAADRAAAAAAAAAOEAAAAAAAIBCQAAAAAAAgEJAAAAAAACAQkAAAAAAAIBDQAAAAAAAgEFAAAAAAACAQEAAAAAAAABCQAAAAAAAADdAAAAAAACAQUAAAAAAAAA4QAAAAAAAADlAAAAAAAAAN0AAAAAAAAA1QAAAAAAAADdAAAAAAAAANEAAAAAAAAA5QAAAAAAAAD1AAAAAAAAAO0AAAAAAAAA6QAAAAAAAAENAAAAAAAAAQUAAAAAAAABDQAAAAAAAgEFAAAAAAACAQ0AAAAAAAAA8QAAAAAAAAD1AAAAAAAAAN0AAAAAAAAA2QAAAAAAAgEBAAAAAAAAAOEAAAAAAAAA9QAAAAAAAAEJAAAAAAAAAP0AAAAAAAAA8QAAAAAAAAD9AAAAAAACAQUAAAAAAAAA1QAAAAAAAgENAAAAAAAAANUAAAAAAAAA3QAAAAAAAADpAAAAAAACAQUAAAAAAAAA4QAAAAAAAAEFAAAAAAAAANkAAAAAAAIBDQAAAAAAAADVAAAAAAAAANkAAAAAAAAA7QAAAAAAAADlAAAAAAAAAOEAAAAAAAAA7QAAAAAAAADlAAAAAAAAAOEAAAAAAAABDQAAAAAAAADZAAAAAAAAAN0AAAAAAAIBCQAAAAAAAAD5AAAAAAAAAOEAAAAAAAIBDQAAAAAAAADVAAAAAAAAANEAAAAAAAABCQAAAAAAAgEJAAAAAAACAQ0AAAAAAAAA2QAAAAAAAAEFAAAAAAAAAN0AAAAAAAAA5QAAAAAAAgEJAAAAAAAAAOUAAAAAAAAA2QAAAAAAAADhAAAAAAAAAQUAAAAAAAIBCQAAAAAAAAEBAAAAAAAAAO0AAAAAAAAA3QAAAAAAAAD5AAAAAAAAAPkAAAAAAAAA+QAAAAAAAADpAAAAAAAAAOkAAAAAAAIBBQAAAAAAAADdAAAAAAAAANEAAAAAAAAA/QAAAAAAAgEBAAAAAAAAAOkAAAAAAAAA1QAAAAAAAADRAAAAAAAAAO0AAAAAAAAA8QAAAAAAAADdAAAAAAAAAPEAAAAAAAABBQAAAAAAAAEJAAAAAAAAAO0AAAAAAAAA2QAAAAAAAADhAAAAAAAAAOEAAAAAAAABDQAAAAAAAADpAAAAAAAAAQ0AAAAAAAABCQAAAAAAAAD1AAAAAAAAAPUAAAAAAAIBCQAAAAAAAAEBAAAAAAAAAOUAAAAAAAABDQAAAAAAAADZAAAAAAAAAOkAAAAAAAAA4QAAAAAAAADRAAAAAAAAANUAAAAAAAAA4QAAAAAAAAD1AAAAAAAAAPEAAAAAAAABCQAAAAAAAAEBAAAAAAAAANUAAAAAAAIBDQAAAAAAAAD5AAAAAAAAAPkAAAAAAAAA8QAAAAAAAADdAAAAAAAAAPkAAAAAAAAA1QAAAAAAAADhAAAAAAAAAP0AAAAAAAABBQAAAAAAAADpAAAAAAAAAPkAAAAAAAAA7QAAAAAAAADRAAAAAAAAAO0AAAAAAAAA9QAAAAAAAAEBAAAAAAAAAO0AAAAAAAAA2QAAAAAAAADtAAAAAAAAAOUAAAAAAAAA8QAAAAAAAADxAAAAAAACAQUAAAAAAAAA8QAAAAAAAADpAAAAAAAAAN0AAAAAAAIBBQAAAAAAAADhAAAAAAAAANkAAAAAAAAA1QAAAAAAAADZAAAAAAAAAOEAAAAAAAAA+QAAAAAAAAD5AAAAAAAAAP0AAAAAAAABDQAAAAAAAAD5AAAAAAAAANkAAAAAAAAA+QAAAAAAAADRAAAAAAAAANkAAAAAAAABCQAAAAAAAgEJAAAAAAAAAN0AAAAAAAIBDQAAAAAAAADxAAAAAAAAAQEAAAAAAAAA3QAAAAAAAADtAAAAAAAAAO0AAAAAAAAA8QAAAAAAAADhAAAAAAAAAN0AAAAAAAAA4QAAAAAAAgENAAAAAAAAAQEAAAAAAAIBCQAAAAAAAADlAAAAAAAAAQUAAAAAAAABBQAAAAAAAADZAAAAAAAAAP0AAAAAAAABBQAAAAAAAADxAAAAAAAAAQUAAAAAAAAA2QAAAAAAAADpAAAAAAAAAPEAAAAAAAABDQAAAAAAAAD5AAAAAAAAAQUAAAAAAAAA4QAAAAAAAADlAAAAAAAAANEAAAAAAAIBAQAAAAAAAAEJAAAAAAAAAPkAAAAAAAABCQAAAAAAAADZAAAAAAAAANkAAAAAAAAA+QAAAAAAAgEJAAAAAAAAAN0AAAAAAAAA4QAAAAAAAADRAAAAAAAAAN0AAAAAAAABCQAAAAAAAAENAAAAAAAAAOEAAAAAAAAA8QAAAAAAAADVAAAAAAAAAOkAAAAAAAAA1QAAAAAAAAEJAAAAAAAAANEAAAAAAAAA6QAAAAAAAADVAAAAAAAAAOEAAAAAAAAA0QAAAAAAAgEFAAAAAAAAANUAAAAAAAAA2QAAAAAAAAD1AAAAAAAAANUAAAAAAAAA1QAAAAAAAAD5AAAAAAAAAOUAAAAAAAAA0QAAAAAAAAD9AAAAAAAAAOEAAAAAAAAA0QAAAAAAAAD9AAAAAAAAANkAAAAAAAABAQAAAAAAAADVAAAAAAAAAPUAAAAAAAAA7QAAAAAAAADhAAAAAAAAANkAAAAAAAAA6QAAAAAAAADZAAAAAAAAAQUAAAAAAAAA0QAAAAAAAADZAAAAAAAAAOkAAAAAAAABCQAAAAAAAADZAAAAAAAAAOUAAAAAAAAA0QAAAAAAAgEFAAAAAAAAAN0AAAAAAAAA0QAAAAAAAADdAAAAAAAAAO0AAAAAAAABBQAAAAAAAAEFAAAAAAAAAOkAAAAAAAAA1QAAAAAAAADRAAAAAAAAAOUAAAAAAAAA8QAAAAAAAAENAAAAAAAAAPkAAAAAAAIBCQAAAAAAAgENAAAAAAAAANEAAAAAAAABAQAAAAAAAgEBAAAAAAAAAPUAAAAAAAAA1QAAAAAAAADxAAAAAAAAAOkAAAAAAAAA1QAAAAAAAADRAAAAAAAAAQ0AAAAAAAAA1QAAAAAAAADdAAAAAAAAANEAAAAAAAAA0QAAAAAAAAD9AAAAAAAAAOEAAAAAAAAA2QAAAAAAAAEBAAAAAAAAAPUAAAAAAAAA5QAAAAAAAADdAAAAAAAAAQUAAAAAAAABAQAAAAAAAADVAAAAAAAAAPkAAAAAAAIBBQAAAAAAAADhAAAAAAAAAP0AAAAAAAABBQAAAAAAAAEJAAAAAAAAANkAAAAAAAAA1QAAAAAAAADpAAAAAAAAAN0AAAAAAAAA0QAAAAAAAADVAAAAAAAAAOEAAAAAAAAA9QAAAAAAAADVAAAAAAAAANUAAAAAAAAA2QAAAAAAAgENAAAAAAAAANkAAAAAAAABBQAAAAAAAADdAAAAAAAAAO0AAAAAAAAA7QAAAAAAAAD5AAAAAAACAQUAAAAAAAABBQAAAAAAAADpAAAAAAAAAOkAAAAAAAAA7QAAAAAAAAEFAAAAAAAAAQ0AAAAAAAAA1QAAAAAAAADxAAAAAAAAAOkAAAAAAAAA0QAAAAAAAADlAAAAAAAAANEAAAAAAAAA6QAAAAAAAADRAAAAAAAAAQkAAAAAAAAA0QAAAAAAAADdAAAAAAACAQkAAAAAAAIBBQAAAAAAAAEJAAAAAAAAAOEAAAAAAAABBQAAAAAAAADVAAAAAAAAAN0AAAAAAAABDQAAAAAAAADZAAAAAAAAAQkAAAAAAAABCQAAAAAAAADxAAAAAAAAAQEAAAAAAAAA+QAAAAAAAADlAAAAAAAAAO0AAAAAAAAA7QAAAAAAAAD9AAAAAAAAANEAAAAAAAAA4QAAAAAAAAD1AAAAAAACAQUAAAAAAAAA/QAAAAAAAAEJAAAAAAAAAOEAAAAAAAAA4QAAAAAAAADlAAAAAAAAANEAAAAAAAAA0QAAAAAAAAENAAAAAAAAAOUAAAAAAAABCQAAAAAAAgEJAAAAAAAAAN0AAAAAAAAA0QAAAAAAAADZAAAAAAACAQkAAAAAAAAA2QAAAAAAAADRAAAAAAAAAOEAAAAAAAAA0QAAAAAAAADZAAAAAAAAAN0AAAAAAAAA1QAAAAAAAADhAAAAAAAAANkAAAAAAAAA2QAAAAAAAAEJAAAAAAAAAO0AAAAAAAAA4QAAAAAAAAD5AAAAAAAAANUAAAAAAAAA3QAAAAAAAADhAAAAAAACAQ0AAAAAAAIBBQAAAAAAAADhAAAAAAACAQEAAAAAAAAA4QAAAAAAAADdAAAAAAAAAQkAAAAAAAAA1QAAAAAAAAENAAAAAAAAANkAAAAAAAAA7QAAAAAAAADlAAAAAAAAAPEAAAAAAAAA9QAAAAAAAADRAAAAAAAAAQkAAAAAAAABBQAAAAAAAADhAAAAAAAAANUAAAAAAAABAQAAAAAAAADVAAAAAAAAAPEAAAAAAAAA2QAAAAAAAAD9AAAAAAAAANEAAAAAAAABCQAAAAAAAADlAAAAAAAAAQUAAAAAAAABAQAAAAAAAADtAAAAAAAAAO0AAAAAAAAA7QAAAAAAAADxAAAAAAAAAPEAAAAAAAABAQAAAAAAAADpAAAAAAAAAOEAAAAAAAAA5QAAAAAAAgEFAAAAAAAAAQ0AAAAAAAAA6QAAAAAAAADhAAAAAAAAAPEAAAAAAAAA5QAAAAAAAADRAAAAAAACAQEAAAAAAAIBAQAAAAAAAAD5AAAAAAAAANUAAAAAAAAA7QAAAAAAAAD1AAAAAAACAQkAAAAAAAAA+QAAAAAAAADlAAAAAAAAAN0AAAAAAAAA5QAAAAAAAgEFAAAAAAACAQkAAAAAAAAA0QAAAAAAAgEFAAAAAAAAAPEAAAAAAAAA/QAAAAAAAgEJAAAAAAAAAOUAAAAAAAAA3QAAAAAAAADVAAAAAAACAQEAAAAAAAAA3QAAAAAAAgEBAAAAAAACAQEAAAAAAAAA1QAAAAAAAAD9AAAAAAAAANkAAAAAAAAA+QAAAAAAAADZAAAAAAAAANEAAAAAAAABBQAAAAAAAAD9AAAAAAAAANkAAAAAAAAA4QAAAAAAAgEFAAAAAAAAAOEAAAAAAAAA/QAAAAAAAADlAAAAAAAAAQUAAAAAAAAA0QAAAAAAAADhAAAAAAAAANUAAAAAAAIBAQAAAAAAAADdAAAAAAAAANkAAAAAAAAA8QAAAAAAAAD9AAAAAAAAAQEAAAAAAAAA+QAAAAAAAAEBAAAAAAAAAPkAAAAAAAAA8QAAAAAAAAEBAAAAAAACAQEAAAAAAAIBCQAAAAAAAADtAAAAAAAAAQEAAAAAAAAA1QAAAAAAAADRAAAAAAAAAOUAAAAAAAAA4QAAAAAAAADhAAAAAAAAANkAAAAAAAAA2QAAAAAAAgENAAAAAAACAQUAAAAAAAAA1QAAAAAAAADZAAAAAAAAAPUAAAAAAAIBCQAAAAAAAADZAAAAAAAAAO0AAAAAAAABDQAAAAAAAADhAAAAAAAAAOUAAAAAAAAA6QAAAAAAAADdAAAAAAAAAN0AAAAAAAAA9QAAAAAAAADpAAAAAAAAANEAAAAAAAIBBQAAAAAAAgEFAAAAAAAAAO0AAAAAAAABCQAAAAAAAADVAAAAAAAAAO0AAAAAAAAA7QAAAAAAAAEJAAAAAAAAANEAAAAAAAAA2QAAAAAAAgEBAAAAAAAAAOUAAAAAAAABAQAAAAAAAADVAAAAAAAAAPUAAAAAAAAA+QAAAAAAAAEBAAAAAAAAANkAAAAAAAAA7QAAAAAAAADVAAAAAAAAAPUAAAAAAAAA4QAAAAAAAADpAAAAAAAAAPkAAAAAAAABDQAAAAAAAADZAAAAAAAAAPEAAAAAAAAA2QAAAAAAAADlAAAAAAACAQEAAAAAAAAA3QAAAAAAAgEJAAAAAAAAANUAAAAAAAAA2QAAAAAAAAENAAAAAAAAAOUAAAAAAAABBQAAAAAAAADlAAAAAAAAANkAAAAAAAAA3QAAAAAAAADtAAAAAAAAAPEAAAAAAAABCQAAAAAAAgENAAAAAAACAQEAAAAAAAABCQAAAAAAAgEJAAAAAAAAAQUAAAAAAAAA7QAAAAAAAADRAAAAAAAAAOkAAAAAAAAA2QAAAAAAAADtAAAAAAAAANUAAAAAAAAA2QAAAAAAAADVAAAAAAAAANkAAAAAAAAA0QAAAAAAAADpAAAAAAAAANUAAAAAAAAA5QAAAAAAAADpAAAAAAAAAOUAAAAAAAAA6QAAAAAAAgEFAAAAAAAAAPEAAAAAAAABCQAAAAAAAADlAAAAAAAAAQ0AAAAAAAAA6QAAAAAAAADlAAAAAAAAAOEAAAAAAAAA2QAAAAAAAADxAAAAAAAAAN0AAAAAAAAA5QAAAAAAAgEJAAAAAAAAAOUAAAAAAAAA9QAAAAAAAgEJAAAAAAAAAQkAAAAAAAIBBQAAAAAAAAD9AAAAAAAAAOEAAAAAAAAA/QAAAAAAAADlAAAAAAAAAPEAAAAAAAAA0QAAAAAAAAEBAAAAAAAAAO0AAAAAAAAA7QAAAAAAAAD1AAAAAAACAQUAAAAAAAAA2QAAAAAAAgENAAAAAAAAAN0AAAAAAAAA5QAAAAAAAADpAAAAAAAAAPUAAAAAAAIBDQAAAAAAAADhAAAAAAAAAPEAAAAAAAAA4QAAAAAAAADxAAAAAAAAAPEAAAAAAAAA2QAAAAAAAAD1AAAAAAAAAQkAAAAAAAAA2QAAAAAAAAEJAAAAAAAAAPUAAAAAAAAA2QAAAAAAAADlAAAAAAAAAQUAAAAAAAAA3QAAAAAAAAEBAAAAAAACAQkAAAAAAAAA6QAAAAAAAADVAAAAAAAAAPEAAAAAAAAA1QAAAAAAAADpAAAAAAAAAQkAAAAAAAAA1QAAAAAAAgEJAAAAAAACAQ0AAAAAAAIBCQAAAAAAAADhAAAAAAAAAN0AAAAAAAIBDQAAAAAAAADtAAAAAAAAANEAAAAAAAABDQAAAAAAAADhAAAAAAACAQUAAAAAAAAA2QAAAAAAAAD5AAAAAAACAQ0AAAAAAAAA6QAAAAAAAADVAAAAAAAAANkAAAAAAAIBDQAAAAAAAgENAAAAAAAAAQkAAAAAAAAA3QAAAAAAAADlAAAAAAAAANUAAAAAAAABDQAAAAAAAAD5AAAAAAAAAOUAAAAAAAAA3QAAAAAAAADZAAAAAAAAANUAAAAAAAAA3QAAAAAAAADlAAAAAAAAAPEAAAAAAAAA0QAAAAAAAADdAAAAAAAAAN0AAAAAAAAA6QAAAAAAAgEFAAAAAAAAAO0AAAAAAAABBQAAAAAAAADxAAAAAAAAAO0AAAAAAAAA7QAAAAAAAADdAAAAAAAAAPUAAAAAAAAA0QAAAAAAAADdAAAAAAAAANkAAAAAAAABAQAAAAAAAADdAAAAAAAAAOEAAAAAAAAA6QAAAAAAAADZAAAAAAAAANUAAAAAAAAA3QAAAAAAAADtAAAAAAAAAOEAAAAAAAAA7QAAAAAAAADZAAAAAAAAAO0AAAAAAAAA+QAAAAAAAAEFAAAAAAAAAQUAAAAAAAABBQAAAAAAAADVAAAAAAAAAPEAAAAAAAAA+QAAAAAAAgEJAAAAAAAAAOkAAAAAAAAA8QAAAAAAAADtAAAAAAACAQkAAAAAAAAA8QAAAAAAAADpAAAAAAAAAOUAAAAAAAAA4QAAAAAAAADZAAAAAAAAAPUAAAAAAAAA+QAAAAAAAADlAAAAAAACAQUAAAAAAAABBQAAAAAAAADZAAAAAAAAAOUAAAAAAAAA0QAAAAAAAADVAAAAAAACAQ0AAAAAAAAA0QAAAAAAAADlAAAAAAAAAOUAAAAAAAAA0QAAAAAAAADlAAAAAAAAAOEAAAAAAAAA1QAAAAAAAgEJAAAAAAACAQEAAAAAAAAA0QAAAAAAAADRAAAAAAAAAPkAAAAAAAABAQAAAAAAAAEFA",
          "dtype": "f8"
         },
         "yaxis": "y"
        }
       ],
       "layout": {
        "coloraxis": {
         "colorbar": {
          "title": {
           "text": "Median Age"
          }
         },
         "colorscale": [
          [
           0,
           "#440154"
          ],
          [
           0.1111111111111111,
           "#482878"
          ],
          [
           0.2222222222222222,
           "#3e4989"
          ],
          [
           0.3333333333333333,
           "#31688e"
          ],
          [
           0.4444444444444444,
           "#26828e"
          ],
          [
           0.5555555555555556,
           "#1f9e89"
          ],
          [
           0.6666666666666666,
           "#35b779"
          ],
          [
           0.7777777777777778,
           "#6ece58"
          ],
          [
           0.8888888888888888,
           "#b5de2b"
          ],
          [
           1,
           "#fde725"
          ]
         ]
        },
        "height": 600,
        "legend": {
         "tracegroupgap": 0
        },
        "template": {
         "data": {
          "bar": [
           {
            "error_x": {
             "color": "#2a3f5f"
            },
            "error_y": {
             "color": "#2a3f5f"
            },
            "marker": {
             "line": {
              "color": "white",
              "width": 0.5
             },
             "pattern": {
              "fillmode": "overlay",
              "size": 10,
              "solidity": 0.2
             }
            },
            "type": "bar"
           }
          ],
          "barpolar": [
           {
            "marker": {
             "line": {
              "color": "white",
              "width": 0.5
             },
             "pattern": {
              "fillmode": "overlay",
              "size": 10,
              "solidity": 0.2
             }
            },
            "type": "barpolar"
           }
          ],
          "carpet": [
           {
            "aaxis": {
             "endlinecolor": "#2a3f5f",
             "gridcolor": "#C8D4E3",
             "linecolor": "#C8D4E3",
             "minorgridcolor": "#C8D4E3",
             "startlinecolor": "#2a3f5f"
            },
            "baxis": {
             "endlinecolor": "#2a3f5f",
             "gridcolor": "#C8D4E3",
             "linecolor": "#C8D4E3",
             "minorgridcolor": "#C8D4E3",
             "startlinecolor": "#2a3f5f"
            },
            "type": "carpet"
           }
          ],
          "choropleth": [
           {
            "colorbar": {
             "outlinewidth": 0,
             "ticks": ""
            },
            "type": "choropleth"
           }
          ],
          "contour": [
           {
            "colorbar": {
             "outlinewidth": 0,
             "ticks": ""
            },
            "colorscale": [
             [
              0,
              "#0d0887"
             ],
             [
              0.1111111111111111,
              "#46039f"
             ],
             [
              0.2222222222222222,
              "#7201a8"
             ],
             [
              0.3333333333333333,
              "#9c179e"
             ],
             [
              0.4444444444444444,
              "#bd3786"
             ],
             [
              0.5555555555555556,
              "#d8576b"
             ],
             [
              0.6666666666666666,
              "#ed7953"
             ],
             [
              0.7777777777777778,
              "#fb9f3a"
             ],
             [
              0.8888888888888888,
              "#fdca26"
             ],
             [
              1,
              "#f0f921"
             ]
            ],
            "type": "contour"
           }
          ],
          "contourcarpet": [
           {
            "colorbar": {
             "outlinewidth": 0,
             "ticks": ""
            },
            "type": "contourcarpet"
           }
          ],
          "heatmap": [
           {
            "colorbar": {
             "outlinewidth": 0,
             "ticks": ""
            },
            "colorscale": [
             [
              0,
              "#0d0887"
             ],
             [
              0.1111111111111111,
              "#46039f"
             ],
             [
              0.2222222222222222,
              "#7201a8"
             ],
             [
              0.3333333333333333,
              "#9c179e"
             ],
             [
              0.4444444444444444,
              "#bd3786"
             ],
             [
              0.5555555555555556,
              "#d8576b"
             ],
             [
              0.6666666666666666,
              "#ed7953"
             ],
             [
              0.7777777777777778,
              "#fb9f3a"
             ],
             [
              0.8888888888888888,
              "#fdca26"
             ],
             [
              1,
              "#f0f921"
             ]
            ],
            "type": "heatmap"
           }
          ],
          "histogram": [
           {
            "marker": {
             "pattern": {
              "fillmode": "overlay",
              "size": 10,
              "solidity": 0.2
             }
            },
            "type": "histogram"
           }
          ],
          "histogram2d": [
           {
            "colorbar": {
             "outlinewidth": 0,
             "ticks": ""
            },
            "colorscale": [
             [
              0,
              "#0d0887"
             ],
             [
              0.1111111111111111,
              "#46039f"
             ],
             [
              0.2222222222222222,
              "#7201a8"
             ],
             [
              0.3333333333333333,
              "#9c179e"
             ],
             [
              0.4444444444444444,
              "#bd3786"
             ],
             [
              0.5555555555555556,
              "#d8576b"
             ],
             [
              0.6666666666666666,
              "#ed7953"
             ],
             [
              0.7777777777777778,
              "#fb9f3a"
             ],
             [
              0.8888888888888888,
              "#fdca26"
             ],
             [
              1,
              "#f0f921"
             ]
            ],
            "type": "histogram2d"
           }
          ],
          "histogram2dcontour": [
           {
            "colorbar": {
             "outlinewidth": 0,
             "ticks": ""
            },
            "colorscale": [
             [
              0,
              "#0d0887"
             ],
             [
              0.1111111111111111,
              "#46039f"
             ],
             [
              0.2222222222222222,
              "#7201a8"
             ],
             [
              0.3333333333333333,
              "#9c179e"
             ],
             [
              0.4444444444444444,
              "#bd3786"
             ],
             [
              0.5555555555555556,
              "#d8576b"
             ],
             [
              0.6666666666666666,
              "#ed7953"
             ],
             [
              0.7777777777777778,
              "#fb9f3a"
             ],
             [
              0.8888888888888888,
              "#fdca26"
             ],
             [
              1,
              "#f0f921"
             ]
            ],
            "type": "histogram2dcontour"
           }
          ],
          "mesh3d": [
           {
            "colorbar": {
             "outlinewidth": 0,
             "ticks": ""
            },
            "type": "mesh3d"
           }
          ],
          "parcoords": [
           {
            "line": {
             "colorbar": {
              "outlinewidth": 0,
              "ticks": ""
             }
            },
            "type": "parcoords"
           }
          ],
          "pie": [
           {
            "automargin": true,
            "type": "pie"
           }
          ],
          "scatter": [
           {
            "fillpattern": {
             "fillmode": "overlay",
             "size": 10,
             "solidity": 0.2
            },
            "type": "scatter"
           }
          ],
          "scatter3d": [
           {
            "line": {
             "colorbar": {
              "outlinewidth": 0,
              "ticks": ""
             }
            },
            "marker": {
             "colorbar": {
              "outlinewidth": 0,
              "ticks": ""
             }
            },
            "type": "scatter3d"
           }
          ],
          "scattercarpet": [
           {
            "marker": {
             "colorbar": {
              "outlinewidth": 0,
              "ticks": ""
             }
            },
            "type": "scattercarpet"
           }
          ],
          "scattergeo": [
           {
            "marker": {
             "colorbar": {
              "outlinewidth": 0,
              "ticks": ""
             }
            },
            "type": "scattergeo"
           }
          ],
          "scattergl": [
           {
            "marker": {
             "colorbar": {
              "outlinewidth": 0,
              "ticks": ""
             }
            },
            "type": "scattergl"
           }
          ],
          "scattermap": [
           {
            "marker": {
             "colorbar": {
              "outlinewidth": 0,
              "ticks": ""
             }
            },
            "type": "scattermap"
           }
          ],
          "scattermapbox": [
           {
            "marker": {
             "colorbar": {
              "outlinewidth": 0,
              "ticks": ""
             }
            },
            "type": "scattermapbox"
           }
          ],
          "scatterpolar": [
           {
            "marker": {
             "colorbar": {
              "outlinewidth": 0,
              "ticks": ""
             }
            },
            "type": "scatterpolar"
           }
          ],
          "scatterpolargl": [
           {
            "marker": {
             "colorbar": {
              "outlinewidth": 0,
              "ticks": ""
             }
            },
            "type": "scatterpolargl"
           }
          ],
          "scatterternary": [
           {
            "marker": {
             "colorbar": {
              "outlinewidth": 0,
              "ticks": ""
             }
            },
            "type": "scatterternary"
           }
          ],
          "surface": [
           {
            "colorbar": {
             "outlinewidth": 0,
             "ticks": ""
            },
            "colorscale": [
             [
              0,
              "#0d0887"
             ],
             [
              0.1111111111111111,
              "#46039f"
             ],
             [
              0.2222222222222222,
              "#7201a8"
             ],
             [
              0.3333333333333333,
              "#9c179e"
             ],
             [
              0.4444444444444444,
              "#bd3786"
             ],
             [
              0.5555555555555556,
              "#d8576b"
             ],
             [
              0.6666666666666666,
              "#ed7953"
             ],
             [
              0.7777777777777778,
              "#fb9f3a"
             ],
             [
              0.8888888888888888,
              "#fdca26"
             ],
             [
              1,
              "#f0f921"
             ]
            ],
            "type": "surface"
           }
          ],
          "table": [
           {
            "cells": {
             "fill": {
              "color": "#EBF0F8"
             },
             "line": {
              "color": "white"
             }
            },
            "header": {
             "fill": {
              "color": "#C8D4E3"
             },
             "line": {
              "color": "white"
             }
            },
            "type": "table"
           }
          ]
         },
         "layout": {
          "annotationdefaults": {
           "arrowcolor": "#2a3f5f",
           "arrowhead": 0,
           "arrowwidth": 1
          },
          "autotypenumbers": "strict",
          "coloraxis": {
           "colorbar": {
            "outlinewidth": 0,
            "ticks": ""
           }
          },
          "colorscale": {
           "diverging": [
            [
             0,
             "#8e0152"
            ],
            [
             0.1,
             "#c51b7d"
            ],
            [
             0.2,
             "#de77ae"
            ],
            [
             0.3,
             "#f1b6da"
            ],
            [
             0.4,
             "#fde0ef"
            ],
            [
             0.5,
             "#f7f7f7"
            ],
            [
             0.6,
             "#e6f5d0"
            ],
            [
             0.7,
             "#b8e186"
            ],
            [
             0.8,
             "#7fbc41"
            ],
            [
             0.9,
             "#4d9221"
            ],
            [
             1,
             "#276419"
            ]
           ],
           "sequential": [
            [
             0,
             "#0d0887"
            ],
            [
             0.1111111111111111,
             "#46039f"
            ],
            [
             0.2222222222222222,
             "#7201a8"
            ],
            [
             0.3333333333333333,
             "#9c179e"
            ],
            [
             0.4444444444444444,
             "#bd3786"
            ],
            [
             0.5555555555555556,
             "#d8576b"
            ],
            [
             0.6666666666666666,
             "#ed7953"
            ],
            [
             0.7777777777777778,
             "#fb9f3a"
            ],
            [
             0.8888888888888888,
             "#fdca26"
            ],
            [
             1,
             "#f0f921"
            ]
           ],
           "sequentialminus": [
            [
             0,
             "#0d0887"
            ],
            [
             0.1111111111111111,
             "#46039f"
            ],
            [
             0.2222222222222222,
             "#7201a8"
            ],
            [
             0.3333333333333333,
             "#9c179e"
            ],
            [
             0.4444444444444444,
             "#bd3786"
            ],
            [
             0.5555555555555556,
             "#d8576b"
            ],
            [
             0.6666666666666666,
             "#ed7953"
            ],
            [
             0.7777777777777778,
             "#fb9f3a"
            ],
            [
             0.8888888888888888,
             "#fdca26"
            ],
            [
             1,
             "#f0f921"
            ]
           ]
          },
          "colorway": [
           "#636efa",
           "#EF553B",
           "#00cc96",
           "#ab63fa",
           "#FFA15A",
           "#19d3f3",
           "#FF6692",
           "#B6E880",
           "#FF97FF",
           "#FECB52"
          ],
          "font": {
           "color": "#2a3f5f"
          },
          "geo": {
           "bgcolor": "white",
           "lakecolor": "white",
           "landcolor": "white",
           "showlakes": true,
           "showland": true,
           "subunitcolor": "#C8D4E3"
          },
          "hoverlabel": {
           "align": "left"
          },
          "hovermode": "closest",
          "mapbox": {
           "style": "light"
          },
          "paper_bgcolor": "white",
          "plot_bgcolor": "white",
          "polar": {
           "angularaxis": {
            "gridcolor": "#EBF0F8",
            "linecolor": "#EBF0F8",
            "ticks": ""
           },
           "bgcolor": "white",
           "radialaxis": {
            "gridcolor": "#EBF0F8",
            "linecolor": "#EBF0F8",
            "ticks": ""
           }
          },
          "scene": {
           "xaxis": {
            "backgroundcolor": "white",
            "gridcolor": "#DFE8F3",
            "gridwidth": 2,
            "linecolor": "#EBF0F8",
            "showbackground": true,
            "ticks": "",
            "zerolinecolor": "#EBF0F8"
           },
           "yaxis": {
            "backgroundcolor": "white",
            "gridcolor": "#DFE8F3",
            "gridwidth": 2,
            "linecolor": "#EBF0F8",
            "showbackground": true,
            "ticks": "",
            "zerolinecolor": "#EBF0F8"
           },
           "zaxis": {
            "backgroundcolor": "white",
            "gridcolor": "#DFE8F3",
            "gridwidth": 2,
            "linecolor": "#EBF0F8",
            "showbackground": true,
            "ticks": "",
            "zerolinecolor": "#EBF0F8"
           }
          },
          "shapedefaults": {
           "line": {
            "color": "#2a3f5f"
           }
          },
          "ternary": {
           "aaxis": {
            "gridcolor": "#DFE8F3",
            "linecolor": "#A2B1C6",
            "ticks": ""
           },
           "baxis": {
            "gridcolor": "#DFE8F3",
            "linecolor": "#A2B1C6",
            "ticks": ""
           },
           "bgcolor": "white",
           "caxis": {
            "gridcolor": "#DFE8F3",
            "linecolor": "#A2B1C6",
            "ticks": ""
           }
          },
          "title": {
           "x": 0.05
          },
          "xaxis": {
           "automargin": true,
           "gridcolor": "#EBF0F8",
           "linecolor": "#EBF0F8",
           "ticks": "",
           "title": {
            "standoff": 15
           },
           "zerolinecolor": "#EBF0F8",
           "zerolinewidth": 2
          },
          "yaxis": {
           "automargin": true,
           "gridcolor": "#EBF0F8",
           "linecolor": "#EBF0F8",
           "ticks": "",
           "title": {
            "standoff": 15
           },
           "zerolinecolor": "#EBF0F8",
           "zerolinewidth": 2
          }
         }
        },
        "title": {
         "text": "Delivery Person: Median Ratings vs. Median Age"
        },
        "width": 800,
        "xaxis": {
         "anchor": "y",
         "domain": [
          0,
          1
         ],
         "title": {
          "text": "Median Ratings"
         }
        },
        "yaxis": {
         "anchor": "x",
         "domain": [
          0,
          1
         ],
         "title": {
          "text": "Median Age"
         }
        }
       }
      },
      "image/png": "[encoded data removed]"
     },
     "metadata": {},
     "output_type": "display_data"
    }
   ],
   "source": [
    "df_summary = df.groupby('Delivery_person_ID').agg({\n",
    "    'Delivery_person_Ratings': 'median',\n",
    "    'Delivery_person_Age': lambda x: x.mode().iloc[0]\n",
    "}).reset_index()\n",
    "\n",
    "fig = px.scatter(\n",
    "    df_summary,\n",
    "    x='Delivery_person_Ratings',\n",
    "    y='Delivery_person_Age',\n",
    "    hover_data=['Delivery_person_ID'],\n",
    "    title='Delivery Person: Median Ratings vs. Median Age',\n",
    "    labels={\n",
    "        'Delivery_person_Ratings': 'Median Ratings',\n",
    "        'Delivery_person_Age': 'Median Age'\n",
    "    },\n",
    "    color='Delivery_person_Age',\n",
    "    color_continuous_scale=px.colors.sequential.Viridis,\n",
    "    size_max=15,\n",
    "    height=600,\n",
    "    width=800\n",
    ")\n",
    "\n",
    "fig.update_traces(marker=dict(size=12, opacity=0.8, line=dict(width=1, color='DarkSlateGrey')))\n",
    "fig.update_layout(template='plotly_white')\n",
    "fig.show()"
   ]
  },
  {
   "cell_type": "code",
   "execution_count": 221,
   "id": "ae438393-373b-4b7a-bffe-5c9845a251ea",
   "metadata": {},
   "outputs": [],
   "source": [
    "df['Time_Ordered_dt'] = pd.to_datetime(df['Time_Ordered'].astype(str), format='%H:%M:%S', errors='coerce')\n",
    "df['Time_Order_picked_dt'] = pd.to_datetime(df['Time_Order_picked'].astype(str), format='%H:%M:%S', errors='coerce')\n",
    "df['Pickup_delay'] = np.nan\n",
    "mask = df['Time_Ordered_dt'].notna() & df['Time_Order_picked_dt'].notna()\n",
    "df.loc[mask, 'Pickup_delay'] = (df.loc[mask, 'Time_Order_picked_dt'] - df.loc[mask, 'Time_Ordered_dt']).dt.total_seconds() / 60\n",
    "df.drop(columns=['Time_Ordered_dt', 'Time_Order_picked_dt'], inplace=True)"
   ]
  },
  {
   "cell_type": "code",
   "execution_count": 222,
   "id": "d1bba4ca-089c-4058-b40e-f828fc215cf1",
   "metadata": {},
   "outputs": [
    {
     "name": "stdout",
     "output_type": "stream",
     "text": [
      "Pickup_delay depends of Type_of_order\n"
     ]
    }
   ],
   "source": [
    "df_anova = df.dropna(subset=['Pickup_delay', 'Type_of_order'])\n",
    "groups_order = [group['Pickup_delay'].values for name, group in df_anova.groupby('Type_of_order')]\n",
    "F_order, p_order = f_oneway(*groups_order)\n",
    "if (p_order < 0.05):\n",
    "    print(\"Pickup_delay depends of Type_of_order\")\n",
    "else:\n",
    "    print(\"Pickup_delay does not depends of Type_of_order\")"
   ]
  },
  {
   "cell_type": "code",
   "execution_count": 223,
   "id": "b6893d84-fd95-4f01-a487-496281314fda",
   "metadata": {},
   "outputs": [
    {
     "name": "stdout",
     "output_type": "stream",
     "text": [
      "Pickup_delay does not depends of Type_of_vehicle\n"
     ]
    }
   ],
   "source": [
    "df_anova_vehicle = df.dropna(subset=['Pickup_delay', 'Type_of_vehicle'])\n",
    "groups_vehicle = [group['Pickup_delay'].values for name, group in df_anova_vehicle.groupby('Type_of_vehicle')]\n",
    "F_vehicle, p_vehicle = f_oneway(*groups_vehicle)\n",
    "if (p_vehicle < 0.05):\n",
    "    print(\"Pickup_delay depends of Type_of_vehicle\")\n",
    "else:\n",
    "    print(\"Pickup_delay does not depends of Type_of_vehicle\")"
   ]
  },
  {
   "cell_type": "code",
   "execution_count": 224,
   "id": "2f7ae97a-3e0b-4d5b-83ac-7664ccf6d8ba",
   "metadata": {},
   "outputs": [
    {
     "name": "stdout",
     "output_type": "stream",
     "text": [
      "Use Median\n"
     ]
    }
   ],
   "source": [
    "skewness = df['Pickup_delay'].dropna().skew()\n",
    "if ( -0.5 <= skewness <= 0.5):\n",
    "    print (\"Use Mean\")\n",
    "else:\n",
    "    print(\"Use Median\")"
   ]
  },
  {
   "cell_type": "code",
   "execution_count": 225,
   "id": "ac590b8e-1b60-4fad-94e8-5a7fe1686cc7",
   "metadata": {},
   "outputs": [],
   "source": [
    "median_pickup_delay = df.groupby('Type_of_order')['Pickup_delay'].median()\n",
    "def fill_values(row):\n",
    "    order_type = row['Type_of_order']\n",
    "    delay = median_pickup_delay.get(order_type, np.nan)\n",
    "    if pd.isna(delay) or pd.isna(row['Time_Order_picked']):\n",
    "        time_ordered_filled = row['Time_Ordered']\n",
    "    else:\n",
    "        dummy_date = pd.Timestamp('2023-01-01')\n",
    "        time_order_picked_dt = pd.Timestamp.combine(dummy_date, row['Time_Order_picked'])\n",
    "        new_time_ordered_dt = time_order_picked_dt - timedelta(minutes=delay)\n",
    "        time_ordered_filled = new_time_ordered_dt.time()\n",
    "    pickup_delay_filled = delay if pd.isna(row['Pickup_delay']) else row['Pickup_delay']\n",
    "\n",
    "    return pd.Series([time_ordered_filled, pickup_delay_filled])\n",
    "\n",
    "df[['Time_Ordered', 'Pickup_delay']] = df.apply(fill_values, axis=1)"
   ]
  },
  {
   "cell_type": "code",
   "execution_count": 226,
   "id": "7f869943-af46-420d-ad08-df23318252fd",
   "metadata": {},
   "outputs": [
    {
     "name": "stdout",
     "output_type": "stream",
     "text": [
      "Area_Type               1200\n",
      "multiple_deliveries      993\n",
      "Weather_conditions       616\n",
      "Road_traffic_density     601\n",
      "Festival                 228\n",
      "dtype: int64\n"
     ]
    }
   ],
   "source": [
    "checkNull()"
   ]
  },
  {
   "cell_type": "code",
   "execution_count": 227,
   "id": "0770661b-3174-4470-98b4-2a6519138ef5",
   "metadata": {},
   "outputs": [
    {
     "name": "stdout",
     "output_type": "stream",
     "text": [
      "Area_Type               1200\n",
      "Weather_conditions       616\n",
      "Road_traffic_density     601\n",
      "Festival                 228\n",
      "dtype: int64\n"
     ]
    }
   ],
   "source": [
    "mode_val = df['multiple_deliveries'].dropna().mode().iloc[0]\n",
    "df['multiple_deliveries'] = df['multiple_deliveries'].fillna(mode_val)\n",
    "checkNull()"
   ]
  },
  {
   "cell_type": "code",
   "execution_count": 228,
   "id": "16b6f367-4b54-4a4a-a12d-60490080d8e8",
   "metadata": {},
   "outputs": [],
   "source": [
    "def datetime_to_numeric(row):\n",
    "    if pd.isna(row['Order_Date']) or pd.isna(row['Time_Order_picked']):\n",
    "        return np.nan\n",
    "    dt = pd.to_datetime(row['Order_Date'])\n",
    "    t = row['Time_Order_picked']\n",
    "    dt_time = pd.Timestamp.combine(dt, t)\n",
    "    return dt_time.timestamp()\n",
    "df['datetime_num'] = df.apply(datetime_to_numeric, axis=1)\n",
    "df['datetime_num'] = df['datetime_num'] - df['datetime_num'].min()\n",
    "df['datetime_num'] = df['datetime_num'] / 3600"
   ]
  },
  {
   "cell_type": "code",
   "execution_count": 229,
   "id": "45132683-ac95-4e62-860b-f783bd132388",
   "metadata": {},
   "outputs": [],
   "source": [
    "def knn_fill_cat(df, target_col, feature_col='datetime_num', k=5):\n",
    "    missing_idx = df[df[target_col].isna()].index\n",
    "    known_idx = df[df[target_col].notna()].index\n",
    "    \n",
    "    for idx in missing_idx:\n",
    "        val_feat = df.loc[idx, feature_col]\n",
    "        if pd.isna(val_feat):\n",
    "            continue\n",
    "        known_feats = df.loc[known_idx, feature_col]\n",
    "        distances = abs(known_feats - val_feat)\n",
    "        knn_indices = distances.nsmallest(k).index\n",
    "        knn_values = df.loc[knn_indices, target_col]\n",
    "        mode_val = Counter(knn_values).most_common(1)[0][0]\n",
    "        df.at[idx, target_col] = mode_val\n",
    "knn_fill_cat(df, 'Weather_conditions', k=5)\n",
    "knn_fill_cat(df, 'Road_traffic_density', k=5)\n",
    "knn_fill_cat(df, 'Festival', k=5)\n",
    "df.drop(columns=['datetime_num'], inplace=True)"
   ]
  },
  {
   "cell_type": "code",
   "execution_count": 230,
   "id": "2ce14989-3a32-4016-a06c-03c4541f7f20",
   "metadata": {},
   "outputs": [
    {
     "name": "stdout",
     "output_type": "stream",
     "text": [
      "Area_Type    1200\n",
      "dtype: int64\n"
     ]
    }
   ],
   "source": [
    "checkNull()"
   ]
  },
  {
   "attachments": {
    "7d7e4177-c538-423c-9575-00c654407a02.png": {
     "image/png": "[encoded data removed]"
    }
   },
   "cell_type": "markdown",
   "id": "6665c32c-521f-4a32-a3ba-d08b354b7052",
   "metadata": {},
   "source": [
    "![Screenshot from 2025-05-18 05-11-24.png](attachment:7d7e4177-c538-423c-9575-00c654407a02.png)\n"
   ]
  },
  {
   "cell_type": "code",
   "execution_count": 231,
   "id": "0623ec98-cfa3-4c3f-9b13-e8022484129c",
   "metadata": {},
   "outputs": [],
   "source": [
    "# phi : Latitude\n",
    "# lambda : Longitude\n",
    "def haversine(lat1, lon1, lat2, lon2):\n",
    "    lat1, lon1, lat2, lon2 = map(np.radians, [lat1, lon1, lat2, lon2])\n",
    "    dlat = lat2 - lat1\n",
    "    dlon = lon2 - lon1\n",
    "    a = np.sin(dlat/2)**2 + np.cos(lat1) * np.cos(lat2) * np.sin(dlon/2)**2\n",
    "    c = 2 * np.arcsin(np.sqrt(a))\n",
    "    r = 6371\n",
    "    return c * r\n",
    "df['Distance(Km)'] = df.apply(lambda row:haversine(row['Restaurant_latitude'],row['Restaurant_longitude'],row['Delivery_location_latitude'],row['Delivery_location_longitude']),axis=1)"
   ]
  },
  {
   "cell_type": "code",
   "execution_count": 232,
   "id": "9c006fd9-ad88-4084-9d5f-0619ba7bb28d",
   "metadata": {},
   "outputs": [
    {
     "name": "stdout",
     "output_type": "stream",
     "text": [
      "Q1 = 4.66, Q3 = 13.76, IQR = 9.10\n",
      "Lower Bound = -8.99, Upper Bound = 27.41\n"
     ]
    }
   ],
   "source": [
    "#l’Écart Interquartile (IQR)\n",
    "Q1 = df['Distance(Km)'].quantile(0.25)\n",
    "Q3 = df['Distance(Km)'].quantile(0.75)\n",
    "\n",
    "IQR = Q3 - Q1\n",
    "\n",
    "lower_bound = Q1 - 1.5 * IQR\n",
    "upper_bound = Q3 + 1.5 * IQR\n",
    "\n",
    "print(f\"Q1 = {Q1:.2f}, Q3 = {Q3:.2f}, IQR = {IQR:.2f}\")\n",
    "print(f\"Lower Bound = {lower_bound:.2f}, Upper Bound = {upper_bound:.2f}\")"
   ]
  },
  {
   "cell_type": "code",
   "execution_count": 233,
   "id": "3acba9f9-4942-49ea-aad7-d778863b99a1",
   "metadata": {},
   "outputs": [
    {
     "name": "stdout",
     "output_type": "stream",
     "text": [
      "Number of outliers : 431\n",
      "Percentage of outlier values : 0.95%\n"
     ]
    }
   ],
   "source": [
    "outliers = df[(df['Distance(Km)'] < 0) | (df['Distance(Km)'] > upper_bound)]\n",
    "percent_outliers = (len(outliers) / len(df)) * 100\n",
    "\n",
    "print(f\"Number of outliers : {len(outliers)}\")\n",
    "print(f\"Percentage of outlier values : {percent_outliers:.2f}%\")"
   ]
  },
  {
   "cell_type": "code",
   "execution_count": 234,
   "id": "0fb60f51-6e87-46aa-b7b9-e5d78a6e0c96",
   "metadata": {},
   "outputs": [],
   "source": [
    "df = df[(df['Distance(Km)'] > 0) & (df['Distance(Km)'] <= upper_bound)]"
   ]
  },
  {
   "cell_type": "code",
   "execution_count": 149,
   "id": "239cf894-4b8b-4923-8707-bb1a9e73fa03",
   "metadata": {},
   "outputs": [],
   "source": [
    "def knn_fill_area_type(df, k=5):\n",
    "    missing_idx = df[df['Area_Type'].isna()].index\n",
    "    known_idx = df[df['Area_Type'].notna()].index\n",
    "    \n",
    "    for idx in missing_idx:\n",
    "        lat1 = df.loc[idx, 'Restaurant_latitude']\n",
    "        lon1 = df.loc[idx, 'Restaurant_longitude']\n",
    "        distances = []\n",
    "        for i in known_idx:\n",
    "            lat2 = df.loc[i, 'Restaurant_latitude']\n",
    "            lon2 = df.loc[i, 'Restaurant_longitude']\n",
    "            dist = haversine(lat1, lon1, lat2, lon2)\n",
    "            distances.append((i, dist))\n",
    "        distances.sort(key=lambda x: x[1])\n",
    "        knn_indices = [i for i, d in distances[:k]]\n",
    "        knn_area_types = df.loc[knn_indices, 'Area_Type']\n",
    "        most_common = Counter(knn_area_types).most_common(1)[0][0]\n",
    "        df.at[idx, 'Area_Type'] = most_common\n",
    "\n",
    "    return df\n",
    "\n",
    "df = knn_fill_area_type(df, k=5)"
   ]
  },
  {
   "cell_type": "code",
   "execution_count": 150,
   "id": "f1175c34-c22c-43bb-88f0-3678752017cb",
   "metadata": {},
   "outputs": [
    {
     "name": "stdout",
     "output_type": "stream",
     "text": [
      "Series([], dtype: int64)\n"
     ]
    }
   ],
   "source": [
    "checkNull()"
   ]
  },
  {
   "cell_type": "code",
   "execution_count": 151,
   "id": "b0b05248-1706-481c-89d8-c2b1dc98c033",
   "metadata": {},
   "outputs": [
    {
     "data": {
      "text/html": [
       "<div>\n",
       "<style scoped>\n",
       "    .dataframe tbody tr th:only-of-type {\n",
       "        vertical-align: middle;\n",
       "    }\n",
       "\n",
       "    .dataframe tbody tr th {\n",
       "        vertical-align: top;\n",
       "    }\n",
       "\n",
       "    .dataframe thead th {\n",
       "        text-align: right;\n",
       "    }\n",
       "</style>\n",
       "<table border=\"1\" class=\"dataframe\">\n",
       "  <thead>\n",
       "    <tr style=\"text-align: right;\">\n",
       "      <th></th>\n",
       "      <th>Delivery_person_ID</th>\n",
       "      <th>Delivery_person_Age</th>\n",
       "      <th>Delivery_person_Ratings</th>\n",
       "      <th>Restaurant_latitude</th>\n",
       "      <th>Restaurant_longitude</th>\n",
       "      <th>Delivery_location_latitude</th>\n",
       "      <th>Delivery_location_longitude</th>\n",
       "      <th>Order_Date</th>\n",
       "      <th>Time_Ordered</th>\n",
       "      <th>Time_Order_picked</th>\n",
       "      <th>...</th>\n",
       "      <th>Time_taken(min)</th>\n",
       "      <th>Pickup_delay</th>\n",
       "      <th>Distance(Km)</th>\n",
       "      <th>Day</th>\n",
       "      <th>Month</th>\n",
       "      <th>Year</th>\n",
       "      <th>Day_of_week</th>\n",
       "      <th>Is_month_start</th>\n",
       "      <th>Is_month_end</th>\n",
       "      <th>Is_weekend</th>\n",
       "    </tr>\n",
       "  </thead>\n",
       "  <tbody>\n",
       "    <tr>\n",
       "      <th>0</th>\n",
       "      <td>INDORES13DEL02</td>\n",
       "      <td>37.0</td>\n",
       "      <td>4.9</td>\n",
       "      <td>22.745049</td>\n",
       "      <td>75.892471</td>\n",
       "      <td>22.765049</td>\n",
       "      <td>75.912471</td>\n",
       "      <td>2022-03-19</td>\n",
       "      <td>11:35:00</td>\n",
       "      <td>11:45:00</td>\n",
       "      <td>...</td>\n",
       "      <td>24</td>\n",
       "      <td>15.0</td>\n",
       "      <td>3.025149</td>\n",
       "      <td>19</td>\n",
       "      <td>3</td>\n",
       "      <td>2022</td>\n",
       "      <td>5</td>\n",
       "      <td>0</td>\n",
       "      <td>0</td>\n",
       "      <td>1</td>\n",
       "    </tr>\n",
       "    <tr>\n",
       "      <th>1</th>\n",
       "      <td>BANGRES18DEL02</td>\n",
       "      <td>34.0</td>\n",
       "      <td>4.5</td>\n",
       "      <td>12.913041</td>\n",
       "      <td>77.683237</td>\n",
       "      <td>13.043041</td>\n",
       "      <td>77.813237</td>\n",
       "      <td>2022-03-25</td>\n",
       "      <td>19:40:00</td>\n",
       "      <td>19:50:00</td>\n",
       "      <td>...</td>\n",
       "      <td>33</td>\n",
       "      <td>5.0</td>\n",
       "      <td>20.183530</td>\n",
       "      <td>25</td>\n",
       "      <td>3</td>\n",
       "      <td>2022</td>\n",
       "      <td>4</td>\n",
       "      <td>0</td>\n",
       "      <td>0</td>\n",
       "      <td>0</td>\n",
       "    </tr>\n",
       "    <tr>\n",
       "      <th>2</th>\n",
       "      <td>BANGRES19DEL01</td>\n",
       "      <td>23.0</td>\n",
       "      <td>4.4</td>\n",
       "      <td>12.914264</td>\n",
       "      <td>77.678400</td>\n",
       "      <td>12.924264</td>\n",
       "      <td>77.688400</td>\n",
       "      <td>2022-03-19</td>\n",
       "      <td>08:35:00</td>\n",
       "      <td>08:45:00</td>\n",
       "      <td>...</td>\n",
       "      <td>26</td>\n",
       "      <td>15.0</td>\n",
       "      <td>1.552758</td>\n",
       "      <td>19</td>\n",
       "      <td>3</td>\n",
       "      <td>2022</td>\n",
       "      <td>5</td>\n",
       "      <td>0</td>\n",
       "      <td>0</td>\n",
       "      <td>1</td>\n",
       "    </tr>\n",
       "    <tr>\n",
       "      <th>3</th>\n",
       "      <td>COIMBRES13DEL02</td>\n",
       "      <td>38.0</td>\n",
       "      <td>4.7</td>\n",
       "      <td>11.003669</td>\n",
       "      <td>76.976494</td>\n",
       "      <td>11.053669</td>\n",
       "      <td>77.026494</td>\n",
       "      <td>2022-04-05</td>\n",
       "      <td>18:00:00</td>\n",
       "      <td>18:10:00</td>\n",
       "      <td>...</td>\n",
       "      <td>21</td>\n",
       "      <td>10.0</td>\n",
       "      <td>7.790401</td>\n",
       "      <td>5</td>\n",
       "      <td>4</td>\n",
       "      <td>2022</td>\n",
       "      <td>1</td>\n",
       "      <td>0</td>\n",
       "      <td>0</td>\n",
       "      <td>0</td>\n",
       "    </tr>\n",
       "    <tr>\n",
       "      <th>4</th>\n",
       "      <td>CHENRES12DEL01</td>\n",
       "      <td>32.0</td>\n",
       "      <td>4.6</td>\n",
       "      <td>12.972793</td>\n",
       "      <td>80.249982</td>\n",
       "      <td>13.012793</td>\n",
       "      <td>80.289982</td>\n",
       "      <td>2022-03-26</td>\n",
       "      <td>13:35:00</td>\n",
       "      <td>13:45:00</td>\n",
       "      <td>...</td>\n",
       "      <td>30</td>\n",
       "      <td>15.0</td>\n",
       "      <td>6.210138</td>\n",
       "      <td>26</td>\n",
       "      <td>3</td>\n",
       "      <td>2022</td>\n",
       "      <td>5</td>\n",
       "      <td>0</td>\n",
       "      <td>0</td>\n",
       "      <td>1</td>\n",
       "    </tr>\n",
       "  </tbody>\n",
       "</table>\n",
       "<p>5 rows × 28 columns</p>\n",
       "</div>"
      ],
      "text/plain": [
       "  Delivery_person_ID  Delivery_person_Age  Delivery_person_Ratings  \\\n",
       "0    INDORES13DEL02                  37.0                      4.9   \n",
       "1    BANGRES18DEL02                  34.0                      4.5   \n",
       "2    BANGRES19DEL01                  23.0                      4.4   \n",
       "3   COIMBRES13DEL02                  38.0                      4.7   \n",
       "4    CHENRES12DEL01                  32.0                      4.6   \n",
       "\n",
       "   Restaurant_latitude  Restaurant_longitude  Delivery_location_latitude  \\\n",
       "0            22.745049             75.892471                   22.765049   \n",
       "1            12.913041             77.683237                   13.043041   \n",
       "2            12.914264             77.678400                   12.924264   \n",
       "3            11.003669             76.976494                   11.053669   \n",
       "4            12.972793             80.249982                   13.012793   \n",
       "\n",
       "   Delivery_location_longitude Order_Date Time_Ordered Time_Order_picked  ...  \\\n",
       "0                    75.912471 2022-03-19     11:35:00          11:45:00  ...   \n",
       "1                    77.813237 2022-03-25     19:40:00          19:50:00  ...   \n",
       "2                    77.688400 2022-03-19     08:35:00          08:45:00  ...   \n",
       "3                    77.026494 2022-04-05     18:00:00          18:10:00  ...   \n",
       "4                    80.289982 2022-03-26     13:35:00          13:45:00  ...   \n",
       "\n",
       "  Time_taken(min) Pickup_delay  Distance(Km) Day Month  Year Day_of_week  \\\n",
       "0              24         15.0      3.025149  19     3  2022           5   \n",
       "1              33          5.0     20.183530  25     3  2022           4   \n",
       "2              26         15.0      1.552758  19     3  2022           5   \n",
       "3              21         10.0      7.790401   5     4  2022           1   \n",
       "4              30         15.0      6.210138  26     3  2022           5   \n",
       "\n",
       "  Is_month_start  Is_month_end  Is_weekend  \n",
       "0              0             0           1  \n",
       "1              0             0           0  \n",
       "2              0             0           1  \n",
       "3              0             0           0  \n",
       "4              0             0           1  \n",
       "\n",
       "[5 rows x 28 columns]"
      ]
     },
     "execution_count": 151,
     "metadata": {},
     "output_type": "execute_result"
    }
   ],
   "source": [
    "def extract_date_features(data):\n",
    "    data[\"Day\"] = data.Order_Date.dt.day\n",
    "    data[\"Month\"] = data.Order_Date.dt.month\n",
    "    data[\"Year\"] = data.Order_Date.dt.year\n",
    "    data['Day_of_week'] = data.Order_Date.dt.day_of_week.astype(int)\n",
    "    data[\"Is_month_start\"] = data.Order_Date.dt.is_month_start.astype(int)\n",
    "    data[\"Is_month_end\"] = data.Order_Date.dt.is_month_end.astype(int)\n",
    "    data['Is_weekend'] = np.where(data['Day_of_week'].isin([5,6]),1,0)\n",
    "\n",
    "extract_date_features(df)\n",
    "df.head()"
   ]
  },
  {
   "cell_type": "code",
   "execution_count": 206,
   "id": "d004197a-9f67-415c-918b-de9e5ba8f0b0",
   "metadata": {},
   "outputs": [],
   "source": [
    "df.to_csv('CleanedData.csv', index=False)"
   ]
  }
 ],
 "metadata": {
  "kernelspec": {
   "display_name": "Python 3 (ipykernel)",
   "language": "python",
   "name": "python3"
  },
  "language_info": {
   "codemirror_mode": {
    "name": "ipython",
    "version": 3
   },
   "file_extension": ".py",
   "mimetype": "text/x-python",
   "name": "python",
   "nbconvert_exporter": "python",
   "pygments_lexer": "ipython3",
   "version": "3.12.3"
  }
 },
 "nbformat": 4,
 "nbformat_minor": 5
}
